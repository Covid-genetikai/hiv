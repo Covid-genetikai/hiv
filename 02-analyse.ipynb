{
 "cells": [
  {
   "cell_type": "code",
   "execution_count": 1,
   "id": "pointed-actress",
   "metadata": {
    "ExecuteTime": {
     "end_time": "2022-04-11T18:11:19.599867Z",
     "start_time": "2022-04-11T18:11:19.318148Z"
    }
   },
   "outputs": [],
   "source": [
    "import pandas as pd\n",
    "from pandas_profiling import ProfileReport\n",
    "from pathlib import Path"
   ]
  },
  {
   "cell_type": "code",
   "execution_count": 2,
   "id": "supported-prairie",
   "metadata": {},
   "outputs": [],
   "source": [
    "data_path = Path(\"/data/hiv/data\")"
   ]
  },
  {
   "cell_type": "code",
   "execution_count": 5,
   "id": "strange-watch",
   "metadata": {},
   "outputs": [],
   "source": [
    "df = pd.read_csv(data_path.joinpath(\"1-pol-PISPIET.csv\"))"
   ]
  },
  {
   "cell_type": "code",
   "execution_count": 6,
   "id": "australian-history",
   "metadata": {},
   "outputs": [
    {
     "data": {
      "text/html": [
       "<div>\n",
       "<style scoped>\n",
       "    .dataframe tbody tr th:only-of-type {\n",
       "        vertical-align: middle;\n",
       "    }\n",
       "\n",
       "    .dataframe tbody tr th {\n",
       "        vertical-align: top;\n",
       "    }\n",
       "\n",
       "    .dataframe thead th {\n",
       "        text-align: right;\n",
       "    }\n",
       "</style>\n",
       "<table border=\"1\" class=\"dataframe\">\n",
       "  <thead>\n",
       "    <tr style=\"text-align: right;\">\n",
       "      <th></th>\n",
       "      <th>accession</th>\n",
       "      <th>pol</th>\n",
       "    </tr>\n",
       "  </thead>\n",
       "  <tbody>\n",
       "    <tr>\n",
       "      <th>0</th>\n",
       "      <td>AB098332</td>\n",
       "      <td>FFRENLAFQQGEARKFPSEQTGANSPTSRDLWNGGRDSLPSEAGAE...</td>\n",
       "    </tr>\n",
       "    <tr>\n",
       "      <th>1</th>\n",
       "      <td>AB098333</td>\n",
       "      <td>FFRENLAFQQGEARKFPSEQTGANSPTSRDLWNGGRDSLPSEAGAE...</td>\n",
       "    </tr>\n",
       "    <tr>\n",
       "      <th>2</th>\n",
       "      <td>AB221125</td>\n",
       "      <td>FFRENLAFQQGEAREFPSEQTRANSPTRRELQVWGEDNNSLSEAGA...</td>\n",
       "    </tr>\n",
       "    <tr>\n",
       "      <th>3</th>\n",
       "      <td>AB221126</td>\n",
       "      <td>FFRENLAFQQGEAREFPSEQTRANSPTRRELQVWGEDNNSLSEAGA...</td>\n",
       "    </tr>\n",
       "    <tr>\n",
       "      <th>4</th>\n",
       "      <td>AB231893</td>\n",
       "      <td>FFRENLAFQQGEAREFSSEQARAISSTSRELRVREGDSPLPEAGAE...</td>\n",
       "    </tr>\n",
       "    <tr>\n",
       "      <th>...</th>\n",
       "      <td>...</td>\n",
       "      <td>...</td>\n",
       "    </tr>\n",
       "    <tr>\n",
       "      <th>224063</th>\n",
       "      <td>MZ468890</td>\n",
       "      <td>PQITLWQRPLVTVKIGGQLKEALLDTGADDTVLEEMNLPGRWKPKM...</td>\n",
       "    </tr>\n",
       "    <tr>\n",
       "      <th>224064</th>\n",
       "      <td>MZ468891</td>\n",
       "      <td>PQITLWQRPIVTVRIEGQLKDALLDTGADDTVLEDMTLPGRWKPKM...</td>\n",
       "    </tr>\n",
       "    <tr>\n",
       "      <th>224065</th>\n",
       "      <td>MZ468892</td>\n",
       "      <td>PQITLWQRPLVTIKIGGQLKEALLDTGADDTVLEEMNLPGRWKPKM...</td>\n",
       "    </tr>\n",
       "    <tr>\n",
       "      <th>224066</th>\n",
       "      <td>MZ468893</td>\n",
       "      <td>PQITLWQRXIVTVXVGGQLKEALLDTGADDTVLEDMNLQGKWKPKM...</td>\n",
       "    </tr>\n",
       "    <tr>\n",
       "      <th>224067</th>\n",
       "      <td>MZ468894</td>\n",
       "      <td>PQITLWQRPLVTIKIGGQLKEALLDTGADDTVLEEMNLPGRWKPKM...</td>\n",
       "    </tr>\n",
       "  </tbody>\n",
       "</table>\n",
       "<p>224068 rows × 2 columns</p>\n",
       "</div>"
      ],
      "text/plain": [
       "       accession                                                pol\n",
       "0       AB098332  FFRENLAFQQGEARKFPSEQTGANSPTSRDLWNGGRDSLPSEAGAE...\n",
       "1       AB098333  FFRENLAFQQGEARKFPSEQTGANSPTSRDLWNGGRDSLPSEAGAE...\n",
       "2       AB221125  FFRENLAFQQGEAREFPSEQTRANSPTRRELQVWGEDNNSLSEAGA...\n",
       "3       AB221126  FFRENLAFQQGEAREFPSEQTRANSPTRRELQVWGEDNNSLSEAGA...\n",
       "4       AB231893  FFRENLAFQQGEAREFSSEQARAISSTSRELRVREGDSPLPEAGAE...\n",
       "...          ...                                                ...\n",
       "224063  MZ468890  PQITLWQRPLVTVKIGGQLKEALLDTGADDTVLEEMNLPGRWKPKM...\n",
       "224064  MZ468891  PQITLWQRPIVTVRIEGQLKDALLDTGADDTVLEDMTLPGRWKPKM...\n",
       "224065  MZ468892  PQITLWQRPLVTIKIGGQLKEALLDTGADDTVLEEMNLPGRWKPKM...\n",
       "224066  MZ468893  PQITLWQRXIVTVXVGGQLKEALLDTGADDTVLEDMNLQGKWKPKM...\n",
       "224067  MZ468894  PQITLWQRPLVTIKIGGQLKEALLDTGADDTVLEEMNLPGRWKPKM...\n",
       "\n",
       "[224068 rows x 2 columns]"
      ]
     },
     "execution_count": 6,
     "metadata": {},
     "output_type": "execute_result"
    }
   ],
   "source": [
    "df"
   ]
  },
  {
   "cell_type": "code",
   "execution_count": 7,
   "id": "indoor-spokesman",
   "metadata": {},
   "outputs": [
    {
     "data": {
      "application/vnd.jupyter.widget-view+json": {
       "model_id": "4faff700e1ca4d928bdb18ee7b6d12d0",
       "version_major": 2,
       "version_minor": 0
      },
      "text/plain": [
       "Summarize dataset:   0%|          | 0/5 [00:00<?, ?it/s]"
      ]
     },
     "metadata": {},
     "output_type": "display_data"
    },
    {
     "data": {
      "application/vnd.jupyter.widget-view+json": {
       "model_id": "40c3f9309469477ba30eb02649e7ef74",
       "version_major": 2,
       "version_minor": 0
      },
      "text/plain": [
       "Generate report structure:   0%|          | 0/1 [00:00<?, ?it/s]"
      ]
     },
     "metadata": {},
     "output_type": "display_data"
    },
    {
     "data": {
      "application/vnd.jupyter.widget-view+json": {
       "model_id": "dcd12fd9ce414e11a46f22c33a51f463",
       "version_major": 2,
       "version_minor": 0
      },
      "text/plain": [
       "Render HTML:   0%|          | 0/1 [00:00<?, ?it/s]"
      ]
     },
     "metadata": {},
     "output_type": "display_data"
    },
    {
     "data": {
      "application/vnd.jupyter.widget-view+json": {
       "model_id": "1f4e21a43ca34edc910a943a0a207aa3",
       "version_major": 2,
       "version_minor": 0
      },
      "text/plain": [
       "Export report to file:   0%|          | 0/1 [00:00<?, ?it/s]"
      ]
     },
     "metadata": {},
     "output_type": "display_data"
    }
   ],
   "source": [
    "profile = ProfileReport(df, title=\"HIV data report\")\n",
    "profile.to_file(data_path.joinpath(\"1-pol-PISPIET-report.html\"))"
   ]
  },
  {
   "cell_type": "code",
   "execution_count": null,
   "id": "exposed-mistake",
   "metadata": {},
   "outputs": [],
   "source": [
    "# df = df[df['pol'].str.contains(\"PISPIET\")]"
   ]
  },
  {
   "cell_type": "code",
   "execution_count": null,
   "id": "ultimate-tobacco",
   "metadata": {},
   "outputs": [],
   "source": [
    "df"
   ]
  },
  {
   "cell_type": "code",
   "execution_count": null,
   "id": "postal-dividend",
   "metadata": {},
   "outputs": [],
   "source": [
    "# bad_letters = [\"J\", \"X\"]\n",
    "# df = df[~df['pol'].str.contains(\"|\".join(bad_letters))]"
   ]
  },
  {
   "cell_type": "code",
   "execution_count": null,
   "id": "imported-plastic",
   "metadata": {},
   "outputs": [],
   "source": [
    "df = df[df['pol'].str.contains(\"PISPIET\")]"
   ]
  },
  {
   "cell_type": "code",
   "execution_count": null,
   "id": "intensive-cattle",
   "metadata": {},
   "outputs": [],
   "source": [
    "df"
   ]
  },
  {
   "cell_type": "code",
   "execution_count": null,
   "id": "synthetic-greek",
   "metadata": {},
   "outputs": [],
   "source": [
    "for gene in GENES:\n",
    "    sub_df = df[[\"accession\", gene]]\n",
    "    sub_df.to_csv(Path(data_path).joinpath(f\"1-{gene}-PISPIET.csv\"), index=False)   \n",
    "    \n",
    "    with open(Path(data_path).joinpath(f\"1-{gene}-PISPIET.fasta\"), \"w\") as fasta_file:\n",
    "        for _, row in df.iterrows():\n",
    "            fasta_file.write(f\">{row['accession']}\\n\")\n",
    "            fasta_file.write(f\"{row[gene]}\\n\")\n",
    "    "
   ]
  },
  {
   "cell_type": "code",
   "execution_count": null,
   "id": "iraqi-uzbekistan",
   "metadata": {
    "ExecuteTime": {
     "end_time": "2022-04-11T18:36:44.568705Z",
     "start_time": "2022-04-11T18:11:19.329Z"
    }
   },
   "outputs": [],
   "source": [
    "!jupyter nbconvert --to script 01-build-dataset.ipynb --no-prompt"
   ]
  }
 ],
 "metadata": {
  "kernelspec": {
   "display_name": "Python 3",
   "language": "python",
   "name": "python3"
  },
  "language_info": {
   "codemirror_mode": {
    "name": "ipython",
    "version": 3
   },
   "file_extension": ".py",
   "mimetype": "text/x-python",
   "name": "python",
   "nbconvert_exporter": "python",
   "pygments_lexer": "ipython3",
   "version": "3.8.10"
  },
  "varInspector": {
   "cols": {
    "lenName": 16,
    "lenType": 16,
    "lenVar": 40
   },
   "kernels_config": {
    "python": {
     "delete_cmd_postfix": "",
     "delete_cmd_prefix": "del ",
     "library": "var_list.py",
     "varRefreshCmd": "print(var_dic_list())"
    },
    "r": {
     "delete_cmd_postfix": ") ",
     "delete_cmd_prefix": "rm(",
     "library": "var_list.r",
     "varRefreshCmd": "cat(var_dic_list()) "
    }
   },
   "types_to_exclude": [
    "module",
    "function",
    "builtin_function_or_method",
    "instance",
    "_Feature"
   ],
   "window_display": false
  }
 },
 "nbformat": 4,
 "nbformat_minor": 5
}
