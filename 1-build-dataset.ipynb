{
 "cells": [
  {
   "cell_type": "code",
   "execution_count": 60,
   "id": "pointed-actress",
   "metadata": {
    "ExecuteTime": {
     "end_time": "2021-12-17T12:45:43.406920Z",
     "start_time": "2021-12-17T12:45:43.400971Z"
    }
   },
   "outputs": [],
   "source": [
    "from Bio import GenBank\n",
    "from pathlib import Path\n",
    "import pandas as pd\n"
   ]
  },
  {
   "cell_type": "code",
   "execution_count": 22,
   "id": "facial-assumption",
   "metadata": {
    "ExecuteTime": {
     "end_time": "2021-12-17T12:22:46.466065Z",
     "start_time": "2021-12-17T12:22:46.459247Z"
    }
   },
   "outputs": [],
   "source": [
    "data_path = \"/hiv/data\"\n",
    "data_path = \"/home/mantydze/hiv/hiv\""
   ]
  },
  {
   "cell_type": "code",
   "execution_count": 58,
   "id": "ceramic-solomon",
   "metadata": {
    "ExecuteTime": {
     "end_time": "2021-12-17T12:45:23.970895Z",
     "start_time": "2021-12-17T12:45:23.951979Z"
    }
   },
   "outputs": [],
   "source": [
    "def parse_file(filename):\n",
    "    data = []\n",
    "    with open(filename, \"r\") as handle:\n",
    "        for record in GenBank.parse(handle):\n",
    "\n",
    "            # Mums idomus tik tiek kur yra 'HIV' SOURCE eilutej\n",
    "            ## SOURCE      Human immunodeficiency virus 1 (HIV-1)\n",
    "            if 'HIV' in record.source:\n",
    "\n",
    "                obj = {\n",
    "                    \"accession\": record.accession[0], \n",
    "                    'length': len(record.sequence),\n",
    "                    \"sequence\": record.sequence       \n",
    "                    \n",
    "                }\n",
    "                \n",
    "                #[Feature(key='source', location='1..1686'), Feature(key='gene', location='<1..>1686'), Feature(key='CDS', location='<1..>1686')]\n",
    "                for feature in record.features:\n",
    "#                     print(feature.key)\n",
    "                    if feature.key == \"source\":\n",
    "                        # [Qualifier(key='/organism=', value='\"Human immunodeficiency virus 1\"'), Qualifier(key='/proviral', value=''), Qualifier(key='/mol_type=', value='\"genomic DNA\"'), Qualifier(key='/db_xref=', value='\"taxon:11676\"'), Qualifier(key='/country=', value='\"Spain\"')]\n",
    "#                         for qualifier in qualifiers:\n",
    "                                \n",
    "                        for qualifier in feature.qualifiers:\n",
    "                            if qualifier.key == \"/country=\":\n",
    "                                obj[\"country\"] = qualifier.value.replace('\"','').replace(\"'\", \"\")\n",
    "                    \n",
    "                    \n",
    "                    if feature.key == \"gene\":\n",
    "                        pass\n",
    "                    \n",
    "                    if feature.key == \"CDS\":\n",
    "                        gene = None\n",
    "                        protein = None\n",
    "                        \n",
    "                        for qualifier in feature.qualifiers:\n",
    "                            if qualifier.key == \"/gene=\":\n",
    "                                gene = qualifier.value.replace('\"','').replace(\"'\", \"\").lower()\n",
    "                            \n",
    "                            if qualifier.key == \"/translation=\":\n",
    "                                protein = qualifier.value.replace('\"','').replace(\"'\", \"\")\n",
    "                        \n",
    "                       # genu pavadinimuose yra nemazai siuksliu, camel case ir t.t.\n",
    "                    \n",
    "                       # ['pol', 'env', 'gag',\n",
    "                       #'vpr', 'vif', 'tat', 'rev', 'vpu', 'nef', 'gag-pol', 'rev1', 'gp120',\n",
    "                       #'reverse transcriptase', 'HIV-1 protease', 'RT', 'protease', 'PR',\n",
    "                       #'p24', 'envelope', 'gp160', 'tat/rev', 'vpu*', 'rt', 'ORF',\n",
    "                       #'v-1 PROTEASE', 'Gag', 'Pol', 'Vif', 'Vpr', 'Tat', 'Rev', 'Vpu', 'Env',\n",
    "                       #'Nef', 'pro', 'as', 'v-1 reverse transcriptase', 'v-1 protease', 'Pro',\n",
    "                       #'V-1 protease', 'V-1 reverse transcriptase', 'polyprotein', 'rnv', 'gg',\n",
    "                       #'env V3', 'gp41', 'GP160', 'GP120', 'GP41', 'env gene', 'RAK alpha',\n",
    "                       #'V3', 'c2v3', 'vpx']\n",
    "                        \n",
    "                        if protein and gene and gene in ['pol', 'env', 'gag', 'vpr', 'vif', 'tat', 'rev', 'vpu', 'nef']:\n",
    "                            obj[gene] = protein                           \n",
    "                        \n",
    "                data.append(obj)\n",
    "                \n",
    "    return data\n",
    "                "
   ]
  },
  {
   "cell_type": "code",
   "execution_count": 61,
   "id": "conventional-detroit",
   "metadata": {
    "ExecuteTime": {
     "end_time": "2021-12-17T12:46:47.544190Z",
     "start_time": "2021-12-17T12:45:45.763362Z"
    }
   },
   "outputs": [
    {
     "name": "stdout",
     "output_type": "stream",
     "text": [
      "Parsing /home/mantydze/hiv/hiv/gbvrl2.seq\n",
      "Parsing /home/mantydze/hiv/hiv/gbvrl1.seq\n"
     ]
    }
   ],
   "source": [
    "data = []\n",
    "for filename in Path(data_path).glob(\"*.seq\"):\n",
    "    print(f\"Parsing {filename}\")\n",
    "    data.extend(parse_file(filename))"
   ]
  },
  {
   "cell_type": "code",
   "execution_count": 71,
   "id": "objective-record",
   "metadata": {
    "ExecuteTime": {
     "end_time": "2021-12-17T12:50:50.233146Z",
     "start_time": "2021-12-17T12:50:49.944796Z"
    }
   },
   "outputs": [
    {
     "data": {
      "text/html": [
       "<div>\n",
       "<style scoped>\n",
       "    .dataframe tbody tr th:only-of-type {\n",
       "        vertical-align: middle;\n",
       "    }\n",
       "\n",
       "    .dataframe tbody tr th {\n",
       "        vertical-align: top;\n",
       "    }\n",
       "\n",
       "    .dataframe thead th {\n",
       "        text-align: right;\n",
       "    }\n",
       "</style>\n",
       "<table border=\"1\" class=\"dataframe\">\n",
       "  <thead>\n",
       "    <tr style=\"text-align: right;\">\n",
       "      <th></th>\n",
       "      <th>accession</th>\n",
       "      <th>length</th>\n",
       "      <th>sequence</th>\n",
       "      <th>country</th>\n",
       "      <th>pol</th>\n",
       "      <th>env</th>\n",
       "      <th>gag</th>\n",
       "      <th>vpr</th>\n",
       "      <th>vif</th>\n",
       "      <th>tat</th>\n",
       "      <th>rev</th>\n",
       "      <th>vpu</th>\n",
       "      <th>nef</th>\n",
       "    </tr>\n",
       "  </thead>\n",
       "  <tbody>\n",
       "    <tr>\n",
       "      <th>0</th>\n",
       "      <td>AF304024</td>\n",
       "      <td>1686</td>\n",
       "      <td>CCCATTAGTCCTATTGAAACTGTACCAGTAAAATTAAAGCCCGGGA...</td>\n",
       "      <td>Spain</td>\n",
       "      <td>PISPIETVPVKLKPGMDGPKVKQWPLTEEKIKALVEICTELEEEGK...</td>\n",
       "      <td>NaN</td>\n",
       "      <td>NaN</td>\n",
       "      <td>NaN</td>\n",
       "      <td>NaN</td>\n",
       "      <td>NaN</td>\n",
       "      <td>NaN</td>\n",
       "      <td>NaN</td>\n",
       "      <td>NaN</td>\n",
       "    </tr>\n",
       "    <tr>\n",
       "      <th>1</th>\n",
       "      <td>AF307161</td>\n",
       "      <td>264</td>\n",
       "      <td>GTGGTAATTAGATCCGCCAATTTATCGGACAATACTAAAACTATAA...</td>\n",
       "      <td>Italy</td>\n",
       "      <td>NaN</td>\n",
       "      <td>VVIRSANLSDNTKTIIVQLNETVEINCTRPNNNTRKSINIGPGRAF...</td>\n",
       "      <td>NaN</td>\n",
       "      <td>NaN</td>\n",
       "      <td>NaN</td>\n",
       "      <td>NaN</td>\n",
       "      <td>NaN</td>\n",
       "      <td>NaN</td>\n",
       "      <td>NaN</td>\n",
       "    </tr>\n",
       "    <tr>\n",
       "      <th>2</th>\n",
       "      <td>AF307162</td>\n",
       "      <td>267</td>\n",
       "      <td>GTAGTAATTAGATCCAGCAATTTCTCGGACAATGCTAAAATCATAA...</td>\n",
       "      <td>Italy</td>\n",
       "      <td>NaN</td>\n",
       "      <td>VVIRSSNFSDNAKIIIVQLNASVEINCTRPNNNTRKSIPIGPGRAF...</td>\n",
       "      <td>NaN</td>\n",
       "      <td>NaN</td>\n",
       "      <td>NaN</td>\n",
       "      <td>NaN</td>\n",
       "      <td>NaN</td>\n",
       "      <td>NaN</td>\n",
       "      <td>NaN</td>\n",
       "    </tr>\n",
       "    <tr>\n",
       "      <th>3</th>\n",
       "      <td>AF307163</td>\n",
       "      <td>264</td>\n",
       "      <td>GTAATAATTAGATCCGAAAATTTCACGAACAATGCTAAAATCATAA...</td>\n",
       "      <td>Italy</td>\n",
       "      <td>NaN</td>\n",
       "      <td>VIIRSENFTNNAKIIIVQLNETVEINCTRPNNNTRKSIHIGPGRAF...</td>\n",
       "      <td>NaN</td>\n",
       "      <td>NaN</td>\n",
       "      <td>NaN</td>\n",
       "      <td>NaN</td>\n",
       "      <td>NaN</td>\n",
       "      <td>NaN</td>\n",
       "      <td>NaN</td>\n",
       "    </tr>\n",
       "    <tr>\n",
       "      <th>4</th>\n",
       "      <td>AF307164</td>\n",
       "      <td>264</td>\n",
       "      <td>GTAGTAATTAGATCCGAGAATTTCACGAACAATGCTAAAAGCATAA...</td>\n",
       "      <td>Italy</td>\n",
       "      <td>NaN</td>\n",
       "      <td>VVIRSENFTNNAKSIIVQLNESVEINCTRPSNNTRRSIHIGPGRAF...</td>\n",
       "      <td>NaN</td>\n",
       "      <td>NaN</td>\n",
       "      <td>NaN</td>\n",
       "      <td>NaN</td>\n",
       "      <td>NaN</td>\n",
       "      <td>NaN</td>\n",
       "      <td>NaN</td>\n",
       "    </tr>\n",
       "    <tr>\n",
       "      <th>...</th>\n",
       "      <td>...</td>\n",
       "      <td>...</td>\n",
       "      <td>...</td>\n",
       "      <td>...</td>\n",
       "      <td>...</td>\n",
       "      <td>...</td>\n",
       "      <td>...</td>\n",
       "      <td>...</td>\n",
       "      <td>...</td>\n",
       "      <td>...</td>\n",
       "      <td>...</td>\n",
       "      <td>...</td>\n",
       "      <td>...</td>\n",
       "    </tr>\n",
       "    <tr>\n",
       "      <th>92187</th>\n",
       "      <td>AF301370</td>\n",
       "      <td>917</td>\n",
       "      <td>CCCATTAGTCCTATTGAAACTGTACCAGTAAAATTAAAGCCAGGAA...</td>\n",
       "      <td>USA: Dallas</td>\n",
       "      <td>PISPIETVPVKLKPGMDGPKVKQWPLTEEKIRALIEICTEMEKEGK...</td>\n",
       "      <td>NaN</td>\n",
       "      <td>NaN</td>\n",
       "      <td>NaN</td>\n",
       "      <td>NaN</td>\n",
       "      <td>NaN</td>\n",
       "      <td>NaN</td>\n",
       "      <td>NaN</td>\n",
       "      <td>NaN</td>\n",
       "    </tr>\n",
       "    <tr>\n",
       "      <th>92188</th>\n",
       "      <td>AF301371</td>\n",
       "      <td>628</td>\n",
       "      <td>GAAGAAAAAATAAAAGCATTAGTAGAAATTTGTACAGAAATGGAAA...</td>\n",
       "      <td>USA: San Diego</td>\n",
       "      <td>EEKIKALVEICTEMEKEGKISKIGPENPYNTPVFAIKKKDSTKWRK...</td>\n",
       "      <td>NaN</td>\n",
       "      <td>NaN</td>\n",
       "      <td>NaN</td>\n",
       "      <td>NaN</td>\n",
       "      <td>NaN</td>\n",
       "      <td>NaN</td>\n",
       "      <td>NaN</td>\n",
       "      <td>NaN</td>\n",
       "    </tr>\n",
       "    <tr>\n",
       "      <th>92189</th>\n",
       "      <td>AF301372</td>\n",
       "      <td>596</td>\n",
       "      <td>GAAGAAAAAATAAAAGCATTAGTAGAAATTTGTACAGAAATGGAAA...</td>\n",
       "      <td>USA: San Diego</td>\n",
       "      <td>EEKIKALVEICTEMEKEGKISKIGPENPYNTPVFAIKKKDSTKWRK...</td>\n",
       "      <td>NaN</td>\n",
       "      <td>NaN</td>\n",
       "      <td>NaN</td>\n",
       "      <td>NaN</td>\n",
       "      <td>NaN</td>\n",
       "      <td>NaN</td>\n",
       "      <td>NaN</td>\n",
       "      <td>NaN</td>\n",
       "    </tr>\n",
       "    <tr>\n",
       "      <th>92190</th>\n",
       "      <td>AF301373</td>\n",
       "      <td>612</td>\n",
       "      <td>GTAGAAATTTGTACAGAAATGGAAAAGGACGGAAAAATTTCAAAAA...</td>\n",
       "      <td>USA: San Diego</td>\n",
       "      <td>VEICTEMEKDGKISKIGPENPYNTPVFAIKKKDSTKWRKLVDFREL...</td>\n",
       "      <td>NaN</td>\n",
       "      <td>NaN</td>\n",
       "      <td>NaN</td>\n",
       "      <td>NaN</td>\n",
       "      <td>NaN</td>\n",
       "      <td>NaN</td>\n",
       "      <td>NaN</td>\n",
       "      <td>NaN</td>\n",
       "    </tr>\n",
       "    <tr>\n",
       "      <th>92191</th>\n",
       "      <td>AF301374</td>\n",
       "      <td>634</td>\n",
       "      <td>GAAATTTGTACAGAAATGGAAAAGGAGGGGAAAATTTCAAAAATTG...</td>\n",
       "      <td>USA: San Diego</td>\n",
       "      <td>EICTEMEKEGKISKIGPENPYNTPVFAIKKKDSTKWRKLVDFRELN...</td>\n",
       "      <td>NaN</td>\n",
       "      <td>NaN</td>\n",
       "      <td>NaN</td>\n",
       "      <td>NaN</td>\n",
       "      <td>NaN</td>\n",
       "      <td>NaN</td>\n",
       "      <td>NaN</td>\n",
       "      <td>NaN</td>\n",
       "    </tr>\n",
       "  </tbody>\n",
       "</table>\n",
       "<p>92192 rows × 13 columns</p>\n",
       "</div>"
      ],
      "text/plain": [
       "      accession  length                                           sequence  \\\n",
       "0      AF304024    1686  CCCATTAGTCCTATTGAAACTGTACCAGTAAAATTAAAGCCCGGGA...   \n",
       "1      AF307161     264  GTGGTAATTAGATCCGCCAATTTATCGGACAATACTAAAACTATAA...   \n",
       "2      AF307162     267  GTAGTAATTAGATCCAGCAATTTCTCGGACAATGCTAAAATCATAA...   \n",
       "3      AF307163     264  GTAATAATTAGATCCGAAAATTTCACGAACAATGCTAAAATCATAA...   \n",
       "4      AF307164     264  GTAGTAATTAGATCCGAGAATTTCACGAACAATGCTAAAAGCATAA...   \n",
       "...         ...     ...                                                ...   \n",
       "92187  AF301370     917  CCCATTAGTCCTATTGAAACTGTACCAGTAAAATTAAAGCCAGGAA...   \n",
       "92188  AF301371     628  GAAGAAAAAATAAAAGCATTAGTAGAAATTTGTACAGAAATGGAAA...   \n",
       "92189  AF301372     596  GAAGAAAAAATAAAAGCATTAGTAGAAATTTGTACAGAAATGGAAA...   \n",
       "92190  AF301373     612  GTAGAAATTTGTACAGAAATGGAAAAGGACGGAAAAATTTCAAAAA...   \n",
       "92191  AF301374     634  GAAATTTGTACAGAAATGGAAAAGGAGGGGAAAATTTCAAAAATTG...   \n",
       "\n",
       "              country                                                pol  \\\n",
       "0               Spain  PISPIETVPVKLKPGMDGPKVKQWPLTEEKIKALVEICTELEEEGK...   \n",
       "1               Italy                                                NaN   \n",
       "2               Italy                                                NaN   \n",
       "3               Italy                                                NaN   \n",
       "4               Italy                                                NaN   \n",
       "...               ...                                                ...   \n",
       "92187     USA: Dallas  PISPIETVPVKLKPGMDGPKVKQWPLTEEKIRALIEICTEMEKEGK...   \n",
       "92188  USA: San Diego  EEKIKALVEICTEMEKEGKISKIGPENPYNTPVFAIKKKDSTKWRK...   \n",
       "92189  USA: San Diego  EEKIKALVEICTEMEKEGKISKIGPENPYNTPVFAIKKKDSTKWRK...   \n",
       "92190  USA: San Diego  VEICTEMEKDGKISKIGPENPYNTPVFAIKKKDSTKWRKLVDFREL...   \n",
       "92191  USA: San Diego  EICTEMEKEGKISKIGPENPYNTPVFAIKKKDSTKWRKLVDFRELN...   \n",
       "\n",
       "                                                     env  gag  vpr  vif  tat  \\\n",
       "0                                                    NaN  NaN  NaN  NaN  NaN   \n",
       "1      VVIRSANLSDNTKTIIVQLNETVEINCTRPNNNTRKSINIGPGRAF...  NaN  NaN  NaN  NaN   \n",
       "2      VVIRSSNFSDNAKIIIVQLNASVEINCTRPNNNTRKSIPIGPGRAF...  NaN  NaN  NaN  NaN   \n",
       "3      VIIRSENFTNNAKIIIVQLNETVEINCTRPNNNTRKSIHIGPGRAF...  NaN  NaN  NaN  NaN   \n",
       "4      VVIRSENFTNNAKSIIVQLNESVEINCTRPSNNTRRSIHIGPGRAF...  NaN  NaN  NaN  NaN   \n",
       "...                                                  ...  ...  ...  ...  ...   \n",
       "92187                                                NaN  NaN  NaN  NaN  NaN   \n",
       "92188                                                NaN  NaN  NaN  NaN  NaN   \n",
       "92189                                                NaN  NaN  NaN  NaN  NaN   \n",
       "92190                                                NaN  NaN  NaN  NaN  NaN   \n",
       "92191                                                NaN  NaN  NaN  NaN  NaN   \n",
       "\n",
       "       rev  vpu  nef  \n",
       "0      NaN  NaN  NaN  \n",
       "1      NaN  NaN  NaN  \n",
       "2      NaN  NaN  NaN  \n",
       "3      NaN  NaN  NaN  \n",
       "4      NaN  NaN  NaN  \n",
       "...    ...  ...  ...  \n",
       "92187  NaN  NaN  NaN  \n",
       "92188  NaN  NaN  NaN  \n",
       "92189  NaN  NaN  NaN  \n",
       "92190  NaN  NaN  NaN  \n",
       "92191  NaN  NaN  NaN  \n",
       "\n",
       "[92192 rows x 13 columns]"
      ]
     },
     "execution_count": 71,
     "metadata": {},
     "output_type": "execute_result"
    }
   ],
   "source": [
    "df = pd.DataFrame(data)\n",
    "df"
   ]
  },
  {
   "cell_type": "code",
   "execution_count": 69,
   "id": "bigger-briefing",
   "metadata": {
    "ExecuteTime": {
     "end_time": "2021-12-17T12:49:00.323022Z",
     "start_time": "2021-12-17T12:49:00.268757Z"
    }
   },
   "outputs": [
    {
     "data": {
      "text/plain": [
       "accession    92192\n",
       "length       92192\n",
       "sequence     92192\n",
       "country      77877\n",
       "pol          37738\n",
       "env          32638\n",
       "gag           9729\n",
       "vpr           1255\n",
       "vif           1200\n",
       "tat           1532\n",
       "rev            956\n",
       "vpu           1422\n",
       "nef           3024\n",
       "dtype: int64"
      ]
     },
     "execution_count": 69,
     "metadata": {},
     "output_type": "execute_result"
    }
   ],
   "source": [
    "df.notnull().sum()"
   ]
  },
  {
   "cell_type": "code",
   "execution_count": 72,
   "id": "iraqi-uzbekistan",
   "metadata": {
    "ExecuteTime": {
     "end_time": "2021-12-17T12:50:57.031180Z",
     "start_time": "2021-12-17T12:50:55.449230Z"
    }
   },
   "outputs": [
    {
     "name": "stdout",
     "output_type": "stream",
     "text": [
      "[NbConvertApp] Converting notebook 1-build-dataset.ipynb to script\n",
      "[NbConvertApp] Writing 3952 bytes to 1-build-dataset.py\n"
     ]
    }
   ],
   "source": [
    "!jupyter nbconvert --to script 1-build-dataset.ipynb"
   ]
  }
 ],
 "metadata": {
  "kernelspec": {
   "display_name": "Python 3",
   "language": "python",
   "name": "python3"
  },
  "language_info": {
   "codemirror_mode": {
    "name": "ipython",
    "version": 3
   },
   "file_extension": ".py",
   "mimetype": "text/x-python",
   "name": "python",
   "nbconvert_exporter": "python",
   "pygments_lexer": "ipython3",
   "version": "3.8.10"
  },
  "varInspector": {
   "cols": {
    "lenName": 16,
    "lenType": 16,
    "lenVar": 40
   },
   "kernels_config": {
    "python": {
     "delete_cmd_postfix": "",
     "delete_cmd_prefix": "del ",
     "library": "var_list.py",
     "varRefreshCmd": "print(var_dic_list())"
    },
    "r": {
     "delete_cmd_postfix": ") ",
     "delete_cmd_prefix": "rm(",
     "library": "var_list.r",
     "varRefreshCmd": "cat(var_dic_list()) "
    }
   },
   "types_to_exclude": [
    "module",
    "function",
    "builtin_function_or_method",
    "instance",
    "_Feature"
   ],
   "window_display": false
  }
 },
 "nbformat": 4,
 "nbformat_minor": 5
}
