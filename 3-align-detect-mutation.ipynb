{
 "cells": [
  {
   "cell_type": "code",
   "execution_count": 1,
   "id": "e87ec7f1",
   "metadata": {
    "ExecuteTime": {
     "end_time": "2022-07-15T14:01:27.399625Z",
     "start_time": "2022-07-15T14:01:27.395774Z"
    }
   },
   "outputs": [],
   "source": [
    "# Install muscle3.8 for biopython\n",
    "# wget https://drive5.com/muscle/downloads3.8.31/muscle3.8.31_i86linux64.tar.gz\n",
    "# tar xvf muscle3.8.31_i86linux64.tar.gz \n",
    "# sudo cp muscle3.8.31_i86linux64 /usr/bin/muscle\n",
    "# sudo chmod +x /usr/bin/muscle"
   ]
  },
  {
   "cell_type": "code",
   "execution_count": 2,
   "id": "significant-third",
   "metadata": {
    "ExecuteTime": {
     "end_time": "2022-07-15T14:01:27.831960Z",
     "start_time": "2022-07-15T14:01:27.401908Z"
    }
   },
   "outputs": [],
   "source": [
    "from Bio import SeqIO\n",
    "from Bio.Seq import Seq\n",
    "from Bio.SeqRecord import SeqRecord\n",
    "from Bio.Align.Applications import MuscleCommandline\n",
    "from pathlib import Path\n",
    "import pandas as pd\n",
    "from collections import namedtuple"
   ]
  },
  {
   "cell_type": "code",
   "execution_count": 3,
   "id": "corrected-process",
   "metadata": {
    "ExecuteTime": {
     "end_time": "2022-07-15T14:01:27.835826Z",
     "start_time": "2022-07-15T14:01:27.833274Z"
    }
   },
   "outputs": [],
   "source": [
    "# Transkriptaze\n",
    "REF_SEQ_TRANS = \"PISPIETVPVKLKPGMDGPKVKQWPLTEEKIKALVEICTEMEKEGKISKIGPENPYNTPVFAIKKKDSTKWRKLVDFRELNKRTQDFWEVQLGIPHPAGLKKKKSVTVLDVGDAYFSVPLDEDFRKYTAFTIPSINNETPGIRYQYNVLPQGWKGSPAIFQSSMTKILEPFRKQNPDIVIYQYMDDLYVGSDLEIGQHRTKIEELRQHLLRWGLTTPDKKHQKEPPFLWMGYEL\"\n",
    "# Integraze\n",
    "REF_SEQ_INTEG = \"FLDGIDKAQDEHEKYHSNWRAMASDFNLPPVVAKEIVASCDKCQLKGEAMHGQVDCSPGIWQLDCTHLEGKVILVAVHVASGYIEAEVIPAETGQETAYFLLKLAGRWPVKTIHTDNGSNFTGATVRAACWWAGIKQEFGIPYNPQSQGVVESMNKELKKIIGQVRDQAEHLKTAVQMAVFIHNFKRKGGIGGYSAGERIVDIIATDIQTKELQKQITKIQNFRVYYRDSRNPLWKGPAKLLWKGEGAVVIQDNSDIKVVPRRKAKIIRDYGKQMAGDDCVASRQDED\""
   ]
  },
  {
   "cell_type": "code",
   "execution_count": 4,
   "id": "b6ff940b",
   "metadata": {
    "ExecuteTime": {
     "end_time": "2022-07-15T14:01:28.061267Z",
     "start_time": "2022-07-15T14:01:27.837670Z"
    }
   },
   "outputs": [],
   "source": [
    "trans_df = pd.read_csv(\"/data/hiv/data/transcriptase/2-transcriptase.csv\")\n",
    "integ_df = pd.read_csv(\"/data/hiv/data/integrase/2-integrase.csv\")"
   ]
  },
  {
   "cell_type": "code",
   "execution_count": 5,
   "id": "greek-tower",
   "metadata": {
    "ExecuteTime": {
     "end_time": "2022-07-15T14:01:28.069953Z",
     "start_time": "2022-07-15T14:01:28.062600Z"
    }
   },
   "outputs": [],
   "source": [
    "#\n",
    "# Norint atlikti teisinga alignment BUTINA naudoti muscle arba panasausu bioinformatikos toolsa, \n",
    "# kas kreipia demesi sekos sudeti. \n",
    "#\n",
    "# Paprastas pair_wise aligmentas veiks greiciau, taciau bus prarandamas sekos nuoseklumas.\n",
    "#\n",
    "def align_sequences(reference_seq, target_seq, working_dir=\"tmp\"):\n",
    "           \n",
    "    # Muscle uses files, need directory for temporary files\n",
    "    working_dir = Path(working_dir)\n",
    "    working_dir.mkdir(parents=True, exist_ok=True)\n",
    "    \n",
    "    # Input file contains two sequenes: first reference, second target sequence to compare with\n",
    "    input_file = working_dir.joinpath(f\"test_{hash(target_seq)}.fasta\")\n",
    "    aligned_file = working_dir.joinpath(f\"test_aligned_{hash(target_seq)}.fasta\")\n",
    "\n",
    "    sequences = [SeqRecord(Seq(reference_seq), id=\"reference\"), SeqRecord(Seq(target_seq), id=\"target\")]\n",
    "    SeqIO.write(sequences, input_file, \"fasta\")\n",
    "    \n",
    "    # Alignment\n",
    "    muscle_cline = MuscleCommandline(input=input_file, out=aligned_file)\n",
    "    muscle_cline()\n",
    "\n",
    "    reference_aln = None\n",
    "    target_aln = None\n",
    "    \n",
    "    # Read aligned sequences\n",
    "    aligned = SeqIO.parse(aligned_file, \"fasta\")\n",
    "    for seq in aligned:\n",
    "        if seq.id == \"reference\":\n",
    "            reference_aln = seq\n",
    "        elif seq.id == \"target\":\n",
    "            target_aln = seq\n",
    "\n",
    "    # Reference sequence map of {original:aligned} indices\n",
    "    index_map = {}\n",
    "    index_o = 0\n",
    "    for index_aln, c in enumerate(reference_aln.seq):\n",
    "        if c == \"-\":\n",
    "            continue\n",
    "        index_map[index_o] = index_aln\n",
    "        index_o += 1\n",
    "        \n",
    "    return reference_aln, target_aln, index_map\n",
    "\n",
    "def find_mutations(mutations, reference_aln, target_aln, index_map, verbose=False):\n",
    "    \n",
    "    n_found = 0\n",
    "    \n",
    "    for mutation in mutations:\n",
    "        reference_letter = reference_aln[index_map[mutation.index]]\n",
    "        target_letter = target_aln[index_map[mutation.index]]\n",
    "        \n",
    "        # Make sure that reference sequence is correct\n",
    "        if reference_letter != mutation.original:\n",
    "            if verbose:\n",
    "                print(f\"Mutation ({mutation}) original letter does not match\")\n",
    "            continue\n",
    "        \n",
    "        # Check if target letter at mutation index is one of expected mutations\n",
    "        if target_letter in mutation.mutation:\n",
    "            if verbose:\n",
    "                print(f\"Index: ({mutation.index}) : Found mutation\")\n",
    "            n_found += 1\n",
    "        elif target_letter != reference_letter:\n",
    "            if verbose:\n",
    "                print(f\"Index: ({mutation.index}) : Different from reference, but not a mutation. Reference: [{reference_letter}] Target: [{target_letter}]\")\n",
    "\n",
    "    return n_found\n",
    "\n",
    "def find_insertions(insertions, reference_aln, target_aln, index_map, verbose=False):\n",
    "    n_found = 0\n",
    "    \n",
    "    for insertion_index in insertions:\n",
    "        if verbose:\n",
    "            print(f\"Looking for insertion at {insertion_index}\")\n",
    "            \n",
    "        prev_index_aln = index_map[insertion_index-1]+1\n",
    "        \n",
    "        if verbose:\n",
    "            print(reference_aln[prev_index_aln])\n",
    "            \n",
    "        if reference_aln[prev_index_aln] == \"-\":\n",
    "            n_found += 1\n",
    "            \n",
    "            if verbose:\n",
    "                print(\"Found insertion\")\n",
    "        \n",
    "    return n_found\n"
   ]
  },
  {
   "cell_type": "code",
   "execution_count": 6,
   "id": "former-henry",
   "metadata": {
    "ExecuteTime": {
     "end_time": "2022-07-15T14:01:28.087513Z",
     "start_time": "2022-07-15T14:01:28.071133Z"
    }
   },
   "outputs": [],
   "source": [
    "Mutation = namedtuple(\"Mutation\", \"original index mutation\")"
   ]
  },
  {
   "cell_type": "markdown",
   "id": "6682aa8d",
   "metadata": {},
   "source": [
    "# TDF (Transcriptase)"
   ]
  },
  {
   "cell_type": "code",
   "execution_count": 7,
   "id": "a8b2f26b",
   "metadata": {
    "ExecuteTime": {
     "end_time": "2022-07-15T14:01:28.101469Z",
     "start_time": "2022-07-15T14:01:28.088794Z"
    }
   },
   "outputs": [],
   "source": [
    "tdf_m1 = [\n",
    "    Mutation(\"M\", 40, [\"L\"]),\n",
    "    Mutation(\"E\", 41, [\"D\"]),\n",
    "    Mutation(\"D\", 66, [\"N\"]),\n",
    "    Mutation(\"T\", 68, [\"D\", \"N\", \"S\"]),\n",
    "    Mutation(\"L\", 73, [\"V\", \"I\"]),\n",
    "    Mutation(\"L\", 209, [\"W\"]),\n",
    "    Mutation(\"T\", 214, [\"A\", \"C\", \"D\", \"E\", \"G\", \"H\", \"I\", \"L\", \"N\", \"S\", \"V\", \"Y\", \"F\"])\n",
    "]\n",
    "\n",
    "tdf_m2 = [\n",
    "    Mutation(\"K\", 64, [\"R\", \"E\", \"N\"])\n",
    "]\n",
    "\n",
    "tdf_m3 = [\n",
    "    68    # insertion at codon 69    \n",
    "]\n",
    "\n",
    "tdf_m4 = [\n",
    "    Mutation(\"K\", 69, [\"E\"])    \n",
    "]\n",
    "\n",
    "def get_resistance_TDF(reference_aln, target_aln, index_map, verbose=False):\n",
    "    \"\"\" Checks if given target_aln sequence has resistance to TDF\n",
    "    \n",
    "        Return:\n",
    "            2 - resistance\n",
    "            1 - possible resistance\n",
    "            0 - no resistance\n",
    "    \"\"\"\n",
    "    \n",
    "    m1 = find_mutations(tdf_m1, reference_aln, target_aln, index_map)\n",
    "    m2 = find_mutations(tdf_m2, reference_aln, target_aln, index_map)\n",
    "    m3 = find_insertions(tdf_m3, reference_aln, target_aln, index_map)\n",
    "    m4 = find_mutations(tdf_m4, reference_aln, target_aln, index_map)\n",
    "    \n",
    "    if m1 >= 4 or m2 == 1 or m3 == 1 or m4 == 1:\n",
    "        if verbose:\n",
    "            print(f\"{i}) {trans_df.iloc[i].accession} has resistance. m1:{m1}, m2:{m2}, m3:{m3}, m4:{m4}\")\n",
    "        return 2\n",
    "    elif m1 >= 3:\n",
    "        if verbose:\n",
    "            print(f\"{i}) {trans_df.iloc[i].accession} possible resistance. m1:{m1}, m2:{m2}, m3:{m3}, m4:{m4}\")\n",
    "        return 1\n",
    "    \n",
    "    return 0    "
   ]
  },
  {
   "cell_type": "markdown",
   "id": "fb969f5c",
   "metadata": {},
   "source": [
    "# 3TC/FTC (Transcriptase)"
   ]
  },
  {
   "cell_type": "code",
   "execution_count": 8,
   "id": "0dd408a6",
   "metadata": {
    "ExecuteTime": {
     "end_time": "2022-07-15T14:01:28.117698Z",
     "start_time": "2022-07-15T14:01:28.102698Z"
    }
   },
   "outputs": [],
   "source": [
    "ftc_m1 = [\n",
    "    Mutation(\"K\", 64, [\"R\"]),\n",
    "    Mutation(\"M\", 183, [\"V\", \"I\"])\n",
    "]\n",
    "\n",
    "ftc_i2 = [\n",
    "    68    # insertion at codon 69    \n",
    "]\n",
    "\n",
    "\n",
    "def get_resistance_FTC(reference_aln, target_aln, index_map, verbose=False):\n",
    "    \"\"\" Checks if given target_aln sequence has resistance to FTC\n",
    "    \n",
    "        Return:\n",
    "            2 - resistance\n",
    "            1 - possible resistance\n",
    "            0 - no resistance\n",
    "    \"\"\"\n",
    "    \n",
    "    m1 = find_mutations(ftc_m1, reference_aln, target_aln, index_map)\n",
    "    m2 = find_insertions(ftc_i2, reference_aln, target_aln, index_map)\n",
    "    \n",
    "    if m1 > 0 or m2 == 1:\n",
    "        if verbose:\n",
    "            print(f\"{i}) {trans_df.iloc[i].accession} has resistance. m1:{m1}, m2:{m2}\")\n",
    "        return 2\n",
    "    \n",
    "    return 0    "
   ]
  },
  {
   "cell_type": "markdown",
   "id": "a1b33d18",
   "metadata": {},
   "source": [
    "# DTG (Integrase)"
   ]
  },
  {
   "cell_type": "code",
   "execution_count": 9,
   "id": "77dfbd69",
   "metadata": {
    "ExecuteTime": {
     "end_time": "2022-07-15T14:01:28.134070Z",
     "start_time": "2022-07-15T14:01:28.119848Z"
    }
   },
   "outputs": [],
   "source": [
    "dtg_m1 = [\n",
    "    Mutation(\"G\", 117, [\"R\"]),\n",
    "    Mutation(\"F\", 121, [\"Y\"]),\n",
    "    Mutation(\"E\", 137, [\"A\", \"K\", \"T\"]),\n",
    "    Mutation(\"G\", 139, [\"A\", \"C\", \"S\"]),\n",
    "    Mutation(\"N\", 143, [\"D\"]),\n",
    "    Mutation(\"Q\", 147, [\"H\", \"K\", \"R\"]),\n",
    "    Mutation(\"V\", 150, [\"L\"]),\n",
    "    Mutation(\"S\", 152, [\"F\", \"Y\"]),\n",
    "    Mutation(\"N\", 154, [\"H\"]),\n",
    "    Mutation(\"S\", 229, [\"R\"]),\n",
    "    Mutation(\"R\", 262, [\"K\"])    \n",
    "]\n",
    "\n",
    "dtg_m2 = [\n",
    "    Mutation(\"T\", 65, [\"K\"]),\n",
    "    Mutation(\"L\", 73, [\"M\"])\n",
    "]\n",
    "\n",
    "dtg_m3 = [    \n",
    "    Mutation(\"L\", 73, [\"I\"]),\n",
    "    Mutation(\"E\", 91, [\"Q\"])\n",
    "]\n",
    "\n",
    "# Possible resistance\n",
    "dtg_m4 = [\n",
    "    Mutation(\"T\", 65, [\"K\"])   \n",
    "]\n",
    "\n",
    "def get_resistance_DTG(reference_aln, target_aln, index_map, verbose=False):\n",
    "    \"\"\" Checks if given target_aln sequence has resistance to DTG\n",
    "    \n",
    "        Return:\n",
    "            2 - resistance\n",
    "            1 - possible resistance\n",
    "            0 - no resistance\n",
    "    \"\"\"\n",
    "    \n",
    "    m1 = find_mutations(dtg_m1, reference_aln, target_aln, index_map)\n",
    "    m2 = find_mutations(dtg_m2, reference_aln, target_aln, index_map)\n",
    "    m3 = find_mutations(dtg_m3, reference_aln, target_aln, index_map)\n",
    "    m4 = find_mutations(dtg_m4, reference_aln, target_aln, index_map)\n",
    "    \n",
    "    if m1 > 0 or m2 == 2 or m3 == 2:\n",
    "        if verbose:\n",
    "            print(f\"{i}) {integ_df.iloc[i].accession} has resistance. m1:{m1}, m2:{m2}, m3:{m3}, m4:{m4}\")\n",
    "        return 2\n",
    "    elif m4 == 1:\n",
    "        if verbose:\n",
    "            print(f\"{i}) {integ_df.iloc[i].accession} possible resistance. m1:{m1}, m2:{m2}, m3:{m3}, m4:{m4}\")\n",
    "        return 1\n",
    "    \n",
    "    return 0   "
   ]
  },
  {
   "cell_type": "code",
   "execution_count": 10,
   "id": "a007a120",
   "metadata": {
    "ExecuteTime": {
     "end_time": "2022-07-15T14:01:33.703979Z",
     "start_time": "2022-07-15T14:01:28.135347Z"
    }
   },
   "outputs": [
    {
     "name": "stdout",
     "output_type": "stream",
     "text": [
      "331) AB868733 has resistance. m1:1, m2:0\n",
      "335) AF011754 has resistance. m1:5, m2:0, m3:0, m4:0\n",
      "336) AF011755 has resistance. m1:5, m2:0, m3:0, m4:0\n",
      "345) AF047281 has resistance. m1:4, m2:0, m3:0, m4:0\n",
      "346) AF047282 has resistance. m1:4, m2:0, m3:0, m4:0\n",
      "346) AF047282 has resistance. m1:1, m2:0\n",
      "347) AF047287 has resistance. m1:5, m2:0, m3:0, m4:0\n",
      "347) AF047287 has resistance. m1:1, m2:0\n",
      "348) AF047288 has resistance. m1:5, m2:0, m3:0, m4:0\n",
      "348) AF047288 has resistance. m1:1, m2:0\n",
      "349) AF047295 possible resistance. m1:3, m2:0, m3:0, m4:0\n",
      "350) AF047297 has resistance. m1:4, m2:0, m3:0, m4:0\n",
      "350) AF047297 has resistance. m1:1, m2:0\n",
      "351) AF047298 has resistance. m1:4, m2:0, m3:0, m4:0\n",
      "351) AF047298 has resistance. m1:1, m2:0\n",
      "352) AF047299 has resistance. m1:5, m2:0, m3:0, m4:0\n",
      "352) AF047299 has resistance. m1:1, m2:0\n",
      "356) AF088078 has resistance. m1:4, m2:0, m3:0, m4:0\n",
      "356) AF088078 has resistance. m1:1, m2:0\n",
      "358) AF088080 has resistance. m1:4, m2:0, m3:0, m4:0\n",
      "358) AF088080 has resistance. m1:1, m2:0\n",
      "359) AF088081 has resistance. m1:1, m2:0\n",
      "360) AF088082 has resistance. m1:1, m2:0\n",
      "361) AF088083 possible resistance. m1:3, m2:0, m3:0, m4:0\n",
      "361) AF088083 has resistance. m1:1, m2:0\n",
      "362) AF088084 has resistance. m1:1, m2:0\n",
      "363) AF088085 possible resistance. m1:3, m2:0, m3:0, m4:0\n",
      "363) AF088085 has resistance. m1:1, m2:0\n",
      "364) AF088086 possible resistance. m1:3, m2:0, m3:0, m4:0\n",
      "364) AF088086 has resistance. m1:1, m2:0\n",
      "365) AF088087 possible resistance. m1:3, m2:0, m3:0, m4:0\n",
      "365) AF088087 has resistance. m1:1, m2:0\n",
      "366) AF088088 has resistance. m1:1, m2:0\n",
      "367) AF088089 has resistance. m1:4, m2:0, m3:0, m4:0\n",
      "367) AF088089 has resistance. m1:1, m2:0\n",
      "368) AF088090 has resistance. m1:1, m2:0\n",
      "369) AF088091 has resistance. m1:5, m2:0, m3:0, m4:0\n",
      "370) AF088092 has resistance. m1:1, m2:0\n",
      "371) AF088093 has resistance. m1:4, m2:0, m3:0, m4:0\n",
      "371) AF088093 has resistance. m1:1, m2:0\n",
      "372) AF088094 has resistance. m1:1, m2:0\n",
      "373) AF088095 has resistance. m1:1, m2:0\n",
      "374) AF088096 has resistance. m1:1, m2:0\n",
      "376) AF088098 has resistance. m1:5, m2:0, m3:0, m4:0\n",
      "376) AF088098 has resistance. m1:1, m2:0\n",
      "378) AF088100 has resistance. m1:5, m2:0, m3:0, m4:0\n",
      "378) AF088100 has resistance. m1:1, m2:0\n",
      "379) AF088101 has resistance. m1:1, m2:0\n",
      "381) AF088103 possible resistance. m1:3, m2:0, m3:0, m4:0\n",
      "381) AF088103 has resistance. m1:1, m2:0\n",
      "382) AF088104 possible resistance. m1:3, m2:0, m3:0, m4:0\n",
      "382) AF088104 has resistance. m1:1, m2:0\n",
      "384) AF088106 has resistance. m1:1, m2:0\n",
      "385) AF088107 has resistance. m1:1, m2:0\n",
      "386) AF088108 has resistance. m1:1, m2:0\n",
      "387) AF088109 has resistance. m1:1, m2:0\n",
      "388) AF088110 has resistance. m1:1, m2:0\n",
      "389) AF088111 has resistance. m1:1, m2:0\n",
      "390) AF088112 has resistance. m1:1, m2:0\n",
      "392) AF088114 possible resistance. m1:3, m2:0, m3:0, m4:0\n",
      "392) AF088114 has resistance. m1:1, m2:0\n",
      "393) AF088115 has resistance. m1:1, m2:0\n",
      "394) AF088116 possible resistance. m1:3, m2:0, m3:0, m4:0\n",
      "394) AF088116 has resistance. m1:1, m2:0\n",
      "395) AF088117 has resistance. m1:1, m2:0\n",
      "396) AF088118 possible resistance. m1:3, m2:0, m3:0, m4:0\n",
      "396) AF088118 has resistance. m1:1, m2:0\n",
      "397) AF088119 has resistance. m1:5, m2:0, m3:0, m4:0\n",
      "397) AF088119 has resistance. m1:1, m2:0\n",
      "398) AF088120 has resistance. m1:1, m2:0\n",
      "399) AF088121 possible resistance. m1:3, m2:0, m3:0, m4:0\n",
      "400) AF088122 has resistance. m1:4, m2:0, m3:0, m4:0\n",
      "400) AF088122 has resistance. m1:1, m2:0\n",
      "401) AF088123 has resistance. m1:1, m2:0\n",
      "402) AF088124 has resistance. m1:4, m2:0, m3:0, m4:0\n",
      "403) AF088125 has resistance. m1:4, m2:0, m3:0, m4:0\n",
      "404) AF088126 has resistance. m1:1, m2:0\n",
      "405) AF088127 possible resistance. m1:3, m2:0, m3:0, m4:0\n",
      "406) AF088128 has resistance. m1:1, m2:0\n",
      "407) AF088129 has resistance. m1:1, m2:0\n",
      "408) AF088130 has resistance. m1:1, m2:0\n",
      "409) AF088131 has resistance. m1:1, m2:0\n",
      "446) AF152980 has resistance. m1:1, m2:0\n",
      "448) AF152982 has resistance. m1:1, m2:0\n",
      "449) AF152983 has resistance. m1:1, m2:0\n",
      "450) AF152984 has resistance. m1:1, m2:0\n",
      "451) AF152986 has resistance. m1:1, m2:0\n",
      "452) AF152988 has resistance. m1:1, m2:0\n",
      "453) AF152989 has resistance. m1:1, m2:0\n",
      "460) AF153371 possible resistance. m1:3, m2:0, m3:0, m4:0\n",
      "461) AF153372 possible resistance. m1:3, m2:0, m3:0, m4:0\n",
      "461) AF153372 has resistance. m1:1, m2:0\n",
      "465) AF153376 has resistance. m1:1, m2:0\n",
      "466) AF153377 possible resistance. m1:3, m2:0, m3:0, m4:0\n",
      "467) AF153378 possible resistance. m1:3, m2:0, m3:0, m4:0\n",
      "467) AF153378 has resistance. m1:1, m2:0\n",
      "473) AF153384 has resistance. m1:1, m2:0\n",
      "475) AF153387 possible resistance. m1:3, m2:0, m3:0, m4:0\n",
      "476) AF153388 possible resistance. m1:3, m2:0, m3:0, m4:0\n",
      "480) AF153392 has resistance. m1:1, m2:0\n",
      "483) AF153395 has resistance. m1:1, m2:1, m3:0, m4:0\n",
      "484) AF153396 has resistance. m1:1, m2:0\n",
      "487) AF153399 possible resistance. m1:3, m2:0, m3:0, m4:0\n",
      "488) AF153400 possible resistance. m1:3, m2:0, m3:0, m4:0\n",
      "488) AF153400 has resistance. m1:1, m2:0\n",
      "492) AF153404 has resistance. m1:1, m2:0\n",
      "494) AF153406 has resistance. m1:1, m2:0\n",
      "498) AF166013 has resistance. m1:1, m2:1, m3:0, m4:0\n",
      "503) AF166018 possible resistance. m1:3, m2:0, m3:0, m4:0\n",
      "509) AF166024 has resistance. m1:4, m2:0, m3:0, m4:0\n",
      "511) AF166026 has resistance. m1:4, m2:0, m3:0, m4:0\n",
      "512) AF166027 has resistance. m1:1, m2:1, m3:0, m4:0\n",
      "514) AF166029 possible resistance. m1:3, m2:0, m3:0, m4:0\n",
      "515) AF166030 possible resistance. m1:3, m2:0, m3:0, m4:0\n",
      "516) AF166031 possible resistance. m1:3, m2:0, m3:0, m4:0\n",
      "518) AF166033 possible resistance. m1:3, m2:0, m3:0, m4:0\n",
      "519) AF166034 has resistance. m1:2, m2:1, m3:0, m4:0\n",
      "520) AF166035 has resistance. m1:3, m2:1, m3:0, m4:0\n",
      "530) AF166045 possible resistance. m1:3, m2:0, m3:0, m4:0\n",
      "534) AF166049 possible resistance. m1:3, m2:0, m3:0, m4:0\n",
      "537) AF166052 has resistance. m1:4, m2:0, m3:0, m4:0\n",
      "541) AF166056 possible resistance. m1:3, m2:0, m3:0, m4:0\n",
      "542) AF166057 possible resistance. m1:3, m2:0, m3:0, m4:0\n",
      "543) AF166058 possible resistance. m1:3, m2:0, m3:0, m4:0\n",
      "547) AF166062 has resistance. m1:4, m2:0, m3:0, m4:0\n",
      "549) AF166064 possible resistance. m1:3, m2:0, m3:0, m4:0\n",
      "550) AF166065 possible resistance. m1:3, m2:0, m3:0, m4:0\n",
      "551) AF166066 possible resistance. m1:3, m2:0, m3:0, m4:0\n",
      "552) AF166067 possible resistance. m1:3, m2:0, m3:0, m4:0\n",
      "555) AF166070 possible resistance. m1:3, m2:0, m3:0, m4:0\n",
      "556) AF166071 possible resistance. m1:3, m2:0, m3:0, m4:0\n",
      "558) AF166073 has resistance. m1:4, m2:0, m3:0, m4:0\n",
      "559) AF166074 has resistance. m1:4, m2:0, m3:0, m4:0\n",
      "560) AF166075 has resistance. m1:4, m2:0, m3:0, m4:0\n",
      "562) AF166077 possible resistance. m1:3, m2:0, m3:0, m4:0\n",
      "564) AF166079 has resistance. m1:4, m2:0, m3:0, m4:0\n",
      "566) AF166081 possible resistance. m1:3, m2:0, m3:0, m4:0\n",
      "586) AF186578 has resistance. m1:5, m2:0, m3:0, m4:0\n",
      "586) AF186578 has resistance. m1:1, m2:0\n",
      "588) AF186580 has resistance. m1:4, m2:0, m3:0, m4:0\n",
      "589) AF186581 has resistance. m1:1, m2:0\n",
      "590) AF186582 has resistance. m1:5, m2:0, m3:0, m4:0\n",
      "590) AF186582 has resistance. m1:1, m2:0\n",
      "591) AF186583 has resistance. m1:5, m2:0, m3:0, m4:0\n",
      "592) AF186584 has resistance. m1:5, m2:0, m3:0, m4:0\n",
      "592) AF186584 has resistance. m1:1, m2:0\n",
      "606) AF198039 possible resistance. m1:3, m2:0, m3:0, m4:0\n",
      "609) AF198042 has resistance. m1:4, m2:0, m3:0, m4:0\n",
      "609) AF198042 has resistance. m1:1, m2:0\n",
      "610) AF198043 possible resistance. m1:3, m2:0, m3:0, m4:0\n",
      "612) AF198045 has resistance. m1:4, m2:0, m3:0, m4:0\n",
      "613) AF198046 has resistance. m1:4, m2:0, m3:0, m4:0\n",
      "614) AF198047 possible resistance. m1:3, m2:0, m3:0, m4:0\n",
      "618) AF253175 possible resistance. m1:3, m2:0, m3:0, m4:0\n",
      "638) AF253202 possible resistance. m1:3, m2:0, m3:0, m4:0\n",
      "672) AF259908 has resistance. m1:1, m2:0\n",
      "673) AF259909 has resistance. m1:1, m2:0\n",
      "682) AF259918 possible resistance. m1:3, m2:0, m3:0, m4:0\n",
      "682) AF259918 has resistance. m1:1, m2:0\n",
      "683) AF259919 possible resistance. m1:3, m2:0, m3:0, m4:0\n",
      "683) AF259919 has resistance. m1:1, m2:0\n",
      "696) AF262057 has resistance. m1:1, m2:0\n",
      "698) AF262059 has resistance. m1:1, m2:0\n",
      "706) AF265571 possible resistance. m1:3, m2:0, m3:0, m4:0\n",
      "710) AF266531 has resistance. m1:1, m2:0\n",
      "711) AF266532 has resistance. m1:1, m2:0\n",
      "716) AF292732 has resistance. m1:1, m2:0\n",
      "825) EU743689 has resistance. m1:1, m2:0\n",
      "832) EU743700 has resistance. m1:4, m2:0, m3:0, m4:0\n",
      "832) EU743700 has resistance. m1:1, m2:0\n",
      "838) EU743706 possible resistance. m1:3, m2:0, m3:0, m4:0\n",
      "838) EU743706 has resistance. m1:1, m2:0\n",
      "843) EU743713 has resistance. m1:0, m2:1, m3:0, m4:0\n",
      "847) EU743726 has resistance. m1:1, m2:0\n"
     ]
    },
    {
     "name": "stdout",
     "output_type": "stream",
     "text": [
      "929) FJ525692 has resistance. m1:1, m2:0\n",
      "942) FJ525756 has resistance. m1:1, m2:0\n",
      "947) FJ525786 has resistance. m1:1, m2:0\n",
      "948) FJ525788 has resistance. m1:1, m2:0\n",
      "949) FJ525789 has resistance. m1:1, m2:0\n",
      "950) FJ525790 has resistance. m1:1, m2:0\n",
      "992) FJ530614 has resistance. m1:1, m2:0\n"
     ]
    }
   ],
   "source": [
    "for i in range(1000):\n",
    "    reference_aln, target_aln, index_map = align_sequences(REF_SEQ_TRANS, trans_df.iloc[i].transcriptase_cut)\n",
    "    get_resistance_TDF(reference_aln, target_aln, index_map, verbose=True)\n",
    "    get_resistance_FTC(reference_aln, target_aln, index_map, verbose=True)"
   ]
  },
  {
   "cell_type": "code",
   "execution_count": 11,
   "id": "ec37b8de",
   "metadata": {
    "ExecuteTime": {
     "end_time": "2022-07-15T14:01:40.100209Z",
     "start_time": "2022-07-15T14:01:33.706283Z"
    }
   },
   "outputs": [
    {
     "name": "stdout",
     "output_type": "stream",
     "text": [
      "477) AB869463 has resistance. m1:1, m2:0, m3:0, m4:0\n",
      "751) AB869762 has resistance. m1:1, m2:0, m3:0, m4:0\n",
      "923) AB869961 has resistance. m1:1, m2:0, m3:0, m4:0\n"
     ]
    }
   ],
   "source": [
    "for i in range(1000):\n",
    "    reference_aln, target_aln, index_map = align_sequences(REF_SEQ_INTEG, integ_df.iloc[i].integrase_cut)\n",
    "    get_resistance_DTG(reference_aln, target_aln, index_map, verbose=True) "
   ]
  }
 ],
 "metadata": {
  "kernelspec": {
   "display_name": "Python 3 (ipykernel)",
   "language": "python",
   "name": "python3"
  },
  "language_info": {
   "codemirror_mode": {
    "name": "ipython",
    "version": 3
   },
   "file_extension": ".py",
   "mimetype": "text/x-python",
   "name": "python",
   "nbconvert_exporter": "python",
   "pygments_lexer": "ipython3",
   "version": "3.10.4"
  },
  "varInspector": {
   "cols": {
    "lenName": 16,
    "lenType": 16,
    "lenVar": 40
   },
   "kernels_config": {
    "python": {
     "delete_cmd_postfix": "",
     "delete_cmd_prefix": "del ",
     "library": "var_list.py",
     "varRefreshCmd": "print(var_dic_list())"
    },
    "r": {
     "delete_cmd_postfix": ") ",
     "delete_cmd_prefix": "rm(",
     "library": "var_list.r",
     "varRefreshCmd": "cat(var_dic_list()) "
    }
   },
   "types_to_exclude": [
    "module",
    "function",
    "builtin_function_or_method",
    "instance",
    "_Feature"
   ],
   "window_display": false
  }
 },
 "nbformat": 4,
 "nbformat_minor": 5
}
