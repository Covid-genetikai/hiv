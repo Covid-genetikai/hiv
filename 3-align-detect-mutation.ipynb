{
 "cells": [
  {
   "cell_type": "code",
   "execution_count": 1,
   "id": "2c718b29",
   "metadata": {
    "ExecuteTime": {
     "end_time": "2022-06-16T18:04:30.429395Z",
     "start_time": "2022-06-16T18:04:30.425777Z"
    }
   },
   "outputs": [],
   "source": [
    "# Install muscle3.8 for biopython\n",
    "# wget https://drive5.com/muscle/downloads3.8.31/muscle3.8.31_i86linux64.tar.gz\n",
    "# tar xvf muscle3.8.31_i86linux64.tar.gz \n",
    "# sudo cp muscle3.8.31_i86linux64 /usr/bin/muscle\n",
    "# sudo chmod +x /usr/bin/muscle"
   ]
  },
  {
   "cell_type": "code",
   "execution_count": 2,
   "id": "significant-third",
   "metadata": {
    "ExecuteTime": {
     "end_time": "2022-06-16T18:04:30.748542Z",
     "start_time": "2022-06-16T18:04:30.431762Z"
    }
   },
   "outputs": [],
   "source": [
    "from Bio import SeqIO\n",
    "from Bio.Seq import Seq\n",
    "from Bio.SeqRecord import SeqRecord\n",
    "# from Bio.Align import MultipleSeqAlignment\n",
    "from Bio.Align.Applications import MuscleCommandline\n",
    "from pathlib import Path\n",
    "import pandas as pd\n",
    "from collections import namedtuple"
   ]
  },
  {
   "cell_type": "code",
   "execution_count": 3,
   "id": "corrected-process",
   "metadata": {
    "ExecuteTime": {
     "end_time": "2022-06-16T18:04:30.752978Z",
     "start_time": "2022-06-16T18:04:30.750185Z"
    }
   },
   "outputs": [],
   "source": [
    "REF_SEQ = \"PISPIETVPVKLKPGMDGPKVKQWPLTEEKIKALVEICTEMEKEGKISKIGPENPYNTPVFAIKKKDSTKWRKLVDFRELNKRTQDFWEVQLGIPHPAGLKKKKSVTVLDVGDAYFSVPLDEDFRKYTAFTIPSINNETPGIRYQYNVLPQGWKGSPAIFQSSMTKILEPFRKQNPDIVIYQYMDDLYVGSDLEIGQHRTKIEELRQHLLRWGLTTPDKKHQKEPPFLWMGYEL\"\n",
    "REF_SEQ_LEN = len(REF_SEQ)\n",
    "data_path = Path(\"/data/hiv/data\")"
   ]
  },
  {
   "cell_type": "code",
   "execution_count": 4,
   "id": "former-henry",
   "metadata": {
    "ExecuteTime": {
     "end_time": "2022-06-16T18:04:30.760621Z",
     "start_time": "2022-06-16T18:04:30.756216Z"
    }
   },
   "outputs": [],
   "source": [
    "Mutation = namedtuple(\"Mutation\", \"original index mutation\")\n",
    "\n",
    "# At least 4 mutations among\n",
    "mutations1 = [\n",
    "    Mutation(\"M\", 40, [\"L\"]),\n",
    "    Mutation(\"E\", 41, [\"D\"]),\n",
    "    Mutation(\"D\", 66, [\"N\"]),\n",
    "    Mutation(\"T\", 68, [\"D\", \"N\", \"S\"]),\n",
    "    Mutation(\"L\", 73, [\"V\", \"I\"]),\n",
    "    Mutation(\"L\", 209, [\"W\"]),\n",
    "    Mutation(\"T\", 214, [\"A\", \"C\", \"D\", \"E\", \"G\", \"H\", \"I\", \"L\", \"N\", \"S\", \"V\", \"Y\", \"F\"])\n",
    "]\n",
    "\n",
    "mutations2 = [\n",
    "    Mutation(\"K\", 64, [\"R\", \"E\", \"N\"])\n",
    "]\n",
    "\n",
    "mutations3 = [\n",
    "# insertion at codon 69    \n",
    "]\n",
    "\n",
    "mutations4 = [\n",
    "    Mutation(\"K\", 69, [\"E\"])    \n",
    "]"
   ]
  },
  {
   "cell_type": "code",
   "execution_count": 5,
   "id": "ba773f23",
   "metadata": {
    "ExecuteTime": {
     "end_time": "2022-06-16T18:04:30.826121Z",
     "start_time": "2022-06-16T18:04:30.763131Z"
    }
   },
   "outputs": [
    {
     "data": {
      "text/html": [
       "<div>\n",
       "<style scoped>\n",
       "    .dataframe tbody tr th:only-of-type {\n",
       "        vertical-align: middle;\n",
       "    }\n",
       "\n",
       "    .dataframe tbody tr th {\n",
       "        vertical-align: top;\n",
       "    }\n",
       "\n",
       "    .dataframe thead th {\n",
       "        text-align: right;\n",
       "    }\n",
       "</style>\n",
       "<table border=\"1\" class=\"dataframe\">\n",
       "  <thead>\n",
       "    <tr style=\"text-align: right;\">\n",
       "      <th></th>\n",
       "      <th>accession</th>\n",
       "      <th>gene</th>\n",
       "    </tr>\n",
       "  </thead>\n",
       "  <tbody>\n",
       "    <tr>\n",
       "      <th>0</th>\n",
       "      <td>FJ199594</td>\n",
       "      <td>PISPIETVPVKLKPGMDGPKVKQWPLTEEKIKAL--TAICEEMEKE...</td>\n",
       "    </tr>\n",
       "    <tr>\n",
       "      <th>1</th>\n",
       "      <td>AB874173</td>\n",
       "      <td>PISPIETVPVKLKPGMDGPKVRQWPLTEEKIKAL--VEICTEMEKE...</td>\n",
       "    </tr>\n",
       "    <tr>\n",
       "      <th>2</th>\n",
       "      <td>GQ272384</td>\n",
       "      <td>PISPIETVPVKLKPGMDGPKVKQWPLTEEKIKAL--TEICAEMEKE...</td>\n",
       "    </tr>\n",
       "    <tr>\n",
       "      <th>3</th>\n",
       "      <td>FJ199763</td>\n",
       "      <td>PISPIETVPVKLKPGMDGPKVKQWPLTEEKIKAL--TAICEEMEKE...</td>\n",
       "    </tr>\n",
       "    <tr>\n",
       "      <th>4</th>\n",
       "      <td>FJ199639</td>\n",
       "      <td>PISSIETVPVKLKPGMDGPKVKQWPLTEEKIKAL--TAICEEMEKE...</td>\n",
       "    </tr>\n",
       "    <tr>\n",
       "      <th>...</th>\n",
       "      <td>...</td>\n",
       "      <td>...</td>\n",
       "    </tr>\n",
       "    <tr>\n",
       "      <th>19994</th>\n",
       "      <td>GQ288367</td>\n",
       "      <td>PISPIETVPVKLKPGMDGPKVKQWPLTEEKIKALV--EICTEMEKE...</td>\n",
       "    </tr>\n",
       "    <tr>\n",
       "      <th>19995</th>\n",
       "      <td>GQ288349</td>\n",
       "      <td>PISPIETVPVKLKPGMDGPKVKQWPLTEEKIKALV--EICTEMEKE...</td>\n",
       "    </tr>\n",
       "    <tr>\n",
       "      <th>19996</th>\n",
       "      <td>GQ288353</td>\n",
       "      <td>PISPIETVPVKLKPGMDGPKVKQWPLTEEKIKALV--EICTEMEKE...</td>\n",
       "    </tr>\n",
       "    <tr>\n",
       "      <th>19997</th>\n",
       "      <td>GQ290758</td>\n",
       "      <td>PISPIETVPVKLKPGMDGPKVKQWPLTEEKIKALV--EICTEMEKE...</td>\n",
       "    </tr>\n",
       "    <tr>\n",
       "      <th>19998</th>\n",
       "      <td>GQ303854</td>\n",
       "      <td>PISPIETVPVKLKPGMDGPKVKQWPLTEEKIKALV--EICTEMEKE...</td>\n",
       "    </tr>\n",
       "  </tbody>\n",
       "</table>\n",
       "<p>19999 rows × 2 columns</p>\n",
       "</div>"
      ],
      "text/plain": [
       "      accession                                               gene\n",
       "0      FJ199594  PISPIETVPVKLKPGMDGPKVKQWPLTEEKIKAL--TAICEEMEKE...\n",
       "1      AB874173  PISPIETVPVKLKPGMDGPKVRQWPLTEEKIKAL--VEICTEMEKE...\n",
       "2      GQ272384  PISPIETVPVKLKPGMDGPKVKQWPLTEEKIKAL--TEICAEMEKE...\n",
       "3      FJ199763  PISPIETVPVKLKPGMDGPKVKQWPLTEEKIKAL--TAICEEMEKE...\n",
       "4      FJ199639  PISSIETVPVKLKPGMDGPKVKQWPLTEEKIKAL--TAICEEMEKE...\n",
       "...         ...                                                ...\n",
       "19994  GQ288367  PISPIETVPVKLKPGMDGPKVKQWPLTEEKIKALV--EICTEMEKE...\n",
       "19995  GQ288349  PISPIETVPVKLKPGMDGPKVKQWPLTEEKIKALV--EICTEMEKE...\n",
       "19996  GQ288353  PISPIETVPVKLKPGMDGPKVKQWPLTEEKIKALV--EICTEMEKE...\n",
       "19997  GQ290758  PISPIETVPVKLKPGMDGPKVKQWPLTEEKIKALV--EICTEMEKE...\n",
       "19998  GQ303854  PISPIETVPVKLKPGMDGPKVKQWPLTEEKIKALV--EICTEMEKE...\n",
       "\n",
       "[19999 rows x 2 columns]"
      ]
     },
     "execution_count": 5,
     "metadata": {},
     "output_type": "execute_result"
    }
   ],
   "source": [
    "df = pd.read_csv(\"/data/hiv/data/pol/2-pol-20000-aligned.csv\")\n",
    "df"
   ]
  },
  {
   "cell_type": "code",
   "execution_count": 8,
   "id": "greek-tower",
   "metadata": {
    "ExecuteTime": {
     "end_time": "2022-06-16T18:07:41.546471Z",
     "start_time": "2022-06-16T18:07:35.240549Z"
    }
   },
   "outputs": [
    {
     "name": "stdout",
     "output_type": "stream",
     "text": [
      "48) AB253423 has resistance\n",
      "56) AB253682 has resistance\n",
      "57) AB253684 has resistance\n",
      "58) AB253686 has resistance\n",
      "59) AB253687 has resistance\n",
      "60) AB253688 has resistance\n",
      "61) AB253690 has resistance\n",
      "62) AB253695 has resistance\n",
      "63) AB253703 has resistance\n",
      "64) AB253704 has resistance\n",
      "65) AB253710 has resistance\n",
      "66) AB253714 has resistance\n",
      "67) AB253717 has resistance\n",
      "68) AB253719 has resistance\n",
      "74) AB254148 has resistance\n",
      "173) AB287369 has resistance\n",
      "174) AB287371 has resistance\n",
      "175) AB287372 has resistance\n",
      "178) AB289587 possible resistance\n",
      "185) AB356103 has resistance\n",
      "197) AB356119 possible resistance\n",
      "585) AB442317 possible resistance\n",
      "625) AB480298 has resistance\n",
      "626) AB480300 has resistance\n",
      "627) AB480301 has resistance\n",
      "628) AB480692 has resistance\n",
      "629) AB480693 has resistance\n",
      "630) AB480694 has resistance\n",
      "631) AB480695 has resistance\n",
      "634) AB480698 possible resistance\n",
      "667) AB564744 has resistance\n",
      "669) AB564746 has resistance\n",
      "689) AB604946 has resistance\n"
     ]
    }
   ],
   "source": [
    "def align_sequences(reference_seq, target_seq, working_dir=\"tmp\"):\n",
    "           \n",
    "    # Muscle uses files, need directory for temporary files\n",
    "    working_dir = Path(working_dir)\n",
    "    working_dir.mkdir(parents=True, exist_ok=True)\n",
    "    \n",
    "    # Input file contains two sequenes: first reference, second target sequence to compare with\n",
    "    input_file = working_dir.joinpath(\"test.fasta\")\n",
    "    aligned_file = working_dir.joinpath(\"test_aligned.fasta\")\n",
    "\n",
    "    sequences = [SeqRecord(Seq(reference_seq), id=\"reference\"), SeqRecord(Seq(target_seq), id=\"target\")]\n",
    "    SeqIO.write(sequences, input_file, \"fasta\")\n",
    "    \n",
    "    # Alignment\n",
    "    muscle_cline = MuscleCommandline(input=input_file, out=aligned_file)\n",
    "    muscle_cline()\n",
    "\n",
    "    reference_aln = None\n",
    "    target_aln = None\n",
    "    \n",
    "    # Read aligned sequences\n",
    "    aligned = SeqIO.parse(aligned_file, \"fasta\")\n",
    "    for seq in aligned:\n",
    "        if seq.id == \"reference\":\n",
    "            reference_aln = seq\n",
    "        elif seq.id == \"target\":\n",
    "            target_aln = seq\n",
    "\n",
    "    # Reference sequence map of {original:aligned} indices\n",
    "    index_map = {}\n",
    "    index_o = 0\n",
    "    for index_aln, c in enumerate(reference_aln.seq):\n",
    "        if c == \"-\":\n",
    "            continue\n",
    "        index_map[index_o] = index_aln\n",
    "        index_o += 1\n",
    "        \n",
    "    return reference_aln, target_aln, index_map\n",
    "\n",
    "def find_mutations(mutations, reference_aln, target_aln, index_map, verbose=False):\n",
    "    \n",
    "    n_found = 0\n",
    "    \n",
    "    for mutation in mutations:\n",
    "        reference_letter = reference_aln[index_map[mutation.index]]\n",
    "        target_letter = target_aln[index_map[mutation.index]]\n",
    "        \n",
    "        # Make sure that reference sequence is correct\n",
    "        if reference_letter != mutation.original:\n",
    "            if verbose:\n",
    "                print(f\"Mutation ({mutation}) original letter does not match\")\n",
    "            continue\n",
    "        \n",
    "        # Check if target letter at mutation index is one of expected mutations\n",
    "        if target_letter in mutation.mutation:\n",
    "            if verbose:\n",
    "                print(f\"Index: ({mutation.index}) : Found mutation\")\n",
    "            n_found += 1\n",
    "        elif target_letter != reference_letter:\n",
    "            if verbose:\n",
    "                print(f\"Index: ({mutation.index}) : Different from reference, but not a mutation. Reference: [{reference_letter}] Target: [{target_letter}]\")\n",
    "\n",
    "    return n_found\n",
    "\n",
    "\n",
    "for i in range(1000):\n",
    "    \n",
    "    \n",
    "    reference_aln, target_aln, index_map = align_sequences(REF_SEQ, df.iloc[i].gene)\n",
    "    m1 = find_mutations(mutations1, reference_aln, target_aln, index_map)\n",
    "    m2 = find_mutations(mutations2, reference_aln, target_aln, index_map)\n",
    "    m4 = find_mutations(mutations4, reference_aln, target_aln, index_map)\n",
    "#     print(f\"{i}) m1:{m1}, m2:{m2}, m4:{m4}\")\n",
    "    \n",
    "    if m1 >= 4 or m2 == 1 or m4 == 1:\n",
    "        print(f\"{i}) {df.iloc[i].accession} has resistance. m1:{m1}, m2:{m2}, m4:{m4}\")\n",
    "    elif m1 >= 3:\n",
    "        print(f\"{i}) {df.iloc[i].accession} possible resistance. m1:{m1}, m2:{m2}, m4:{m4}\")\n",
    "        \n",
    "    \n",
    "print(\"Done\")"
   ]
  },
  {
   "cell_type": "code",
   "execution_count": null,
   "id": "3fbf90b4",
   "metadata": {},
   "outputs": [],
   "source": []
  }
 ],
 "metadata": {
  "kernelspec": {
   "display_name": "Python 3 (ipykernel)",
   "language": "python",
   "name": "python3"
  },
  "language_info": {
   "codemirror_mode": {
    "name": "ipython",
    "version": 3
   },
   "file_extension": ".py",
   "mimetype": "text/x-python",
   "name": "python",
   "nbconvert_exporter": "python",
   "pygments_lexer": "ipython3",
   "version": "3.10.4"
  },
  "varInspector": {
   "cols": {
    "lenName": 16,
    "lenType": 16,
    "lenVar": 40
   },
   "kernels_config": {
    "python": {
     "delete_cmd_postfix": "",
     "delete_cmd_prefix": "del ",
     "library": "var_list.py",
     "varRefreshCmd": "print(var_dic_list())"
    },
    "r": {
     "delete_cmd_postfix": ") ",
     "delete_cmd_prefix": "rm(",
     "library": "var_list.r",
     "varRefreshCmd": "cat(var_dic_list()) "
    }
   },
   "types_to_exclude": [
    "module",
    "function",
    "builtin_function_or_method",
    "instance",
    "_Feature"
   ],
   "window_display": false
  }
 },
 "nbformat": 4,
 "nbformat_minor": 5
}
