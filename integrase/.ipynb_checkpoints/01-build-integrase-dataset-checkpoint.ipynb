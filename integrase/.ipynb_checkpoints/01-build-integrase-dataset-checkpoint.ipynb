{
 "cells": [
  {
   "cell_type": "code",
   "execution_count": 1,
   "id": "4ec8aa28",
   "metadata": {
    "ExecuteTime": {
     "end_time": "2022-06-13T21:00:20.774834Z",
     "start_time": "2022-06-13T21:00:20.768582Z"
    }
   },
   "outputs": [],
   "source": [
    "#!python3 -m pip install biopython"
   ]
  },
  {
   "cell_type": "code",
   "execution_count": 1,
   "id": "pointed-actress",
   "metadata": {
    "ExecuteTime": {
     "end_time": "2022-06-15T21:12:46.491013Z",
     "start_time": "2022-06-15T21:12:46.199263Z"
    }
   },
   "outputs": [],
   "source": [
    "from Bio import GenBank\n",
    "from pathlib import Path\n",
    "import pandas as pd"
   ]
  },
  {
   "cell_type": "code",
   "execution_count": 2,
   "id": "facial-assumption",
   "metadata": {
    "ExecuteTime": {
     "end_time": "2022-06-15T21:12:48.358067Z",
     "start_time": "2022-06-15T21:12:48.354945Z"
    }
   },
   "outputs": [],
   "source": [
    "data_path = \"/data/hiv/data\"\n",
    "GENES = ['pol', 'gag-pol']#, 'env', 'gag', 'vpr', 'vif', 'tat', 'rev', 'vpu', 'nef']"
   ]
  },
  {
   "cell_type": "code",
   "execution_count": 26,
   "id": "ceramic-solomon",
   "metadata": {
    "ExecuteTime": {
     "end_time": "2022-06-13T21:00:21.101690Z",
     "start_time": "2022-06-13T21:00:21.088420Z"
    },
    "scrolled": false
   },
   "outputs": [],
   "source": [
    "def parse_record(record):\n",
    "    obj = {}\n",
    "    \n",
    "    if 'HIV' in record.source:\n",
    "        \n",
    "#         if len(record.sequence) <= 200:\n",
    "#             return None\n",
    "\n",
    "        obj = {\n",
    "            \"accession\": record.accession[0], \n",
    "            'length': len(record.sequence),\n",
    "            'sequence': record.sequence       \n",
    "        }\n",
    "\n",
    "        #[Feature(key='source', location='1..1686'), Feature(key='gene', location='<1..>1686'), Feature(key='CDS', location='<1..>1686')]\n",
    "        for feature in record.features:\n",
    "            if feature.key == \"source\":\n",
    "                # [Qualifier(key='/organism=', value='\"Human immunodeficiency virus 1\"'), Qualifier(key='/proviral', value=''), Qualifier(key='/mol_type=', value='\"genomic DNA\"'), Qualifier(key='/db_xref=', value='\"taxon:11676\"'), Qualifier(key='/country=', value='\"Spain\"')]\n",
    "                for qualifier in feature.qualifiers:\n",
    "                    if qualifier.key == \"/country=\":\n",
    "                        obj[\"country\"] = qualifier.value.replace('\"','').replace(\"'\", \"\")\n",
    "\n",
    "            if feature.key == \"gene\":\n",
    "                pass\n",
    "\n",
    "            if feature.key == \"CDS\":\n",
    "                gene = None\n",
    "                sequence = None\n",
    "                integrase = False\n",
    "                \n",
    "                for qualifier in feature.qualifiers:\n",
    "                    if qualifier.key == \"/gene=\":\n",
    "                        gene = qualifier.value.replace('\"','').replace(\"'\", \"\").lower()\n",
    "\n",
    "                    if qualifier.key == \"/translation=\":\n",
    "                        sequence = qualifier.value.replace('\"','').replace(\"'\", \"\")\n",
    "                    \n",
    "                    if qualifier.key == \"/product=\":\n",
    "                        value = qualifier.value.replace('\"','').replace(\"'\", \"\") \n",
    "                        if value == \"integrase\":\n",
    "                            integrase = True\n",
    "                \n",
    "                if sequence and integrase:\n",
    "#                     print(f\"{record.accession[0]} {sequence}\")\n",
    "                    obj[gene] = sequence    \n",
    "    \n",
    "    if len(obj.keys()) <= 4:\n",
    "        # accession, length, sequence, country\n",
    "        return None\n",
    "    \n",
    "    return obj \n",
    "    \n",
    "    \n",
    "def parse_file(filename):\n",
    "    data = []\n",
    "    with open(filename, \"r\") as handle:\n",
    "        records = GenBank.parse(handle)\n",
    "        while True:\n",
    "            try:\n",
    "                obj = parse_record(records.__next__())\n",
    "                if obj:\n",
    "                    data.append(obj)\n",
    "            \n",
    "            except StopIteration as e:\n",
    "                break\n",
    "                    \n",
    "            except Exception as exc:\n",
    "                print(exc)\n",
    "                \n",
    "    return data                "
   ]
  },
  {
   "cell_type": "code",
   "execution_count": 27,
   "id": "conventional-detroit",
   "metadata": {
    "ExecuteTime": {
     "end_time": "2022-06-13T22:00:12.731943Z",
     "start_time": "2022-06-13T21:00:21.103194Z"
    },
    "scrolled": false
   },
   "outputs": [
    {
     "name": "stdout",
     "output_type": "stream",
     "text": [
      "Parsing /data/hiv/data/gbvrl1.seq\n",
      "Done\n"
     ]
    }
   ],
   "source": [
    "data = []\n",
    "for filename in sorted(list(Path(data_path).glob(\"*.seq\"))):\n",
    "    print(f\"Parsing {filename}\")\n",
    "    sub_data = parse_file(filename)\n",
    "    if len(sub_data) > 0:\n",
    "        data.extend(sub_data)\n",
    "        sub_df = pd.DataFrame(sub_data)\n",
    "        sub_df.to_csv(filename.with_suffix(\".csv\"))\n",
    "        print(\"Done\")\n",
    "    else:\n",
    "        print(\"No useful data\")\n",
    "        \n",
    "\n",
    "df = pd.DataFrame(data)\n",
    "df.to_csv(Path(data_path).joinpath(\"2-integrase.csv\"), index = False)    "
   ]
  },
  {
   "cell_type": "code",
   "execution_count": 28,
   "id": "a88ddc93",
   "metadata": {
    "ExecuteTime": {
     "end_time": "2022-06-13T22:00:12.768652Z",
     "start_time": "2022-06-13T22:00:12.733425Z"
    }
   },
   "outputs": [
    {
     "data": {
      "text/html": [
       "<div>\n",
       "<style scoped>\n",
       "    .dataframe tbody tr th:only-of-type {\n",
       "        vertical-align: middle;\n",
       "    }\n",
       "\n",
       "    .dataframe tbody tr th {\n",
       "        vertical-align: top;\n",
       "    }\n",
       "\n",
       "    .dataframe thead th {\n",
       "        text-align: right;\n",
       "    }\n",
       "</style>\n",
       "<table border=\"1\" class=\"dataframe\">\n",
       "  <thead>\n",
       "    <tr style=\"text-align: right;\">\n",
       "      <th></th>\n",
       "      <th>accession</th>\n",
       "      <th>length</th>\n",
       "      <th>sequence</th>\n",
       "      <th>country</th>\n",
       "      <th>pol</th>\n",
       "    </tr>\n",
       "  </thead>\n",
       "  <tbody>\n",
       "    <tr>\n",
       "      <th>0</th>\n",
       "      <td>AB716142</td>\n",
       "      <td>864</td>\n",
       "      <td>TTTTTAGATGGGATAGAKAAGGCTCAAGAAGAACATGAAAGATATC...</td>\n",
       "      <td>Iran:Tehran</td>\n",
       "      <td>FLDGIXKAQEEHERYHSNWRAMASDFNLPPIVAKEIVANCDKCQLK...</td>\n",
       "    </tr>\n",
       "    <tr>\n",
       "      <th>1</th>\n",
       "      <td>AB716143</td>\n",
       "      <td>864</td>\n",
       "      <td>TTCTTAGATGGAATAGATAAGGCTCAAGAAGAACATGAAAGATATC...</td>\n",
       "      <td>Iran:Tehran</td>\n",
       "      <td>FLDGIDKAQEEHERYHSNWRAMASDFNLPPVVAKQIVANCDKCQLK...</td>\n",
       "    </tr>\n",
       "    <tr>\n",
       "      <th>2</th>\n",
       "      <td>AB716144</td>\n",
       "      <td>864</td>\n",
       "      <td>TTTCTAGATGGAATAGATAAGGCTCAAGAAGACCATGAAAAATATC...</td>\n",
       "      <td>Iran:Tehran</td>\n",
       "      <td>FLDGIDKAQEDHEKYHSNWRAMASDFNLPPIVAKEIVANCDKCQLK...</td>\n",
       "    </tr>\n",
       "    <tr>\n",
       "      <th>3</th>\n",
       "      <td>AB716145</td>\n",
       "      <td>864</td>\n",
       "      <td>TTTTTAGATGGAATAGATAAGGCTCAAGAAGAACATGAAAGATATC...</td>\n",
       "      <td>Iran:Tehran</td>\n",
       "      <td>FLDGIDKAQEEHERYHSNWRAMASDFNLPPVIAKEIVASCNKCQJK...</td>\n",
       "    </tr>\n",
       "    <tr>\n",
       "      <th>4</th>\n",
       "      <td>AB716146</td>\n",
       "      <td>864</td>\n",
       "      <td>TTTTTAGATGGAATAGATAAGGCTCAAGAAGAACATGAAAAATATC...</td>\n",
       "      <td>Iran:Tehran</td>\n",
       "      <td>FLDGIDKAQEEHEKYHNNWRAMASDFNLPPVVAKQIVANCDKCQLK...</td>\n",
       "    </tr>\n",
       "    <tr>\n",
       "      <th>...</th>\n",
       "      <td>...</td>\n",
       "      <td>...</td>\n",
       "      <td>...</td>\n",
       "      <td>...</td>\n",
       "      <td>...</td>\n",
       "    </tr>\n",
       "    <tr>\n",
       "      <th>2393</th>\n",
       "      <td>AF120201</td>\n",
       "      <td>288</td>\n",
       "      <td>AATTCCAGCAGAAACAGGACAGGAGACAGCATACTTTATACTAAAG...</td>\n",
       "      <td>Republic of the Congo</td>\n",
       "      <td>IPAETGQETAYFILKLAGRWPVKVIHTDNGSNFTSAAVKAACWWAN...</td>\n",
       "    </tr>\n",
       "    <tr>\n",
       "      <th>2394</th>\n",
       "      <td>AF203329</td>\n",
       "      <td>933</td>\n",
       "      <td>CCGCGGGAATCAGGAAAGTACTATTTTTAGATGGAATAGATAAGGC...</td>\n",
       "      <td>USA</td>\n",
       "      <td>AGIRKVLFLDGIDKAQEDHERYHSNWRAMASDFNIPAVVAKEIVAS...</td>\n",
       "    </tr>\n",
       "    <tr>\n",
       "      <th>2395</th>\n",
       "      <td>AF203330</td>\n",
       "      <td>933</td>\n",
       "      <td>CCGCGGGAATCAGGAAAGTACTATTTTTAGATGGAATAGATAAGGC...</td>\n",
       "      <td>USA</td>\n",
       "      <td>AGIRKVLFLDGIDKAQEDHEKYHTNWRAMASDFNLPPVVAKEIMAS...</td>\n",
       "    </tr>\n",
       "    <tr>\n",
       "      <th>2396</th>\n",
       "      <td>AF203331</td>\n",
       "      <td>933</td>\n",
       "      <td>CCGCGGGAATCAGGAAAGTACTGTTTTTAGATGGAATAGATAAGGC...</td>\n",
       "      <td>USA</td>\n",
       "      <td>AGIRKVLFLDGIDKAQEEHEKYHSNWRAMASDFNLPPVVAKEIVAS...</td>\n",
       "    </tr>\n",
       "    <tr>\n",
       "      <th>2397</th>\n",
       "      <td>AF203332</td>\n",
       "      <td>933</td>\n",
       "      <td>CCGCGGGAATCAGGAAAGTACTATTTTTGGATGGAATAGATAAGGC...</td>\n",
       "      <td>USA</td>\n",
       "      <td>AGIRKVLFLDGIDKAQEEHERYHSNWRAMVGDFNIPPVVAKEIVAS...</td>\n",
       "    </tr>\n",
       "  </tbody>\n",
       "</table>\n",
       "<p>2398 rows × 5 columns</p>\n",
       "</div>"
      ],
      "text/plain": [
       "     accession  length                                           sequence  \\\n",
       "0     AB716142     864  TTTTTAGATGGGATAGAKAAGGCTCAAGAAGAACATGAAAGATATC...   \n",
       "1     AB716143     864  TTCTTAGATGGAATAGATAAGGCTCAAGAAGAACATGAAAGATATC...   \n",
       "2     AB716144     864  TTTCTAGATGGAATAGATAAGGCTCAAGAAGACCATGAAAAATATC...   \n",
       "3     AB716145     864  TTTTTAGATGGAATAGATAAGGCTCAAGAAGAACATGAAAGATATC...   \n",
       "4     AB716146     864  TTTTTAGATGGAATAGATAAGGCTCAAGAAGAACATGAAAAATATC...   \n",
       "...        ...     ...                                                ...   \n",
       "2393  AF120201     288  AATTCCAGCAGAAACAGGACAGGAGACAGCATACTTTATACTAAAG...   \n",
       "2394  AF203329     933  CCGCGGGAATCAGGAAAGTACTATTTTTAGATGGAATAGATAAGGC...   \n",
       "2395  AF203330     933  CCGCGGGAATCAGGAAAGTACTATTTTTAGATGGAATAGATAAGGC...   \n",
       "2396  AF203331     933  CCGCGGGAATCAGGAAAGTACTGTTTTTAGATGGAATAGATAAGGC...   \n",
       "2397  AF203332     933  CCGCGGGAATCAGGAAAGTACTATTTTTGGATGGAATAGATAAGGC...   \n",
       "\n",
       "                    country                                                pol  \n",
       "0               Iran:Tehran  FLDGIXKAQEEHERYHSNWRAMASDFNLPPIVAKEIVANCDKCQLK...  \n",
       "1               Iran:Tehran  FLDGIDKAQEEHERYHSNWRAMASDFNLPPVVAKQIVANCDKCQLK...  \n",
       "2               Iran:Tehran  FLDGIDKAQEDHEKYHSNWRAMASDFNLPPIVAKEIVANCDKCQLK...  \n",
       "3               Iran:Tehran  FLDGIDKAQEEHERYHSNWRAMASDFNLPPVIAKEIVASCNKCQJK...  \n",
       "4               Iran:Tehran  FLDGIDKAQEEHEKYHNNWRAMASDFNLPPVVAKQIVANCDKCQLK...  \n",
       "...                     ...                                                ...  \n",
       "2393  Republic of the Congo  IPAETGQETAYFILKLAGRWPVKVIHTDNGSNFTSAAVKAACWWAN...  \n",
       "2394                    USA  AGIRKVLFLDGIDKAQEDHERYHSNWRAMASDFNIPAVVAKEIVAS...  \n",
       "2395                    USA  AGIRKVLFLDGIDKAQEDHEKYHTNWRAMASDFNLPPVVAKEIMAS...  \n",
       "2396                    USA  AGIRKVLFLDGIDKAQEEHEKYHSNWRAMASDFNLPPVVAKEIVAS...  \n",
       "2397                    USA  AGIRKVLFLDGIDKAQEEHERYHSNWRAMVGDFNIPPVVAKEIVAS...  \n",
       "\n",
       "[2398 rows x 5 columns]"
      ]
     },
     "execution_count": 28,
     "metadata": {},
     "output_type": "execute_result"
    }
   ],
   "source": [
    "df"
   ]
  },
  {
   "cell_type": "code",
   "execution_count": null,
   "id": "iraqi-uzbekistan",
   "metadata": {
    "ExecuteTime": {
     "end_time": "2022-06-13T22:00:19.215412Z",
     "start_time": "2022-06-13T22:00:19.215401Z"
    }
   },
   "outputs": [],
   "source": [
    "!jupyter nbconvert --to script 01-build-dataset.ipynb --no-prompt"
   ]
  }
 ],
 "metadata": {
  "kernelspec": {
   "display_name": "Python 3",
   "language": "python",
   "name": "python3"
  },
  "language_info": {
   "codemirror_mode": {
    "name": "ipython",
    "version": 3
   },
   "file_extension": ".py",
   "mimetype": "text/x-python",
   "name": "python",
   "nbconvert_exporter": "python",
   "pygments_lexer": "ipython3",
   "version": "3.8.10"
  },
  "varInspector": {
   "cols": {
    "lenName": 16,
    "lenType": 16,
    "lenVar": 40
   },
   "kernels_config": {
    "python": {
     "delete_cmd_postfix": "",
     "delete_cmd_prefix": "del ",
     "library": "var_list.py",
     "varRefreshCmd": "print(var_dic_list())"
    },
    "r": {
     "delete_cmd_postfix": ") ",
     "delete_cmd_prefix": "rm(",
     "library": "var_list.r",
     "varRefreshCmd": "cat(var_dic_list()) "
    }
   },
   "types_to_exclude": [
    "module",
    "function",
    "builtin_function_or_method",
    "instance",
    "_Feature"
   ],
   "window_display": false
  }
 },
 "nbformat": 4,
 "nbformat_minor": 5
}
