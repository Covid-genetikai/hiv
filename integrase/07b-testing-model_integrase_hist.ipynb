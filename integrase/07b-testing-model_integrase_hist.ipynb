{
 "cells": [
  {
   "cell_type": "code",
   "execution_count": 1,
   "id": "e523de0a",
   "metadata": {},
   "outputs": [],
   "source": [
    "import scipy\n",
    "import numpy as np\n",
    "import pandas as pd\n",
    "from tqdm.notebook import tqdm\n",
    "import tensorflow as tf\n",
    "from tensorflow import keras\n",
    "from Levenshtein import *\n",
    "from seq_diff import diff_html"
   ]
  },
  {
   "cell_type": "code",
   "execution_count": 2,
   "id": "0f6867de",
   "metadata": {},
   "outputs": [],
   "source": [
    "import matplotlib.pyplot as plt\n",
    "\n",
    "%matplotlib inline\n",
    "plt.rcParams['figure.figsize'] = (16, 8)"
   ]
  },
  {
   "cell_type": "code",
   "execution_count": 3,
   "id": "a5f36a42",
   "metadata": {},
   "outputs": [],
   "source": [
    "with np.load('data/integrase/train_cut.npz', allow_pickle = True) as data:\n",
    "    X = data['parents']\n",
    "    Y = data['children']\n",
    "    V = data['vocab_index'].tolist()"
   ]
  },
  {
   "cell_type": "code",
   "execution_count": 4,
   "id": "f88c5572",
   "metadata": {},
   "outputs": [
    {
     "data": {
      "text/plain": [
       "{'A': 0,\n",
       " 'B': 1,\n",
       " 'C': 2,\n",
       " 'D': 3,\n",
       " 'E': 4,\n",
       " 'F': 5,\n",
       " 'G': 6,\n",
       " 'H': 7,\n",
       " 'I': 8,\n",
       " 'K': 9,\n",
       " 'L': 10,\n",
       " 'M': 11,\n",
       " 'N': 12,\n",
       " 'P': 13,\n",
       " 'Q': 14,\n",
       " 'R': 15,\n",
       " 'S': 16,\n",
       " 'T': 17,\n",
       " 'V': 18,\n",
       " 'W': 19,\n",
       " 'X': 20,\n",
       " 'Y': 21,\n",
       " 'Z': 22}"
      ]
     },
     "execution_count": 4,
     "metadata": {},
     "output_type": "execute_result"
    }
   ],
   "source": [
    "V"
   ]
  },
  {
   "cell_type": "code",
   "execution_count": 5,
   "id": "f07e51f1",
   "metadata": {},
   "outputs": [
    {
     "name": "stderr",
     "output_type": "stream",
     "text": [
      "2022-09-12 12:59:22.474749: I tensorflow/stream_executor/cuda/cuda_gpu_executor.cc:975] successful NUMA node read from SysFS had negative value (-1), but there must be at least one NUMA node, so returning NUMA node zero\n",
      "2022-09-12 12:59:22.498970: I tensorflow/stream_executor/cuda/cuda_gpu_executor.cc:975] successful NUMA node read from SysFS had negative value (-1), but there must be at least one NUMA node, so returning NUMA node zero\n",
      "2022-09-12 12:59:22.499115: I tensorflow/stream_executor/cuda/cuda_gpu_executor.cc:975] successful NUMA node read from SysFS had negative value (-1), but there must be at least one NUMA node, so returning NUMA node zero\n",
      "2022-09-12 12:59:22.500049: I tensorflow/core/platform/cpu_feature_guard.cc:193] This TensorFlow binary is optimized with oneAPI Deep Neural Network Library (oneDNN) to use the following CPU instructions in performance-critical operations:  AVX2 FMA\n",
      "To enable them in other operations, rebuild TensorFlow with the appropriate compiler flags.\n",
      "2022-09-12 12:59:22.500856: I tensorflow/stream_executor/cuda/cuda_gpu_executor.cc:975] successful NUMA node read from SysFS had negative value (-1), but there must be at least one NUMA node, so returning NUMA node zero\n",
      "2022-09-12 12:59:22.500987: I tensorflow/stream_executor/cuda/cuda_gpu_executor.cc:975] successful NUMA node read from SysFS had negative value (-1), but there must be at least one NUMA node, so returning NUMA node zero\n",
      "2022-09-12 12:59:22.501101: I tensorflow/stream_executor/cuda/cuda_gpu_executor.cc:975] successful NUMA node read from SysFS had negative value (-1), but there must be at least one NUMA node, so returning NUMA node zer"
     ]
    },
    {
     "name": "stdout",
     "output_type": "stream",
     "text": [
      "WARNING:tensorflow:Layer gru will not use cuDNN kernels since it doesn't meet the criteria. It will use a generic GPU kernel as fallback when running on GPU.\n",
      "WARNING:tensorflow:Layer gru_1 will not use cuDNN kernels since it doesn't meet the criteria. It will use a generic GPU kernel as fallback when running on GPU.\n"
     ]
    },
    {
     "name": "stderr",
     "output_type": "stream",
     "text": [
      "o\n",
      "2022-09-12 12:59:23.107208: I tensorflow/stream_executor/cuda/cuda_gpu_executor.cc:975] successful NUMA node read from SysFS had negative value (-1), but there must be at least one NUMA node, so returning NUMA node zero\n",
      "2022-09-12 12:59:23.107365: I tensorflow/stream_executor/cuda/cuda_gpu_executor.cc:975] successful NUMA node read from SysFS had negative value (-1), but there must be at least one NUMA node, so returning NUMA node zero\n",
      "2022-09-12 12:59:23.107482: I tensorflow/stream_executor/cuda/cuda_gpu_executor.cc:975] successful NUMA node read from SysFS had negative value (-1), but there must be at least one NUMA node, so returning NUMA node zero\n",
      "2022-09-12 12:59:23.107581: I tensorflow/core/common_runtime/gpu/gpu_device.cc:1532] Created device /job:localhost/replica:0/task:0/device:GPU:0 with 9781 MB memory:  -> device: 0, name: NVIDIA GeForce GTX 1080 Ti, pci bus id: 0000:01:00.0, compute capability: 6.1\n"
     ]
    },
    {
     "data": {
      "text/plain": [
       "<keras.engine.functional.Functional at 0x7f785344bca0>"
      ]
     },
     "execution_count": 5,
     "metadata": {},
     "output_type": "execute_result"
    }
   ],
   "source": [
    "model = keras.models.load_model(\"./models/integrase_cut4\")\n",
    "model"
   ]
  },
  {
   "cell_type": "code",
   "execution_count": 6,
   "id": "4c6bb686",
   "metadata": {
    "scrolled": true
   },
   "outputs": [],
   "source": [
    "token_index = V\n",
    "reverse_char_index = dict((i, char) for char, i in token_index.items())\n",
    "decode_seq = lambda seq: [ ''.join([ reverse_char_index[i] for i in s ]) for s in np.argmax(seq, axis = 2)]"
   ]
  },
  {
   "cell_type": "markdown",
   "id": "5969df5f",
   "metadata": {},
   "source": [
    "# New heading"
   ]
  },
  {
   "cell_type": "code",
   "execution_count": 7,
   "id": "0504bef4",
   "metadata": {},
   "outputs": [
    {
     "data": {
      "text/html": [
       "<div style=\"width:100%; word-wrap: break-word; font-family: monospace\">FLDGIDKAQDEHEKYHSNWRAMASDFNLPPVVAKEIVASCDKCQLKGEA<span style=\"background: #FF929B;\">M</span>HGQVDCSPGIWQLDCTHLEGKVILVAVHVASGYIEAEVIPAETGQETAYFLLKLAGRWPVK<span style=\"background: #FF929B;\">T</span>IHTDNGSNFTSTTVKAACWWAGIKQEFGIPYNPQSQGVVESMN<span style=\"background: #FF929B;\">K</span>ELKKIIGQVRDQAEHLKTAVQMAVFIHNFKRKGGIGGYSAGERIVDIIATDIQTKELQKQITKIQNFRVYYRDSRDPLWKGPAKLLWKGEGAVVIQDNSDIKVVPRRKAKIIRDYGKQMAGDDCVASRQDEDA</div>"
      ],
      "text/plain": [
       "<IPython.core.display.HTML object>"
      ]
     },
     "metadata": {},
     "output_type": "display_data"
    },
    {
     "data": {
      "text/html": [
       "<div style=\"width:100%; word-wrap: break-word; font-family: monospace\">FLDGIDKAQDEHEKYHSNWRAMASDFNLPPVVAKEIVASCDKCQLKGEA<span style=\"background: #FF929B;\">X</span>HGQVDCSPGIWQLDCTHLEGKVILVAVHVASGYIEAEVIPAETGQETAYFLLKLAGRWPVK<span style=\"background: #FF929B;\">X</span>IHTDNGSNFTSTTVKAACWWAGIKQEFGIPYNPQSQGVVESMN<span style=\"background: #FF929B;\">X</span>ELKKIIGQVRDQAEHLKTAVQMAVFIHNFKRKGGIGGYSAGERIVDIIATDIQTKELQKQITKIQNFRVYYRDSRDPLWKGPAKLLWKGEGAVVIQDNSDIKVVPRRKAKIIRDYGKQMAGDDCVASRQDEDA</div>"
      ],
      "text/plain": [
       "<IPython.core.display.HTML object>"
      ]
     },
     "metadata": {},
     "output_type": "display_data"
    }
   ],
   "source": [
    "i = 10\n",
    "x1 = decode_seq(X[i:i+1,:,:])[0]\n",
    "y1 = decode_seq(Y[i:i+1,:,:])[0]\n",
    "_ = diff_html(x1, y1, display_a=True, display_b=True)"
   ]
  },
  {
   "cell_type": "code",
   "execution_count": 8,
   "id": "28d73ac7",
   "metadata": {},
   "outputs": [
    {
     "data": {
      "text/plain": [
       "289"
      ]
     },
     "execution_count": 8,
     "metadata": {},
     "output_type": "execute_result"
    }
   ],
   "source": [
    "len(x1)"
   ]
  },
  {
   "cell_type": "code",
   "execution_count": 9,
   "id": "305ea963",
   "metadata": {},
   "outputs": [
    {
     "data": {
      "text/plain": [
       "(1, 289, 23)"
      ]
     },
     "execution_count": 9,
     "metadata": {},
     "output_type": "execute_result"
    }
   ],
   "source": [
    "X[i:i+1,:,:].shape"
   ]
  },
  {
   "cell_type": "code",
   "execution_count": 10,
   "id": "c1869394",
   "metadata": {},
   "outputs": [
    {
     "data": {
      "text/plain": [
       "array([[[0, 0, 0, ..., 0, 0, 0],\n",
       "        [0, 0, 0, ..., 0, 0, 0],\n",
       "        [0, 0, 0, ..., 0, 0, 0],\n",
       "        ...,\n",
       "        [0, 0, 0, ..., 0, 0, 0],\n",
       "        [0, 0, 0, ..., 0, 0, 0],\n",
       "        [1, 0, 0, ..., 0, 0, 0]]], dtype=int16)"
      ]
     },
     "execution_count": 10,
     "metadata": {},
     "output_type": "execute_result"
    }
   ],
   "source": [
    " X[i:i+1,:,:]"
   ]
  },
  {
   "cell_type": "code",
   "execution_count": 11,
   "id": "d37f5efd",
   "metadata": {},
   "outputs": [
    {
     "data": {
      "text/plain": [
       "[array([[[0, 0, 0, ..., 0, 0, 0],\n",
       "         [0, 0, 0, ..., 0, 0, 0],\n",
       "         [0, 0, 0, ..., 0, 0, 0],\n",
       "         ...,\n",
       "         [0, 0, 0, ..., 0, 0, 0],\n",
       "         [0, 0, 0, ..., 0, 0, 0],\n",
       "         [1, 0, 0, ..., 0, 0, 0]]], dtype=int16),\n",
       " array([0.01])]"
      ]
     },
     "execution_count": 11,
     "metadata": {},
     "output_type": "execute_result"
    }
   ],
   "source": [
    "[ X[i:i+1,:,:], np.array([0.01])]"
   ]
  },
  {
   "cell_type": "code",
   "execution_count": 12,
   "id": "0bc56fde",
   "metadata": {},
   "outputs": [
    {
     "name": "stdout",
     "output_type": "stream",
     "text": [
      "1/1 [==============================] - 1s 801ms/step\n"
     ]
    },
    {
     "data": {
      "text/html": [
       "<div style=\"width:100%; word-wrap: break-word; font-family: monospace\">FLDGIDKAQ<span style=\"background: #FF929B;\"></span>D<span style=\"background: #FF929B;\">E</span>HEKYHSNWRAMASDFNLPPVVAKEIVASCDKCQLKGEAMHGQVDCSPGIWQLDCTH<span style=\"background: #FF929B;\">L</span>EGKVILVAV<span style=\"background: #FF929B;\">H</span>VASGYIEAEVIPAETGQETAYFLLKLAGRWPVK<span style=\"background: #FF929B;\">T</span>IHTDNGSNFTSTTVKAACWWAGIKQEFGIPYNPQSQGVVESMNKELKKIIGQVRDQAEHLKTAVQMAVFIHNFKRKGGIGGYSAGERIVDI<span style=\"background: #FF929B;\">I</span>ATDIQTKELQKQI<span style=\"background: #FF929B;\">T</span>KIQNFRVYYRDSRDPLWKGPAKLLWKGEGAVVIQDNSDIKVVPRRKAKIIRDYGKQMAGDDCVASRQDEDA</div>"
      ],
      "text/plain": [
       "<IPython.core.display.HTML object>"
      ]
     },
     "metadata": {},
     "output_type": "display_data"
    },
    {
     "data": {
      "text/html": [
       "<div style=\"width:100%; word-wrap: break-word; font-family: monospace\">FLDGIDKAQ<span style=\"background: #FF929B;\">Q</span>D<span style=\"background: #FF929B;\"></span>HEKYHSNWRAMASDFNLPPVVAKEIVASCDKCQLKGEAMHGQVDCSPGIWQLDCTH<span style=\"background: #FF929B;\">H</span>EGKVILVAV<span style=\"background: #FF929B;\">V</span>VASGYIEAEVIPAETGQETAYFLLKLAGRWPVK<span style=\"background: #FF929B;\">V</span>IHTDNGSNFTSTTVKAACWWAGIKQEFGIPYNPQSQGVVESMNKELKKIIGQVRDQAEHLKTAVQMAVFIHNFKRKGGIGGYSAGERIVDI<span style=\"background: #FF929B;\">V</span>ATDIQTKELQKQI<span style=\"background: #FF929B;\">Q</span>KIQNFRVYYRDSRDPLWKGPAKLLWKGEGAVVIQDNSDIKVVPRRKAKIIRDYGKQMAGDDCVASRQDEDA</div>"
      ],
      "text/plain": [
       "<IPython.core.display.HTML object>"
      ]
     },
     "metadata": {},
     "output_type": "display_data"
    }
   ],
   "source": [
    "yp1 = decode_seq(model.predict([ X[i:i+1,:,:], np.array([0.01])]))[0]\n",
    "\n",
    "_ = diff_html(x1, yp1, display_a=True, display_b=True)"
   ]
  },
  {
   "cell_type": "code",
   "execution_count": 13,
   "id": "cc9782fe",
   "metadata": {},
   "outputs": [],
   "source": [
    "cce = tf.keras.losses.CategoricalCrossentropy()\n"
   ]
  },
  {
   "cell_type": "code",
   "execution_count": 14,
   "id": "f09bfc7d",
   "metadata": {},
   "outputs": [
    {
     "data": {
      "text/plain": [
       "<tf.Tensor: shape=(), dtype=float32, numpy=0.6086736>"
      ]
     },
     "execution_count": 14,
     "metadata": {},
     "output_type": "execute_result"
    }
   ],
   "source": [
    "cce(np.array(X, dtype=np.float32),np.array(Y, dtype=np.float32))"
   ]
  },
  {
   "cell_type": "code",
   "execution_count": 15,
   "id": "09322394",
   "metadata": {},
   "outputs": [],
   "source": [
    "ce_0 = 0.6086736"
   ]
  },
  {
   "cell_type": "code",
   "execution_count": 16,
   "id": "37e6bf9d",
   "metadata": {
    "scrolled": true
   },
   "outputs": [
    {
     "data": {
      "application/vnd.jupyter.widget-view+json": {
       "model_id": "84497c6525314dfb934f94e5befe3e7a",
       "version_major": 2,
       "version_minor": 0
      },
      "text/plain": [
       "  0%|          | 0/20 [00:00<?, ?it/s]"
      ]
     },
     "metadata": {},
     "output_type": "display_data"
    },
    {
     "name": "stdout",
     "output_type": "stream",
     "text": [
      "501/501 [==============================] - 4s 7ms/step\n",
      "501/501 [==============================] - 4s 7ms/step\n",
      "501/501 [==============================] - 4s 7ms/step\n",
      "501/501 [==============================] - 4s 7ms/step\n",
      "501/501 [==============================] - 4s 7ms/step\n",
      "501/501 [==============================] - 4s 7ms/step\n",
      "501/501 [==============================] - 4s 7ms/step\n",
      "501/501 [==============================] - 4s 7ms/step\n",
      "501/501 [==============================] - 4s 7ms/step\n",
      "501/501 [==============================] - 4s 7ms/step\n",
      "501/501 [==============================] - 4s 7ms/step\n",
      "501/501 [==============================] - 4s 7ms/step\n",
      "501/501 [==============================] - 4s 7ms/step\n",
      "501/501 [==============================] - 4s 7ms/step\n",
      "501/501 [==============================] - 4s 7ms/step\n",
      "501/501 [==============================] - 4s 7ms/step\n",
      "501/501 [==============================] - 4s 7ms/step\n",
      "501/501 [==============================] - 4s 7ms/step\n",
      "501/501 [==============================] - 4s 8ms/step\n",
      "501/501 [==============================] - 4s 8ms/step\n"
     ]
    }
   ],
   "source": [
    "rand_rates = []\n",
    "for r in tqdm(np.arange(0.00, 0.1, 0.005)):\n",
    "    tf.keras.backend.clear_session()\n",
    "    Y_pred = model.predict([X, np.full((len(X)), r)])\n",
    "    cc = keras.losses.CategoricalCrossentropy()(X, Y_pred).numpy()\n",
    "    rand_rates.append([r, cc])\n",
    "rand_rates = np.array(rand_rates)"
   ]
  },
  {
   "cell_type": "code",
   "execution_count": 17,
   "id": "51790089",
   "metadata": {},
   "outputs": [],
   "source": [
    "from scipy.optimize import curve_fit\n",
    "func = lambda t, a, b, c, d: a * t**3 + b * t**2 + c * t + d\n",
    "p, _ = curve_fit(func, rand_rates[:,0],  rand_rates[:,1])"
   ]
  },
  {
   "cell_type": "code",
   "execution_count": 18,
   "id": "b2422957",
   "metadata": {},
   "outputs": [
    {
     "data": {
      "image/png": "[encoded data removed]",
      "text/plain": [
       "<Figure size 1152x576 with 1 Axes>"
      ]
     },
     "metadata": {
      "needs_background": "light"
     },
     "output_type": "display_data"
    }
   ],
   "source": [
    "plt.plot(rand_rates[:,0], np.full_like(rand_rates[:,1], ce_0), label=\"stebimas, $CE$\")\n",
    "plt.plot(rand_rates[:,0], func(rand_rates[:,0], p[0], p[1], p[2], p[3]), '--', label=\"funkcija, $CE$\")\n",
    "plt.scatter(rand_rates[:,0], rand_rates[:,1], marker='x', label=\"matavimas, $CE$\")\n",
    "plt.ylabel('kryžminė entropija, $CE$')\n",
    "plt.xlabel('atsitiktinio atmetimo dažnis, $ε$')\n",
    "\n",
    "plt.legend()\n",
    "plt.show()"
   ]
  },
  {
   "cell_type": "code",
   "execution_count": 19,
   "id": "7a4cff0e",
   "metadata": {},
   "outputs": [
    {
     "name": "stdout",
     "output_type": "stream",
     "text": [
      "['0.54413', '-1.26385', '1.35631', '-0.39090']\n"
     ]
    },
    {
     "data": {
      "text/plain": [
       "0.08911883482453281"
      ]
     },
     "execution_count": 19,
     "metadata": {},
     "output_type": "execute_result"
    }
   ],
   "source": [
    "p, _ = curve_fit(func, rand_rates[:,1],  rand_rates[:,0])\n",
    "epsilon = func(ce_0, p[0], p[1], p[2], p[3])\n",
    "print([f'{j:0.5f}' for i,j in enumerate(p)])\n",
    "epsilon"
   ]
  },
  {
   "cell_type": "code",
   "execution_count": 22,
   "id": "dcbb3e5a",
   "metadata": {},
   "outputs": [],
   "source": [
    "Y_pred = model.predict([ X, np.full(X.shape[0],0)], verbose=0)"
   ]
  },
  {
   "cell_type": "code",
   "execution_count": 32,
   "id": "346bfe87",
   "metadata": {},
   "outputs": [],
   "source": [
    "X_data = X.astype(np.float32)"
   ]
  },
  {
   "cell_type": "code",
   "execution_count": 33,
   "id": "b10d4406",
   "metadata": {},
   "outputs": [],
   "source": [
    "Y_data = Y.astype(np.float32)"
   ]
  },
  {
   "cell_type": "code",
   "execution_count": 34,
   "id": "81208171",
   "metadata": {},
   "outputs": [
    {
     "data": {
      "text/plain": [
       "0.6086736"
      ]
     },
     "execution_count": 34,
     "metadata": {},
     "output_type": "execute_result"
    }
   ],
   "source": [
    "keras.losses.CategoricalCrossentropy()(X_data, Y_data).numpy()"
   ]
  },
  {
   "cell_type": "code",
   "execution_count": 35,
   "id": "1d79c7c8",
   "metadata": {},
   "outputs": [
    {
     "data": {
      "text/plain": [
       "0.4266823"
      ]
     },
     "execution_count": 35,
     "metadata": {},
     "output_type": "execute_result"
    }
   ],
   "source": [
    "keras.losses.CategoricalCrossentropy()(X_data, Y_pred).numpy()"
   ]
  },
  {
   "cell_type": "code",
   "execution_count": 36,
   "id": "0ab82fdf",
   "metadata": {},
   "outputs": [
    {
     "data": {
      "text/plain": [
       "0.5133512"
      ]
     },
     "execution_count": 36,
     "metadata": {},
     "output_type": "execute_result"
    }
   ],
   "source": [
    "keras.losses.CategoricalCrossentropy()(Y_data, Y_pred).numpy()"
   ]
  },
  {
   "cell_type": "code",
   "execution_count": 37,
   "id": "bfde416b",
   "metadata": {},
   "outputs": [
    {
     "data": {
      "application/vnd.jupyter.widget-view+json": {
       "model_id": "cb665afdb22141fdac7768f3c6305da2",
       "version_major": 2,
       "version_minor": 0
      },
      "text/plain": [
       "  0%|          | 0/16032 [00:00<?, ?it/s]"
      ]
     },
     "metadata": {},
     "output_type": "display_data"
    }
   ],
   "source": [
    "cce = []\n",
    "for i in tqdm(range(len(X_data))):\n",
    "    cce.append([\n",
    "        keras.losses.CategoricalCrossentropy()(X_data[i:i + 1], Y_data[i:i + 1]).numpy(),\n",
    "        keras.losses.CategoricalCrossentropy()(X_data[i:i + 1], Y_pred[i:i + 1]).numpy(),\n",
    "        keras.losses.CategoricalCrossentropy()(Y_data[i:i + 1], Y_pred[i:i + 1]).numpy()\n",
    "    ])\n",
    "cce = np.array(cce)\n"
   ]
  },
  {
   "cell_type": "code",
   "execution_count": 38,
   "id": "74ee1e37",
   "metadata": {},
   "outputs": [],
   "source": [
    "\n",
    "\n",
    "plot_names = [\n",
    "    \"X seka - Y stebima seka\",\n",
    "    \"X seka - Y sugeneruota seka\",\n",
    "    \"Y stebima seka - Y sugeneruota seka\"\n",
    "]\n",
    "\n"
   ]
  },
  {
   "cell_type": "code",
   "execution_count": 39,
   "id": "6664392b",
   "metadata": {},
   "outputs": [
    {
     "data": {
      "image/png": "[encoded data removed]",
      "text/plain": [
       "<Figure size 1152x576 with 1 Axes>"
      ]
     },
     "metadata": {
      "needs_background": "light"
     },
     "output_type": "display_data"
    }
   ],
   "source": [
    "for i, n in enumerate(plot_names):\n",
    "    plt.hist(cce[:,i], fill=False, bins = 10, histtype='step', label=n)\n",
    "plt.xlabel('kryžminės entropijos reikšmės')\n",
    "plt.ylabel('atvejų skaičius')\n",
    "plt.legend()\n",
    "plt.show()"
   ]
  },
  {
   "cell_type": "code",
   "execution_count": 40,
   "id": "a8eddb03",
   "metadata": {},
   "outputs": [],
   "source": [
    "X_secs = decode_seq(X_data)\n",
    "Y_secs = decode_seq(Y_data)\n",
    "Y_pred_secs = decode_seq(Y_pred)"
   ]
  },
  {
   "cell_type": "code",
   "execution_count": 41,
   "id": "e937ed58",
   "metadata": {},
   "outputs": [
    {
     "data": {
      "application/vnd.jupyter.widget-view+json": {
       "model_id": "a1db668a20db4d0ca62d737ed942395e",
       "version_major": 2,
       "version_minor": 0
      },
      "text/plain": [
       "  0%|          | 0/16032 [00:00<?, ?it/s]"
      ]
     },
     "metadata": {},
     "output_type": "display_data"
    }
   ],
   "source": [
    "lev_distances = []\n",
    "for x,y,p in tqdm(list(zip(X_secs, Y_secs, Y_pred_secs))):\n",
    "    lev_distances.append([ \n",
    "        distance(x,y), distance(x,p), distance(y,p)\n",
    "    ])\n",
    "lev_distances = np.array(lev_distances)"
   ]
  },
  {
   "cell_type": "code",
   "execution_count": 42,
   "id": "6df773fd",
   "metadata": {},
   "outputs": [
    {
     "data": {
      "image/png": "[encoded data removed]",
      "text/plain": [
       "<Figure size 1152x576 with 1 Axes>"
      ]
     },
     "metadata": {
      "needs_background": "light"
     },
     "output_type": "display_data"
    }
   ],
   "source": [
    "for i, n in enumerate(plot_names):\n",
    "    plt.hist(lev_distances[:,i], fill=False, bins = 20, density=False, histtype='step', label=n)\n",
    "plt.xlabel('Levenšteino atstumas')\n",
    "plt.ylabel('atvejų skaičius')\n",
    "plt.legend()\n",
    "plt.show()"
   ]
  },
  {
   "cell_type": "code",
   "execution_count": 43,
   "id": "4286946d",
   "metadata": {},
   "outputs": [
    {
     "data": {
      "application/vnd.jupyter.widget-view+json": {
       "model_id": "696597fa54f7470197934d867e4a0d99",
       "version_major": 2,
       "version_minor": 0
      },
      "text/plain": [
       "  0%|          | 0/16032 [00:00<?, ?it/s]"
      ]
     },
     "metadata": {},
     "output_type": "display_data"
    }
   ],
   "source": [
    "\n",
    "\n",
    "lev_ratio = []\n",
    "for x,y,p in tqdm(list(zip(X_secs, Y_secs, Y_pred_secs))):\n",
    "    lev_ratio.append([ \n",
    "        ratio(x,y), ratio(x,p), ratio(y,p)\n",
    "    ])\n",
    "lev_ratio = np.array(lev_ratio)\n",
    "\n"
   ]
  },
  {
   "cell_type": "code",
   "execution_count": 44,
   "id": "d8738ed4",
   "metadata": {},
   "outputs": [
    {
     "data": {
      "image/png": "[encoded data removed]",
      "text/plain": [
       "<Figure size 1152x576 with 1 Axes>"
      ]
     },
     "metadata": {
      "needs_background": "light"
     },
     "output_type": "display_data"
    }
   ],
   "source": [
    "plt.hist(lev_ratio[:,1], fill=False, bins = 25, histtype='step', label=\"X seka - Y stebima seka\")\n",
    "plt.hist(lev_ratio[:,2], fill=False, bins = 25, histtype='step', label=\"X seka - Y sugeneruota seka\")\n",
    "plt.hist(lev_ratio[:,0], fill=False, bins = 25, histtype='step', label=\"Y stebima seka - Y sugeneruota seka\")\n",
    "plt.xlabel('Levenšteino panašumo dažnis')\n",
    "plt.ylabel('atvejų skaičius')\n",
    "plt.legend()\n",
    "plt.show()"
   ]
  },
  {
   "cell_type": "code",
   "execution_count": 45,
   "id": "d5d48b13",
   "metadata": {},
   "outputs": [
    {
     "data": {
      "application/vnd.jupyter.widget-view+json": {
       "model_id": "7d0311a197234f418a3b5be735fb7adf",
       "version_major": 2,
       "version_minor": 0
      },
      "text/plain": [
       "  0%|          | 0/16032 [00:00<?, ?it/s]"
      ]
     },
     "metadata": {},
     "output_type": "display_data"
    }
   ],
   "source": [
    "ham_distances = []\n",
    "for x,y,p in tqdm(list(zip(X_secs, Y_secs, Y_pred_secs))):\n",
    "    ham_distances.append([ \n",
    "        hamming(x,y), hamming(x,p), hamming(y,p)\n",
    "    ])\n",
    "ham_distances = np.array(ham_distances)"
   ]
  },
  {
   "cell_type": "code",
   "execution_count": 46,
   "id": "7b4f01c1",
   "metadata": {},
   "outputs": [
    {
     "data": {
      "image/png": "[encoded data removed]",
      "text/plain": [
       "<Figure size 1152x576 with 1 Axes>"
      ]
     },
     "metadata": {
      "needs_background": "light"
     },
     "output_type": "display_data"
    }
   ],
   "source": [
    "\n",
    "\n",
    "plt.hist(ham_distances[:,1], fill=False, bins = 15, histtype='step', label=\"X seka - Y stebima seka\")\n",
    "plt.hist(ham_distances[:,2], fill=False, bins = 15, histtype='step', label=\"X seka - Y sugeneruota seka\")\n",
    "plt.hist(ham_distances[:,0], fill=False, bins = 15, histtype='step', label=\"Y stebima seka - Y sugeneruota seka\")\n",
    "plt.xlabel('Hammingo atstumas')\n",
    "plt.ylabel('atvejų skaičius')\n",
    "plt.legend()\n",
    "plt.show()\n",
    "\n"
   ]
  },
  {
   "cell_type": "markdown",
   "id": "696125f8",
   "metadata": {},
   "source": [
    "# Mutations"
   ]
  },
  {
   "cell_type": "code",
   "execution_count": 48,
   "id": "5c7b2102",
   "metadata": {},
   "outputs": [],
   "source": [
    "mut01 = np.sum(\n",
    "    (np.subtract(\n",
    "        np.argmax(X_data, axis = 2), \n",
    "        np.argmax(Y_data, axis = 2)\n",
    "    ) != 0.0).astype(int), axis = 0)"
   ]
  },
  {
   "cell_type": "code",
   "execution_count": 49,
   "id": "4682fdd3",
   "metadata": {},
   "outputs": [],
   "source": [
    "mut02 = np.sum(\n",
    "    (np.subtract(\n",
    "        np.argmax(X_data, axis = 2), \n",
    "        np.argmax(Y_pred, axis = 2)\n",
    "    ) != 0.0).astype(int), axis = 0)"
   ]
  },
  {
   "cell_type": "code",
   "execution_count": 50,
   "id": "cd42eff0",
   "metadata": {},
   "outputs": [
    {
     "data": {
      "image/png": "[encoded data removed]",
      "text/plain": [
       "<Figure size 1152x576 with 1 Axes>"
      ]
     },
     "metadata": {
      "needs_background": "light"
     },
     "output_type": "display_data"
    }
   ],
   "source": [
    "x_range = list(range(len(mut01)))\n",
    "plt.bar(x_range, mut02, bottom = mut01, label = 'generuotos mutacijos')\n",
    "plt.bar(x_range, mut01, label = 'stebimos mutacijos')\n",
    "#plt.ylim(0, 200.0)\n",
    "plt.xlim(0, len(mut01))\n",
    "plt.xlabel('aminorūgšties pozicija')\n",
    "plt.ylabel('atvejų skaičius')\n",
    "plt.legend()\n",
    "plt.show()"
   ]
  },
  {
   "cell_type": "code",
   "execution_count": 51,
   "id": "a6bd5650",
   "metadata": {},
   "outputs": [
    {
     "data": {
      "image/png": "[encoded data removed]",
      "text/plain": [
       "<Figure size 1152x576 with 1 Axes>"
      ]
     },
     "metadata": {
      "needs_background": "light"
     },
     "output_type": "display_data"
    }
   ],
   "source": [
    "plt.hist(mut02, bins = 30, label = 'generuotos mutacijos', fill = False, histtype='step')\n",
    "plt.hist(mut01, bins = 30, label = 'stebimos mutacijos', fill = False, histtype='step')\n",
    "\n",
    "plt.legend()\n",
    "plt.show()"
   ]
  },
  {
   "cell_type": "code",
   "execution_count": 52,
   "id": "049e83e0",
   "metadata": {},
   "outputs": [
    {
     "data": {
      "image/png": "[encoded data removed]",
      "text/plain": [
       "<Figure size 1152x576 with 1 Axes>"
      ]
     },
     "metadata": {
      "needs_background": "light"
     },
     "output_type": "display_data"
    }
   ],
   "source": [
    "plt.hist(abs(mut02 - mut01), bins = 30, label = 'stebimos mutacijos', fill = False, histtype='step')\n",
    "plt.legend()\n",
    "plt.show()"
   ]
  },
  {
   "cell_type": "markdown",
   "id": "61701703",
   "metadata": {},
   "source": [
    "# Siblings"
   ]
  },
  {
   "cell_type": "code",
   "execution_count": 53,
   "id": "827fdc21",
   "metadata": {},
   "outputs": [
    {
     "data": {
      "application/vnd.jupyter.widget-view+json": {
       "model_id": "c6b358d794e64b5c83df5e72f202719d",
       "version_major": 2,
       "version_minor": 0
      },
      "text/plain": [
       "  0%|          | 0/10 [00:00<?, ?it/s]"
      ]
     },
     "metadata": {},
     "output_type": "display_data"
    },
    {
     "name": "stdout",
     "output_type": "stream",
     "text": [
      "501/501 [==============================] - 4s 7ms/step\n",
      "501/501 [==============================] - 3s 7ms/step\n",
      "501/501 [==============================] - 3s 7ms/step\n",
      "501/501 [==============================] - 3s 7ms/step\n",
      "501/501 [==============================] - 3s 7ms/step\n",
      "501/501 [==============================] - 3s 7ms/step\n",
      "501/501 [==============================] - 3s 7ms/step\n",
      "501/501 [==============================] - 4s 7ms/step\n",
      "501/501 [==============================] - 3s 6ms/step\n",
      "501/501 [==============================] - 3s 6ms/step\n"
     ]
    }
   ],
   "source": [
    "Y_pred_sibs = []\n",
    "for i in tqdm(range(10)):\n",
    "    y_ = model.predict([ X_data, np.full((len(X_data)), epsilon)])\n",
    "    Y_pred_sibs.append([])\n",
    "    for j in range(len(y_)):\n",
    "        Y_pred_sibs[i].append(\n",
    "            keras.losses.CategoricalCrossentropy()(X_data[j:j + 1], y_[j:j + 1]).numpy()\n",
    "        )\n",
    "Y_pred_sibs = np.array(Y_pred_sibs)"
   ]
  },
  {
   "cell_type": "code",
   "execution_count": 54,
   "id": "a8a69c1f",
   "metadata": {},
   "outputs": [
    {
     "data": {
      "image/png": "[encoded data removed]",
      "text/plain": [
       "<Figure size 1152x576 with 1 Axes>"
      ]
     },
     "metadata": {
      "needs_background": "light"
     },
     "output_type": "display_data"
    }
   ],
   "source": [
    "for i in range(len(Y_pred_sibs)):\n",
    "    plt.hist(Y_pred_sibs[i], fill=False, bins = 35, histtype='step')\n",
    "plt.xlabel('kryžminės entropijos reikšmės')\n",
    "plt.ylabel('atvejų skaičius')\n",
    "plt.show()"
   ]
  },
  {
   "cell_type": "code",
   "execution_count": 55,
   "id": "21925b2f",
   "metadata": {},
   "outputs": [],
   "source": [
    "i = 2\n",
    "n = 100\n"
   ]
  },
  {
   "cell_type": "code",
   "execution_count": 56,
   "id": "f318945d",
   "metadata": {},
   "outputs": [
    {
     "data": {
      "application/vnd.jupyter.widget-view+json": {
       "model_id": "495535391787461faf47a06876ffb936",
       "version_major": 2,
       "version_minor": 0
      },
      "text/plain": [
       "  0%|          | 0/100 [00:00<?, ?it/s]"
      ]
     },
     "metadata": {},
     "output_type": "display_data"
    },
    {
     "name": "stdout",
     "output_type": "stream",
     "text": [
      "1/1 [==============================] - 0s 326ms/step\n",
      "1/1 [==============================] - 0s 17ms/step\n",
      "1/1 [==============================] - 0s 16ms/step\n",
      "1/1 [==============================] - 0s 16ms/step\n",
      "1/1 [==============================] - 0s 16ms/step\n",
      "1/1 [==============================] - 0s 20ms/step\n",
      "1/1 [==============================] - 0s 16ms/step\n",
      "1/1 [==============================] - 0s 20ms/step\n",
      "1/1 [==============================] - 0s 16ms/step\n",
      "1/1 [==============================] - 0s 16ms/step\n",
      "1/1 [==============================] - 0s 16ms/step\n",
      "1/1 [==============================] - 0s 16ms/step\n",
      "1/1 [==============================] - 0s 19ms/step\n",
      "1/1 [==============================] - 0s 16ms/step\n",
      "1/1 [==============================] - 0s 16ms/step\n",
      "1/1 [==============================] - 0s 16ms/step\n",
      "1/1 [==============================] - 0s 16ms/step\n",
      "1/1 [==============================] - 0s 17ms/step\n",
      "1/1 [==============================] - 0s 20ms/step\n",
      "1/1 [==============================] - 0s 16ms/step\n",
      "1/1 [==============================] - 0s 16ms/step\n",
      "1/1 [==============================] - 0s 17ms/step\n",
      "1/1 [==============================] - 0s 16ms/step\n",
      "1/1 [==============================] - 0s 16ms/step\n",
      "1/1 [==============================] - 0s 16ms/step\n",
      "1/1 [==============================] - 0s 16ms/step\n",
      "1/1 [==============================] - 0s 16ms/step\n",
      "1/1 [==============================] - 0s 17ms/step\n",
      "1/1 [==============================] - 0s 16ms/step\n",
      "1/1 [==============================] - 0s 16ms/step\n",
      "1/1 [==============================] - 0s 16ms/step\n",
      "1/1 [==============================] - 0s 16ms/step\n",
      "1/1 [==============================] - 0s 16ms/step\n",
      "1/1 [==============================] - 0s 16ms/step\n",
      "1/1 [==============================] - 0s 20ms/step\n",
      "1/1 [==============================] - 0s 16ms/step\n",
      "1/1 [==============================] - 0s 19ms/step\n",
      "1/1 [==============================] - 0s 18ms/step\n",
      "1/1 [==============================] - 0s 22ms/step\n",
      "1/1 [==============================] - 0s 18ms/step\n",
      "1/1 [==============================] - 0s 16ms/step\n",
      "1/1 [==============================] - 0s 16ms/step\n",
      "1/1 [==============================] - 0s 16ms/step\n",
      "1/1 [==============================] - 0s 16ms/step\n",
      "1/1 [==============================] - 0s 16ms/step\n",
      "1/1 [==============================] - 0s 18ms/step\n",
      "1/1 [==============================] - 0s 16ms/step\n",
      "1/1 [==============================] - 0s 16ms/step\n",
      "1/1 [==============================] - 0s 16ms/step\n",
      "1/1 [==============================] - 0s 16ms/step\n",
      "1/1 [==============================] - 0s 19ms/step\n",
      "1/1 [==============================] - 0s 16ms/step\n",
      "1/1 [==============================] - 0s 20ms/step\n",
      "1/1 [==============================] - 0s 16ms/step\n",
      "1/1 [==============================] - 0s 16ms/step\n",
      "1/1 [==============================] - 0s 16ms/step\n",
      "1/1 [==============================] - 0s 16ms/step\n",
      "1/1 [==============================] - 0s 16ms/step\n",
      "1/1 [==============================] - 0s 16ms/step\n",
      "1/1 [==============================] - 0s 17ms/step\n",
      "1/1 [==============================] - 0s 16ms/step\n",
      "1/1 [==============================] - 0s 16ms/step\n",
      "1/1 [==============================] - 0s 16ms/step\n",
      "1/1 [==============================] - 0s 19ms/step\n",
      "1/1 [==============================] - 0s 19ms/step\n",
      "1/1 [==============================] - 0s 16ms/step\n",
      "1/1 [==============================] - 0s 16ms/step\n",
      "1/1 [==============================] - 0s 17ms/step\n",
      "1/1 [==============================] - 0s 17ms/step\n",
      "1/1 [==============================] - 0s 16ms/step\n",
      "1/1 [==============================] - 0s 16ms/step\n",
      "1/1 [==============================] - 0s 16ms/step\n",
      "1/1 [==============================] - 0s 18ms/step\n",
      "1/1 [==============================] - 0s 19ms/step\n",
      "1/1 [==============================] - 0s 19ms/step\n",
      "1/1 [==============================] - 0s 18ms/step\n",
      "1/1 [==============================] - 0s 19ms/step\n",
      "1/1 [==============================] - 0s 16ms/step\n",
      "1/1 [==============================] - 0s 17ms/step\n",
      "1/1 [==============================] - 0s 17ms/step\n",
      "1/1 [==============================] - 0s 16ms/step\n",
      "1/1 [==============================] - 0s 19ms/step\n",
      "1/1 [==============================] - 0s 16ms/step\n",
      "1/1 [==============================] - 0s 17ms/step\n",
      "1/1 [==============================] - 0s 19ms/step\n",
      "1/1 [==============================] - 0s 17ms/step\n",
      "1/1 [==============================] - 0s 16ms/step\n",
      "1/1 [==============================] - 0s 18ms/step\n",
      "1/1 [==============================] - 0s 16ms/step\n",
      "1/1 [==============================] - 0s 16ms/step\n",
      "1/1 [==============================] - 0s 16ms/step\n",
      "1/1 [==============================] - 0s 16ms/step\n",
      "1/1 [==============================] - 0s 16ms/step\n",
      "1/1 [==============================] - 0s 16ms/step\n",
      "1/1 [==============================] - 0s 16ms/step\n",
      "1/1 [==============================] - 0s 16ms/step\n",
      "1/1 [==============================] - 0s 19ms/step\n",
      "1/1 [==============================] - 0s 16ms/step\n",
      "1/1 [==============================] - 0s 16ms/step\n",
      "1/1 [==============================] - 0s 16ms/step\n"
     ]
    }
   ],
   "source": [
    "Y_pred_sibs = []\n",
    "for i in tqdm(range(n)):\n",
    "    y_ = model.predict([ X_data[i:i+1], np.full((1), epsilon)])\n",
    "    Y_pred_sibs.append(y_[0])\n",
    "Y_pred_sibs = np.array(Y_pred_sibs)\n"
   ]
  },
  {
   "cell_type": "code",
   "execution_count": 57,
   "id": "97023d5e",
   "metadata": {},
   "outputs": [],
   "source": [
    "mut03 = np.sum(\n",
    "    (np.subtract(\n",
    "        np.repeat(np.argmax(X_data[i:i+1], axis = 2), n, axis=0), \n",
    "        np.argmax(Y_pred_sibs, axis = 2)\n",
    "    ) != 0.0).astype(int), axis = 0)\n"
   ]
  },
  {
   "cell_type": "code",
   "execution_count": 58,
   "id": "6f1cd760",
   "metadata": {},
   "outputs": [],
   "source": [
    "mut04 = np.sum(\n",
    "    (np.subtract(\n",
    "        np.argmax(X_data[i:i+1], axis = 2), \n",
    "        np.argmax(Y_data[i:i+1], axis = 2)\n",
    "    ) != 0.0).astype(int), axis = 0)\n"
   ]
  },
  {
   "cell_type": "code",
   "execution_count": 59,
   "id": "890ad126",
   "metadata": {},
   "outputs": [
    {
     "data": {
      "image/png": "[encoded data removed]",
      "text/plain": [
       "<Figure size 1152x576 with 1 Axes>"
      ]
     },
     "metadata": {
      "needs_background": "light"
     },
     "output_type": "display_data"
    }
   ],
   "source": [
    "x_range = list(range(len(mut03)))\n",
    "plt.bar(x_range, mut03, bottom=mut04, label = 'generuotos mutacijos')\n",
    "plt.bar(x_range, mut04, label = 'stebimos mutacijos')\n",
    "#plt.ylim(0, 200.0)\n",
    "plt.xlim(0, len(mut03))\n",
    "plt.legend()\n",
    "plt.show()\n"
   ]
  },
  {
   "cell_type": "code",
   "execution_count": 60,
   "id": "dd39b0a4",
   "metadata": {},
   "outputs": [
    {
     "data": {
      "image/png": "[encoded data removed]",
      "text/plain": [
       "<Figure size 1152x576 with 1 Axes>"
      ]
     },
     "metadata": {
      "needs_background": "light"
     },
     "output_type": "display_data"
    }
   ],
   "source": [
    "plt.hist(mut03, bins = 30, label = 'generuotos mutacijos', fill = False, histtype='step')\n",
    "_ = plt.hist(mut04, bins = 30, label = 'stebimos mutacijos', fill = False, histtype='step')\n",
    "plt.legend()\n",
    "plt.show()\n"
   ]
  },
  {
   "cell_type": "code",
   "execution_count": 61,
   "id": "f83956f1",
   "metadata": {},
   "outputs": [
    {
     "data": {
      "text/html": [
       "<div style=\"width:100%; word-wrap: break-word; font-family: monospace\">FLDGIDKAQDEHEKYHSNWRAMASDFNLPPVVAKEIVASCDKCQLKGEAMHGQVDCSPGIWQLDCTHLEGKVILVAVHVASGYIEAEVIPAETGQETAYF<span style=\"background: #FF929B;\">L</span>LKLAGRWPVK<span style=\"background: #FF929B;\">AI</span>HTDNGSNFTSATVKAACWWAGIKQEFGIPYNPQSQGVVES<span style=\"background: #FF929B;\">M</span>NKELKKIIGQ<span style=\"background: #FF929B;\">V</span>RDQAEHLKTAVQMAVFIHNFKRKGGIGGYSAGERIIDIIATDIQTKELQKQITKIQNFRVYYRDSRDPLWKGPAKLLWKGEGAVVIQDNSDIKVVPRRKAKIIRDYGKQMAGDDCVASRQDEDA</div>"
      ],
      "text/plain": [
       "<IPython.core.display.HTML object>"
      ]
     },
     "metadata": {},
     "output_type": "display_data"
    },
    {
     "data": {
      "text/html": [
       "<div style=\"width:100%; word-wrap: break-word; font-family: monospace\">FLDGIDKAQDEHEKYHSNWRAMASDFNLPPVVAKEIVASCDKCQLKGEAMHGQVDCSPGIWQLDCTHLEGKVILVAVHVASGYIEAEVIPAETGQETAYF<span style=\"background: #FF929B;\">I</span>LKLAGRWPVK<span style=\"background: #FF929B;\">TV</span>HTDNGSNFTSATVKAACWWAGIKQEFGIPYNPQSQGVVES<span style=\"background: #FF929B;\">I</span>NKELKKIIGQ<span style=\"background: #FF929B;\">I</span>RDQAEHLKTAVQMAVFIHNFKRKGGIGGYSAGERIIDIIATDIQTKELQKQITKIQNFRVYYRDSRDPLWKGPAKLLWKGEGAVVIQDNSDIKVVPRRKAKIIRDYGKQMAGDDCVASRQDEDA</div>"
      ],
      "text/plain": [
       "<IPython.core.display.HTML object>"
      ]
     },
     "metadata": {},
     "output_type": "display_data"
    }
   ],
   "source": [
    "i = 5\n",
    "x1 = decode_seq(X_data[i:i+1,:,:])[0]\n",
    "y1 = decode_seq(Y_data[i:i+1,:,:])[0]\n",
    "\n",
    "_ = diff_html(x1, y1, display_a=True, display_b=True)\n"
   ]
  },
  {
   "cell_type": "markdown",
   "id": "e0c1430a",
   "metadata": {},
   "source": [
    "# Iterations and randomness\n"
   ]
  },
  {
   "cell_type": "code",
   "execution_count": 70,
   "id": "643acd27",
   "metadata": {},
   "outputs": [],
   "source": [
    "def reset_tensorflow_keras_backend():\n",
    "    # to be further investigated, but this seems to be enough\n",
    "    import tensorflow as tf\n",
    "    import gc\n",
    "    from tensorflow.python.framework import ops\n",
    "    import tensorflow.keras as keras\n",
    "    tf.keras.backend.clear_session()\n",
    "    ops.reset_default_graph()\n",
    "    _ = gc.collect()\n"
   ]
  },
  {
   "cell_type": "code",
   "execution_count": 71,
   "id": "d5b4b73a",
   "metadata": {},
   "outputs": [
    {
     "data": {
      "application/vnd.jupyter.widget-view+json": {
       "model_id": "6d974a5552e949f38858c3eb8cea1d99",
       "version_major": 2,
       "version_minor": 0
      },
      "text/plain": [
       "  0%|          | 0/500 [00:00<?, ?it/s]"
      ]
     },
     "metadata": {},
     "output_type": "display_data"
    },
    {
     "name": "stdout",
     "output_type": "stream",
     "text": [
      "501/501 [==============================] - 4s 7ms/step\n",
      "501/501 [==============================] - 4s 7ms/step\n",
      "501/501 [==============================] - 4s 7ms/step\n",
      "501/501 [==============================] - 4s 7ms/step\n",
      "501/501 [==============================] - 4s 7ms/step\n",
      "501/501 [==============================] - 4s 7ms/step\n",
      "501/501 [==============================] - 4s 7ms/step\n",
      "501/501 [==============================] - 3s 7ms/step\n",
      "501/501 [==============================] - 4s 7ms/step\n",
      "501/501 [==============================] - 3s 7ms/step\n",
      "501/501 [==============================] - 4s 7ms/step\n",
      "501/501 [==============================] - 4s 7ms/step\n",
      "501/501 [==============================] - 4s 7ms/step\n",
      "501/501 [==============================] - 4s 7ms/step\n",
      "501/501 [==============================] - 3s 7ms/step\n",
      "501/501 [==============================] - 4s 7ms/step\n",
      "501/501 [==============================] - 4s 7ms/step\n",
      "501/501 [==============================] - 4s 7ms/step\n",
      "501/501 [==============================] - 3s 6ms/step\n",
      "501/501 [==============================] - 3s 6ms/step\n",
      "501/501 [==============================] - 3s 6ms/step\n",
      "501/501 [==============================] - 3s 6ms/step\n",
      "501/501 [==============================] - 4s 7ms/step\n",
      "501/501 [==============================] - 4s 7ms/step\n",
      "501/501 [==============================] - 4s 7ms/step\n",
      "501/501 [==============================] - 4s 7ms/step\n",
      "501/501 [==============================] - 3s 7ms/step\n",
      "501/501 [==============================] - 4s 7ms/step\n",
      "501/501 [==============================] - 3s 7ms/step\n",
      "501/501 [==============================] - 3s 6ms/step\n",
      "501/501 [==============================] - 4s 7ms/step\n",
      "501/501 [==============================] - 4s 7ms/step\n",
      "501/501 [==============================] - 4s 7ms/step\n",
      "501/501 [==============================] - 4s 7ms/step\n",
      "501/501 [==============================] - 4s 7ms/step\n",
      "501/501 [==============================] - 4s 7ms/step\n",
      "501/501 [==============================] - 4s 7ms/step\n",
      "501/501 [==============================] - 4s 7ms/step\n",
      "501/501 [==============================] - 3s 7ms/step\n",
      "501/501 [==============================] - 4s 7ms/step\n",
      "501/501 [==============================] - 4s 7ms/step\n",
      "501/501 [==============================] - 4s 7ms/step\n",
      "501/501 [==============================] - 3s 7ms/step\n",
      "501/501 [==============================] - 4s 7ms/step\n",
      "501/501 [==============================] - 3s 6ms/step\n",
      "501/501 [==============================] - 4s 7ms/step\n",
      "501/501 [==============================] - 4s 7ms/step\n",
      "501/501 [==============================] - 3s 6ms/step\n",
      "501/501 [==============================] - 3s 6ms/step\n",
      "501/501 [==============================] - 3s 6ms/step\n",
      "501/501 [==============================] - 4s 7ms/step\n",
      "501/501 [==============================] - 4s 7ms/step\n",
      "501/501 [==============================] - 3s 7ms/step\n",
      "501/501 [==============================] - 4s 7ms/step\n",
      "501/501 [==============================] - 3s 7ms/step\n",
      "501/501 [==============================] - 4s 7ms/step\n",
      "501/501 [==============================] - 4s 7ms/step\n",
      "501/501 [==============================] - 4s 7ms/step\n",
      "501/501 [==============================] - 3s 7ms/step\n",
      "501/501 [==============================] - 4s 7ms/step\n",
      "501/501 [==============================] - 4s 7ms/step\n",
      "501/501 [==============================] - 3s 6ms/step\n",
      "501/501 [==============================] - 4s 7ms/step\n",
      "501/501 [==============================] - 4s 7ms/step\n",
      "501/501 [==============================] - 4s 7ms/step\n",
      "501/501 [==============================] - 4s 7ms/step\n",
      "501/501 [==============================] - 3s 7ms/step\n",
      "501/501 [==============================] - 4s 7ms/step\n",
      "501/501 [==============================] - 4s 7ms/step\n",
      "501/501 [==============================] - 3s 7ms/step\n",
      "501/501 [==============================] - 3s 7ms/step\n",
      "501/501 [==============================] - 4s 7ms/step\n",
      "501/501 [==============================] - 3s 6ms/step\n",
      "501/501 [==============================] - 3s 7ms/step\n",
      "501/501 [==============================] - 3s 6ms/step\n",
      "501/501 [==============================] - 3s 7ms/step\n",
      "501/501 [==============================] - 3s 7ms/step\n",
      "501/501 [==============================] - 3s 7ms/step\n",
      "501/501 [==============================] - 3s 7ms/step\n",
      "501/501 [==============================] - 3s 7ms/step\n",
      "501/501 [==============================] - 3s 7ms/step\n",
      "501/501 [==============================] - 3s 7ms/step\n",
      "501/501 [==============================] - 3s 7ms/step\n",
      "501/501 [==============================] - 3s 7ms/step\n",
      "501/501 [==============================] - 3s 6ms/step\n",
      "501/501 [==============================] - 3s 7ms/step\n",
      "501/501 [==============================] - 3s 7ms/step\n",
      "501/501 [==============================] - 3s 7ms/step\n",
      "501/501 [==============================] - 3s 7ms/step\n",
      "501/501 [==============================] - 3s 7ms/step\n",
      "501/501 [==============================] - 3s 7ms/step\n",
      "501/501 [==============================] - 3s 7ms/step\n",
      "501/501 [==============================] - 3s 7ms/step\n",
      "501/501 [==============================] - 3s 7ms/step\n",
      "501/501 [==============================] - 3s 7ms/step\n",
      "501/501 [==============================] - 3s 7ms/step\n",
      "501/501 [==============================] - 3s 7ms/step\n",
      "501/501 [==============================] - 3s 7ms/step\n",
      "501/501 [==============================] - 4s 7ms/step\n",
      "501/501 [==============================] - 3s 7ms/step\n",
      "501/501 [==============================] - 3s 7ms/step\n",
      "501/501 [==============================] - 3s 7ms/step\n",
      "501/501 [==============================] - 3s 7ms/step\n",
      "501/501 [==============================] - 3s 7ms/step\n",
      "501/501 [==============================] - 3s 7ms/step\n",
      "501/501 [==============================] - 3s 7ms/step\n",
      "501/501 [==============================] - 3s 7ms/step\n",
      "501/501 [==============================] - 3s 7ms/step\n",
      "501/501 [==============================] - 3s 7ms/step\n",
      "501/501 [==============================] - 3s 7ms/step\n",
      "501/501 [==============================] - 3s 7ms/step\n",
      "501/501 [==============================] - 4s 7ms/step\n",
      "501/501 [==============================] - 4s 7ms/step\n",
      "501/501 [==============================] - 4s 7ms/step\n",
      "501/501 [==============================] - 4s 7ms/step\n",
      "501/501 [==============================] - 4s 7ms/step\n",
      "501/501 [==============================] - 4s 7ms/step\n",
      "501/501 [==============================] - 4s 8ms/step\n",
      "501/501 [==============================] - 4s 8ms/step\n",
      "501/501 [==============================] - 3s 7ms/step\n",
      "501/501 [==============================] - 4s 7ms/step\n",
      "501/501 [==============================] - 3s 6ms/step\n",
      "501/501 [==============================] - 4s 7ms/step\n",
      "501/501 [==============================] - 3s 7ms/step\n",
      "501/501 [==============================] - 4s 7ms/step\n",
      "501/501 [==============================] - 4s 7ms/step\n",
      "501/501 [==============================] - 4s 7ms/step\n",
      "501/501 [==============================] - 4s 7ms/step\n",
      "501/501 [==============================] - 4s 7ms/step\n",
      "501/501 [==============================] - 4s 7ms/step\n",
      "501/501 [==============================] - 4s 7ms/step\n",
      "501/501 [==============================] - 4s 8ms/step\n",
      "501/501 [==============================] - 4s 8ms/step\n",
      "501/501 [==============================] - 4s 8ms/step\n",
      "501/501 [==============================] - 4s 7ms/step\n",
      "501/501 [==============================] - 4s 7ms/step\n",
      "501/501 [==============================] - 4s 7ms/step\n",
      "501/501 [==============================] - 4s 7ms/step\n",
      "501/501 [==============================] - 4s 7ms/step\n",
      "501/501 [==============================] - 3s 6ms/step\n",
      "501/501 [==============================] - 3s 7ms/step\n",
      "501/501 [==============================] - 4s 7ms/step\n",
      "501/501 [==============================] - 3s 6ms/step\n",
      "501/501 [==============================] - 3s 6ms/step\n",
      "501/501 [==============================] - 3s 6ms/step\n",
      "501/501 [==============================] - 3s 6ms/step\n",
      "501/501 [==============================] - 3s 7ms/step\n",
      "501/501 [==============================] - 3s 6ms/step\n",
      "501/501 [==============================] - 3s 6ms/step\n"
     ]
    },
    {
     "name": "stdout",
     "output_type": "stream",
     "text": [
      "501/501 [==============================] - 4s 7ms/step\n",
      "501/501 [==============================] - 4s 7ms/step\n",
      "501/501 [==============================] - 4s 8ms/step\n",
      "501/501 [==============================] - 4s 7ms/step\n",
      "501/501 [==============================] - 4s 8ms/step\n",
      "501/501 [==============================] - 4s 7ms/step\n",
      "501/501 [==============================] - 4s 7ms/step\n",
      "501/501 [==============================] - 4s 7ms/step\n",
      "501/501 [==============================] - 4s 7ms/step\n",
      "501/501 [==============================] - 4s 7ms/step\n",
      "501/501 [==============================] - 4s 7ms/step\n",
      "501/501 [==============================] - 4s 8ms/step\n",
      "501/501 [==============================] - 4s 7ms/step\n",
      "501/501 [==============================] - 4s 7ms/step\n",
      "501/501 [==============================] - 4s 8ms/step\n",
      "501/501 [==============================] - 4s 7ms/step\n",
      "501/501 [==============================] - 4s 7ms/step\n",
      "501/501 [==============================] - 4s 7ms/step\n",
      "501/501 [==============================] - 4s 7ms/step\n",
      "501/501 [==============================] - 4s 8ms/step\n",
      "501/501 [==============================] - 4s 8ms/step\n",
      "501/501 [==============================] - 4s 7ms/step\n",
      "501/501 [==============================] - 4s 7ms/step\n",
      "501/501 [==============================] - 4s 7ms/step\n",
      "501/501 [==============================] - 4s 8ms/step\n",
      "501/501 [==============================] - 4s 7ms/step\n",
      "501/501 [==============================] - 4s 7ms/step\n",
      "501/501 [==============================] - 4s 7ms/step\n",
      "501/501 [==============================] - 4s 8ms/step\n",
      "501/501 [==============================] - 4s 8ms/step\n",
      "501/501 [==============================] - 4s 7ms/step\n",
      "501/501 [==============================] - 4s 7ms/step\n",
      "501/501 [==============================] - 4s 7ms/step\n",
      "501/501 [==============================] - 4s 8ms/step\n",
      "501/501 [==============================] - 4s 7ms/step\n",
      "501/501 [==============================] - 4s 8ms/step\n",
      "501/501 [==============================] - 4s 7ms/step\n",
      "501/501 [==============================] - 4s 7ms/step\n",
      "501/501 [==============================] - 4s 7ms/step\n",
      "501/501 [==============================] - 4s 7ms/step\n",
      "501/501 [==============================] - 4s 8ms/step\n",
      "501/501 [==============================] - 4s 7ms/step\n",
      "501/501 [==============================] - 4s 7ms/step\n",
      "501/501 [==============================] - 3s 7ms/step\n",
      "501/501 [==============================] - 3s 7ms/step\n",
      "501/501 [==============================] - 3s 7ms/step\n",
      "501/501 [==============================] - 4s 7ms/step\n",
      "501/501 [==============================] - 3s 7ms/step\n",
      "501/501 [==============================] - 4s 7ms/step\n",
      "501/501 [==============================] - 4s 7ms/step\n",
      "501/501 [==============================] - 3s 7ms/step\n",
      "501/501 [==============================] - 4s 7ms/step\n",
      "501/501 [==============================] - 4s 7ms/step\n",
      "501/501 [==============================] - 4s 7ms/step\n",
      "501/501 [==============================] - 4s 7ms/step\n",
      "501/501 [==============================] - 4s 7ms/step\n",
      "501/501 [==============================] - 3s 7ms/step\n",
      "501/501 [==============================] - 3s 7ms/step\n",
      "501/501 [==============================] - 4s 7ms/step\n",
      "501/501 [==============================] - 4s 7ms/step\n",
      "501/501 [==============================] - 4s 7ms/step\n",
      "501/501 [==============================] - 4s 7ms/step\n",
      "501/501 [==============================] - 4s 7ms/step\n",
      "501/501 [==============================] - 4s 7ms/step\n",
      "501/501 [==============================] - 4s 7ms/step\n",
      "501/501 [==============================] - 4s 7ms/step\n",
      "501/501 [==============================] - 4s 7ms/step\n",
      "501/501 [==============================] - 4s 8ms/step\n",
      "501/501 [==============================] - 4s 7ms/step\n",
      "501/501 [==============================] - 3s 7ms/step\n",
      "501/501 [==============================] - 4s 7ms/step\n",
      "501/501 [==============================] - 4s 7ms/step\n",
      "501/501 [==============================] - 4s 7ms/step\n",
      "501/501 [==============================] - 3s 6ms/step\n",
      "501/501 [==============================] - 4s 7ms/step\n",
      "501/501 [==============================] - 4s 8ms/step\n",
      "501/501 [==============================] - 4s 7ms/step\n",
      "501/501 [==============================] - 3s 6ms/step\n",
      "501/501 [==============================] - 3s 7ms/step\n",
      "501/501 [==============================] - 4s 7ms/step\n",
      "501/501 [==============================] - 4s 8ms/step\n",
      "501/501 [==============================] - 4s 7ms/step\n",
      "501/501 [==============================] - 4s 7ms/step\n",
      "501/501 [==============================] - 4s 7ms/step\n",
      "501/501 [==============================] - 4s 8ms/step\n",
      "501/501 [==============================] - 4s 7ms/step\n",
      "501/501 [==============================] - 4s 7ms/step\n",
      "501/501 [==============================] - 3s 7ms/step\n",
      "501/501 [==============================] - 4s 7ms/step\n",
      "501/501 [==============================] - 4s 7ms/step\n",
      "501/501 [==============================] - 4s 8ms/step\n",
      "501/501 [==============================] - 4s 8ms/step\n",
      "501/501 [==============================] - 4s 7ms/step\n",
      "501/501 [==============================] - 4s 8ms/step\n",
      "501/501 [==============================] - 4s 7ms/step\n",
      "501/501 [==============================] - 4s 7ms/step\n",
      "501/501 [==============================] - 4s 7ms/step\n",
      "501/501 [==============================] - 4s 7ms/step\n",
      "501/501 [==============================] - 4s 7ms/step\n",
      "501/501 [==============================] - 4s 7ms/step\n",
      "501/501 [==============================] - 4s 7ms/step\n",
      "501/501 [==============================] - 4s 7ms/step\n",
      "501/501 [==============================] - 4s 7ms/step\n",
      "501/501 [==============================] - 4s 7ms/step\n",
      "501/501 [==============================] - 4s 8ms/step\n",
      "501/501 [==============================] - 4s 8ms/step\n",
      "501/501 [==============================] - 4s 7ms/step\n",
      "501/501 [==============================] - 4s 7ms/step\n",
      "501/501 [==============================] - 4s 7ms/step\n",
      "501/501 [==============================] - 4s 7ms/step\n",
      "501/501 [==============================] - 4s 7ms/step\n",
      "501/501 [==============================] - 4s 7ms/step\n",
      "501/501 [==============================] - 4s 7ms/step\n",
      "501/501 [==============================] - 4s 7ms/step\n",
      "501/501 [==============================] - 4s 7ms/step\n",
      "501/501 [==============================] - 4s 7ms/step\n",
      "501/501 [==============================] - 4s 7ms/step\n",
      "501/501 [==============================] - 4s 7ms/step\n",
      "501/501 [==============================] - 4s 7ms/step\n",
      "501/501 [==============================] - 4s 7ms/step\n",
      "501/501 [==============================] - 4s 7ms/step\n",
      "501/501 [==============================] - 4s 8ms/step\n",
      "501/501 [==============================] - 4s 8ms/step\n",
      "501/501 [==============================] - 4s 8ms/step\n",
      "501/501 [==============================] - 4s 7ms/step\n",
      "501/501 [==============================] - 3s 7ms/step\n",
      "501/501 [==============================] - 3s 6ms/step\n",
      "501/501 [==============================] - 4s 8ms/step\n",
      "501/501 [==============================] - 4s 8ms/step\n",
      "501/501 [==============================] - 4s 7ms/step\n",
      "501/501 [==============================] - 4s 7ms/step\n",
      "501/501 [==============================] - 4s 7ms/step\n",
      "501/501 [==============================] - 4s 7ms/step\n",
      "501/501 [==============================] - 4s 7ms/step\n",
      "501/501 [==============================] - 4s 7ms/step\n",
      "501/501 [==============================] - 4s 7ms/step\n",
      "501/501 [==============================] - 4s 7ms/step\n",
      "501/501 [==============================] - 4s 7ms/step\n",
      "501/501 [==============================] - 4s 8ms/step\n",
      "501/501 [==============================] - 4s 8ms/step\n",
      "501/501 [==============================] - 4s 8ms/step\n",
      "501/501 [==============================] - 5s 9ms/step\n",
      "501/501 [==============================] - 5s 9ms/step\n",
      "501/501 [==============================] - 4s 8ms/step\n",
      "501/501 [==============================] - 4s 8ms/step\n",
      "501/501 [==============================] - 5s 9ms/step\n",
      "501/501 [==============================] - 5s 9ms/step\n",
      "501/501 [==============================] - 4s 8ms/step\n",
      "501/501 [==============================] - 4s 8ms/step\n"
     ]
    },
    {
     "name": "stdout",
     "output_type": "stream",
     "text": [
      "501/501 [==============================] - 4s 8ms/step\n",
      "501/501 [==============================] - 4s 8ms/step\n",
      "501/501 [==============================] - 4s 7ms/step\n",
      "501/501 [==============================] - 4s 8ms/step\n",
      "501/501 [==============================] - 4s 7ms/step\n",
      "501/501 [==============================] - 4s 8ms/step\n",
      "501/501 [==============================] - 4s 8ms/step\n",
      "501/501 [==============================] - 4s 8ms/step\n",
      "501/501 [==============================] - 4s 8ms/step\n",
      "501/501 [==============================] - 4s 8ms/step\n",
      "501/501 [==============================] - 4s 7ms/step\n",
      "501/501 [==============================] - 4s 8ms/step\n",
      "501/501 [==============================] - 4s 8ms/step\n",
      "501/501 [==============================] - 4s 8ms/step\n",
      "501/501 [==============================] - 4s 7ms/step\n",
      "501/501 [==============================] - 4s 8ms/step\n",
      "501/501 [==============================] - 4s 8ms/step\n",
      "501/501 [==============================] - 4s 7ms/step\n",
      "501/501 [==============================] - 4s 7ms/step\n",
      "501/501 [==============================] - 4s 7ms/step\n",
      "501/501 [==============================] - 3s 7ms/step\n",
      "501/501 [==============================] - 4s 7ms/step\n",
      "501/501 [==============================] - 4s 7ms/step\n",
      "501/501 [==============================] - 4s 7ms/step\n",
      "501/501 [==============================] - 4s 7ms/step\n",
      "501/501 [==============================] - 4s 7ms/step\n",
      "501/501 [==============================] - 4s 7ms/step\n",
      "501/501 [==============================] - 4s 7ms/step\n",
      "501/501 [==============================] - 4s 7ms/step\n",
      "501/501 [==============================] - 3s 7ms/step\n",
      "501/501 [==============================] - 4s 7ms/step\n",
      "501/501 [==============================] - 4s 8ms/step\n",
      "501/501 [==============================] - 4s 7ms/step\n",
      "501/501 [==============================] - 4s 7ms/step\n",
      "501/501 [==============================] - 4s 7ms/step\n",
      "501/501 [==============================] - 4s 7ms/step\n",
      "501/501 [==============================] - 4s 8ms/step\n",
      "501/501 [==============================] - 4s 8ms/step\n",
      "501/501 [==============================] - 4s 8ms/step\n",
      "501/501 [==============================] - 4s 8ms/step\n",
      "501/501 [==============================] - 4s 7ms/step\n",
      "501/501 [==============================] - 4s 7ms/step\n",
      "501/501 [==============================] - 4s 8ms/step\n",
      "501/501 [==============================] - 4s 8ms/step\n",
      "501/501 [==============================] - 4s 8ms/step\n",
      "501/501 [==============================] - 4s 7ms/step\n",
      "501/501 [==============================] - 4s 7ms/step\n",
      "501/501 [==============================] - 4s 7ms/step\n",
      "501/501 [==============================] - 4s 7ms/step\n",
      "501/501 [==============================] - 4s 7ms/step\n",
      "501/501 [==============================] - 4s 7ms/step\n",
      "501/501 [==============================] - 4s 7ms/step\n",
      "501/501 [==============================] - 4s 7ms/step\n",
      "501/501 [==============================] - 4s 7ms/step\n",
      "501/501 [==============================] - 4s 7ms/step\n",
      "501/501 [==============================] - 4s 7ms/step\n",
      "501/501 [==============================] - 4s 7ms/step\n",
      "501/501 [==============================] - 4s 7ms/step\n",
      "501/501 [==============================] - 4s 8ms/step\n",
      "501/501 [==============================] - 4s 7ms/step\n",
      "501/501 [==============================] - 4s 8ms/step\n",
      "501/501 [==============================] - 4s 8ms/step\n",
      "501/501 [==============================] - 4s 7ms/step\n",
      "501/501 [==============================] - 4s 8ms/step\n",
      "501/501 [==============================] - 5s 10ms/step\n",
      "501/501 [==============================] - 4s 8ms/step\n",
      "501/501 [==============================] - 4s 7ms/step\n",
      "501/501 [==============================] - 4s 7ms/step\n",
      "501/501 [==============================] - 4s 7ms/step\n",
      "501/501 [==============================] - 4s 7ms/step\n",
      "501/501 [==============================] - 4s 8ms/step\n",
      "501/501 [==============================] - 4s 8ms/step\n",
      "501/501 [==============================] - 4s 7ms/step\n",
      "501/501 [==============================] - 4s 8ms/step\n",
      "501/501 [==============================] - 4s 8ms/step\n",
      "501/501 [==============================] - 4s 7ms/step\n",
      "501/501 [==============================] - 3s 7ms/step\n",
      "501/501 [==============================] - 4s 8ms/step\n",
      "501/501 [==============================] - 4s 7ms/step\n",
      "501/501 [==============================] - 4s 7ms/step\n",
      "501/501 [==============================] - 3s 6ms/step\n",
      "501/501 [==============================] - 4s 7ms/step\n",
      "501/501 [==============================] - 3s 6ms/step\n",
      "501/501 [==============================] - 4s 7ms/step\n",
      "501/501 [==============================] - 3s 6ms/step\n",
      "501/501 [==============================] - 3s 6ms/step\n",
      "501/501 [==============================] - 4s 7ms/step\n",
      "501/501 [==============================] - 3s 6ms/step\n",
      "501/501 [==============================] - 4s 7ms/step\n",
      "501/501 [==============================] - 4s 7ms/step\n",
      "501/501 [==============================] - 4s 7ms/step\n",
      "501/501 [==============================] - 3s 7ms/step\n",
      "501/501 [==============================] - 4s 7ms/step\n",
      "501/501 [==============================] - 4s 7ms/step\n",
      "501/501 [==============================] - 3s 7ms/step\n",
      "501/501 [==============================] - 3s 6ms/step\n",
      "501/501 [==============================] - 4s 7ms/step\n",
      "501/501 [==============================] - 4s 7ms/step\n",
      "501/501 [==============================] - 3s 7ms/step\n",
      "501/501 [==============================] - 4s 8ms/step\n",
      "501/501 [==============================] - 4s 7ms/step\n",
      "501/501 [==============================] - 4s 7ms/step\n",
      "501/501 [==============================] - 4s 7ms/step\n",
      "501/501 [==============================] - 4s 7ms/step\n",
      "501/501 [==============================] - 4s 7ms/step\n",
      "501/501 [==============================] - 4s 7ms/step\n",
      "501/501 [==============================] - 3s 6ms/step\n",
      "501/501 [==============================] - 3s 6ms/step\n",
      "501/501 [==============================] - 3s 6ms/step\n",
      "501/501 [==============================] - 4s 7ms/step\n",
      "501/501 [==============================] - 4s 7ms/step\n",
      "501/501 [==============================] - 4s 7ms/step\n",
      "501/501 [==============================] - 3s 6ms/step\n",
      "501/501 [==============================] - 3s 6ms/step\n",
      "501/501 [==============================] - 4s 7ms/step\n",
      "501/501 [==============================] - 4s 7ms/step\n",
      "501/501 [==============================] - 4s 7ms/step\n",
      "501/501 [==============================] - 3s 7ms/step\n",
      "501/501 [==============================] - 3s 7ms/step\n",
      "501/501 [==============================] - 4s 7ms/step\n",
      "501/501 [==============================] - 4s 7ms/step\n",
      "501/501 [==============================] - 4s 7ms/step\n",
      "501/501 [==============================] - 4s 8ms/step\n",
      "501/501 [==============================] - 4s 7ms/step\n",
      "501/501 [==============================] - 4s 7ms/step\n",
      "501/501 [==============================] - 4s 7ms/step\n",
      "501/501 [==============================] - 4s 7ms/step\n",
      "501/501 [==============================] - 3s 7ms/step\n",
      "501/501 [==============================] - 3s 6ms/step\n",
      "501/501 [==============================] - 4s 7ms/step\n",
      "501/501 [==============================] - 4s 7ms/step\n",
      "501/501 [==============================] - 3s 7ms/step\n",
      "501/501 [==============================] - 3s 7ms/step\n",
      "501/501 [==============================] - 4s 7ms/step\n",
      "501/501 [==============================] - 4s 7ms/step\n",
      "501/501 [==============================] - 4s 7ms/step\n",
      "501/501 [==============================] - 3s 6ms/step\n",
      "501/501 [==============================] - 3s 7ms/step\n",
      "501/501 [==============================] - 4s 7ms/step\n",
      "501/501 [==============================] - 4s 7ms/step\n",
      "501/501 [==============================] - 4s 8ms/step\n",
      "501/501 [==============================] - 4s 7ms/step\n",
      "501/501 [==============================] - 4s 7ms/step\n",
      "501/501 [==============================] - 4s 7ms/step\n",
      "501/501 [==============================] - 3s 6ms/step\n",
      "501/501 [==============================] - 3s 6ms/step\n",
      "501/501 [==============================] - 3s 6ms/step\n",
      "501/501 [==============================] - 3s 6ms/step\n"
     ]
    },
    {
     "name": "stdout",
     "output_type": "stream",
     "text": [
      "501/501 [==============================] - 3s 6ms/step\n",
      "501/501 [==============================] - 4s 7ms/step\n",
      "501/501 [==============================] - 3s 7ms/step\n",
      "501/501 [==============================] - 3s 6ms/step\n",
      "501/501 [==============================] - 4s 7ms/step\n",
      "501/501 [==============================] - 4s 7ms/step\n",
      "501/501 [==============================] - 3s 6ms/step\n",
      "501/501 [==============================] - 4s 7ms/step\n",
      "501/501 [==============================] - 3s 7ms/step\n",
      "501/501 [==============================] - 3s 7ms/step\n",
      "501/501 [==============================] - 3s 6ms/step\n",
      "501/501 [==============================] - 3s 7ms/step\n",
      "501/501 [==============================] - 3s 6ms/step\n",
      "501/501 [==============================] - 3s 6ms/step\n",
      "501/501 [==============================] - 3s 6ms/step\n",
      "501/501 [==============================] - 4s 7ms/step\n",
      "501/501 [==============================] - 4s 7ms/step\n",
      "501/501 [==============================] - 4s 7ms/step\n",
      "501/501 [==============================] - 4s 7ms/step\n",
      "501/501 [==============================] - 4s 7ms/step\n",
      "501/501 [==============================] - 4s 7ms/step\n",
      "501/501 [==============================] - 4s 7ms/step\n",
      "501/501 [==============================] - 4s 7ms/step\n",
      "501/501 [==============================] - 4s 7ms/step\n",
      "501/501 [==============================] - 4s 7ms/step\n",
      "501/501 [==============================] - 3s 6ms/step\n",
      "501/501 [==============================] - 3s 6ms/step\n",
      "501/501 [==============================] - 4s 7ms/step\n",
      "501/501 [==============================] - 3s 6ms/step\n",
      "501/501 [==============================] - 3s 7ms/step\n",
      "501/501 [==============================] - 3s 6ms/step\n",
      "501/501 [==============================] - 3s 6ms/step\n",
      "501/501 [==============================] - 4s 7ms/step\n",
      "501/501 [==============================] - 4s 7ms/step\n",
      "501/501 [==============================] - 3s 6ms/step\n",
      "501/501 [==============================] - 3s 6ms/step\n",
      "501/501 [==============================] - 4s 7ms/step\n",
      "501/501 [==============================] - 4s 7ms/step\n",
      "501/501 [==============================] - 4s 7ms/step\n",
      "501/501 [==============================] - 4s 7ms/step\n",
      "501/501 [==============================] - 4s 7ms/step\n",
      "501/501 [==============================] - 4s 7ms/step\n",
      "501/501 [==============================] - 3s 6ms/step\n",
      "501/501 [==============================] - 3s 7ms/step\n",
      "501/501 [==============================] - 3s 7ms/step\n",
      "501/501 [==============================] - 4s 8ms/step\n",
      "501/501 [==============================] - 4s 7ms/step\n",
      "501/501 [==============================] - 4s 7ms/step\n",
      "501/501 [==============================] - 4s 7ms/step\n",
      "501/501 [==============================] - 4s 7ms/step\n",
      "501/501 [==============================] - 4s 7ms/step\n",
      "501/501 [==============================] - 4s 7ms/step\n",
      "501/501 [==============================] - 4s 8ms/step\n",
      "501/501 [==============================] - 4s 7ms/step\n"
     ]
    }
   ],
   "source": [
    "Y_pred_iter = X_data\n",
    "mut05 = None\n",
    "dists = [ keras.losses.CategoricalCrossentropy()(X_data, Y_pred_iter).numpy() ]\n",
    "\n",
    "for _ in tqdm(range(500)):\n",
    "    Y_pred_iter_next = model.predict([Y_pred_iter, np.full((len(X_data)), epsilon / 1.4)])\n",
    "    \n",
    "    mut05_next = np.sum(\n",
    "        (np.subtract(\n",
    "            np.argmax(Y_pred_iter_next, axis = 2), \n",
    "            np.argmax(Y_pred_iter, axis = 2)\n",
    "        ) != 0.0).astype(int), axis = 0)\n",
    "    mut05 = mut05_next if mut05 is None else mut05_next + mut05\n",
    "    Y_pred_iter = Y_pred_iter_next\n",
    "    \n",
    "    dists.append(keras.losses.CategoricalCrossentropy()(X_data, Y_pred_iter).numpy())\n",
    "    reset_tensorflow_keras_backend()"
   ]
  },
  {
   "cell_type": "code",
   "execution_count": 74,
   "id": "193d5a16",
   "metadata": {},
   "outputs": [],
   "source": [
    "import numpy as np\n",
    "\n",
    "LEV_VALUES = np.array([0, 1, 2, 3, 4, 5, 6, 7, 9])\n",
    "LEV_PROBS  = np.array([1.07600733e-02, 3.15934066e-01, 5.84478022e-01, 7.09706960e-02, \n",
    "                       1.05311355e-02, 5.72344322e-03, 1.14468864e-03, 2.28937729e-04, 2.28937729e-04])\n",
    "\n",
    "FREQ_VALUES = np.array([4, 5, 6, 7, 8, 12, 15, 16, 17, 18, 19, 20, 21, 23, 24, 25, 27, 29, 30, 31, 32, 33, 34, 37, 40, 41, 43, 45, 50, 51, 52, 53, 55, 56, 57, 58, 59, 61, 62, 63, 64, 65, 66, 67, 68, 72, 73, 74, 75, 76, 78, 79, 80, 81, 82, 83, 84, 85, 88, 89, 92, 93, 95, 96, 97, 98, 99, 100, 101, 103, 105, 110, 112, 113, 116, 119, 121, 122, 125, 128, 133, 134, 135, 138, 140, 141, 144, 147, 148, 151, 154, 155, 158, 161, 164, 167, 173, 175, 179, 182, 183, 185, 189, 190, 193, 194, 196, 197, 198, 199, 200, 201, 202, 203, 204, 205, 206, 207, 208, 209, 210, 211, 212, 213, 214, 215, 216, 217, 218, 221, 222, 223, 224, 226, 229, 230, 231, 232, 233, 234, 236, 237, 238, 239, 242, 244, 245, 246, 248, 249, 251, 253, 256, 258, 259, 260, 261, 262, 263, 266, 267, 275, 276, 279, 280, 281, 282, 283, 285, 286, 287, 288, 289, 290, 292, 295, 296, 303, 304, 305, 312, 317, 320, 323, 324, 327, 330, 334, 335, 337, 338, 341, 344, 347, 348, 351, 353, 354, 357, 360, 362, 365, 367, 368, 370, 377, 378, 381, 388, 389, 395, 400, 404, 405, 406, 407, 410, 411, 412, 414, 415, 416, 419, 420, 422, 423, 424, 425, 426, 428, 429, 430, 431, 432, 434, 435, 436, 437, 440, 441, 442, 443, 444, 446, 450, 451, 453, 454, 455, 456, 457, 458, 460, 462, 463, 465, 467, 468, 469, 470, 471, 473, 475, 482, 484, 485, 486, 487, 488, 491, 492, 503, 506, 510, 512, 514, 515, 516, 517, 518, 519, 521, 523, 525, 526, 528, 529, 530, 531, 532, 533, 536, 537, 538, 539, 540, 541, 542, 544, 545, 548, 549, 550, 553, 554, 555, 556, 557, 560, 561, 562, 563, 564, 566, 567, 568, 569, 572, 576, 578, 584, 587, 588, 589, 591, 592, 594, 599, 604, 608, 616, 617, 620, 623, 625, 626, 627, 630, 632, 636, 637, 638, 639, 640, 641, 642, 643, 644, 645, 647, 648, 650, 652, 654, 656, 657, 659, 661, 662, 663, 664, 665, 666, 668, 671, 675, 677, 678, 681, 683, 686, 689, 692, 696, 699, 701, 704, 706, 710, 713, 715, 718, 719, 723, 724, 725, 726, 728, 731, 732, 733, 734, 736, 738, 739, 740, 741, 742, 743, 745, 746, 747, 748, 749, 750, 751, 752, 754, 755, 756, 757, 760, 762, 763, 764, 765, 766, 767, 768, 769, 771, 772, 773, 775, 777, 778, 779, 780, 781, 783, 784, 786, 787, 788, 789, 790, 793, 798, 800, 806, 810, 811, 812, 813, 814, 815, 817, 818, 820, 821, 822, 825, 828, 840, 842, 845, 850, 851, 854, 856, 859, 860, 861, 862, 863, 864, 866, 867, 868, 869, 872, 873, 875, 878, 881, 884, 887, 889, 890, 892, 893, 894, 895, 896, 898, 901, 905, 906, 908, 910, 911, 912, 914, 915, 917, 919, 920, 921, 923, 924, 928, 929, 935, 938, 939, 940, 941, 943, 944, 947, 950, 953, 957, 959, 961, 962, 965, 967, 968, 969, 971, 980, 981, 983, 986, 987, 992, 1001, 1004, 1007, 1010, 1013, 1014, 1015, 1020, 1025, 1028, 1029, 1030, 1031, 1032, 1034, 1035, 1036, 1041, 1043, 1044, 1046, 1049, 1052, 1054, 1055, 1059, 1061, 1069, 1071, 1075, 1082, 1083, 1085, 1087, 1094, 1098, 1100, 1101, 1103, 1108, 1109, 1112, 1114, 1115, 1117, 1119, 1121, 1124, 1126, 1127, 1130, 1132, 1135, 1136, 1143, 1144, 1145, 1148, 1149, 1150, 1153, 1157, 1163, 1166, 1169, 1172, 1175, 1176, 1178, 1180, 1181, 1182, 1184, 1187, 1196, 1199, 1207, 1208, 1214, 1215, 1218, 1220, 1222, 1223, 1227, 1229, 1230, 1232, 1235, 1236, 1238, 1239, 1240, 1241, 1244, 1249, 1250, 1254, 1262, 1265, 1268, 1274, 1275, 1277, 1278, 1280, 1288, 1289, 1292, 1295, 1298, 1304, 1310, 1316, 1318, 1319, 1320, 1325, 1326, 1328, 1330, 1331, 1334, 1336, 1340, 1349, 1353, 1354, 1355, 1357, 1358, 1359, 1361, 1362, 1364, 1369, 1370, 1373, 1374, 1375, 1376, 1378, 1382, 1383, 1384, 1395, 1400, 1401, 1402, 1403, 1408, 1409, 1410, 1415, 1418, 1421, 1422, 1423, 1424, 1425, 1428, 1429, 1430, 1432, 1434, 1435, 1436, 1441, 1442, 1446, 1447, 1448, 1449, 1450, 1452, 1454, 1457, 1461, 1466, 1467, 1468, 1469, 1472, 1473, 1477, 1479, 1480, 1481, 1490, 1496, 1499, 1500, 1501, 1502, 1506, 1508, 1514, 1517, 1518, 1520, 1521, 1523, 1525, 1526, 1527, 1529, 1532, 1536, 1538, 1541, 1546, 1548, 1550, 1551, 1556, 1557, 1559, 1560, 1561, 1562, 1563, 1564, 1565, 1568, 1578, 1580, 1582, 1584, 1586, 1592, 1594, 1595, 1596, 1601, 1607, 1609, 1619, 1622, 1625, 1628, 1632, 1635, 1639, 1640, 1643, 1650, 1653, 1657, 1658, 1659, 1661, 1664, 1667, 1671, 1672, 1673, 1678, 1679, 1680, 1681, 1685, 1692, 1694, 1695, 1697, 1700, 1703, 1704, 1705, 1707, 1708, 1709, 1712, 1713, 1714, 1716, 1717, 1718, 1719, 1721, 1722, 1724, 1725, 1727, 1730, 1733, 1734, 1736, 1739, 1742, 1746, 1748, 1749, 1751, 1752, 1754, 1757, 1760, 1762, 1764, 1766, 1769, 1771, 1773, 1778, 1779, 1782, 1785, 1786, 1791, 1799, 1802, 1806, 1807, 1808, 1810, 1811, 1814, 1817, 1820, 1823, 1829, 1830, 1838, 1839, 1840, 1842, 1844, 1845, 1846, 1847, 1850, 1851, 1852, 1853, 1854, 1855, 1859, 1860, 1863, 1864, 1866, 1867, 1868, 1871, 1872, 1875, 1876, 1877, 1878, 1879, 1880, 1881, 1886, 1889, 1890, 1891, 1892, 1894, 1900, 1902, 1907, 1909, 1911, 1912, 1913, 1917, 1918, 1919, 1922, 1924, 1925, 1928, 1931, 1936, 1938, 1939, 1940, 1943, 1947, 1950, 1951, 1953, 1955, 1957, 1958, 1959, 1960, 1962, 1966, 1967, 1970, 1971, 1973, 1975, 1976, 1978, 1979, 1981, 1982, 1985, 1988, 1994, 1997, 2000, 2001, 2002, 2003, 2006, 2009, 2012, 2014, 2015, 2017, 2020, 2021, 2022, 2023, 2024, 2025, 2026, 2027, 2029, 2030, 2032, 2033, 2034, 2035, 2036, 2038, 2039, 2040, 2041, 2042, 2043, 2044, 2045, 2046, 2048, 2049, 2050, 2051, 2053, 2054, 2055, 2058, 2060, 2061, 2062, 2064, 2065, 2068, 2069, 2071, 2072, 2073, 2075, 2078, 2079, 2080, 2081, 2084, 2087, 2092, 2100, 2101, 2103, 2106, 2108, 2109, 2110, 2111, 2112, 2114, 2115, 2116, 2120, 2121, 2122, 2123, 2124, 2125, 2126, 2128, 2129, 2132, 2133, 2138, 2141, 2144, 2146, 2149, 2153, 2155, 2156, 2157, 2161, 2162, 2163, 2165, 2167, 2168, 2169, 2170, 2171, 2176, 2177, 2181, 2183, 2186, 2192, 2193, 2194, 2195, 2198, 2201, 2203, 2208, 2216, 2217, 2219, 2221, 2229, 2230, 2233, 2234, 2237, 2239, 2241, 2243, 2246, 2249, 2250, 2252, 2253, 2258, 2259, 2261, 2270, 2276, 2279, 2282, 2285, 2286, 2291, 2292, 2293, 2294, 2297, 2300, 2302, 2304, 2305, 2306, 2307, 2310, 2313, 2315, 2324, 2326, 2327, 2330, 2332, 2333, 2335, 2336, 2337, 2338, 2339, 2345, 2346, 2347, 2348, 2351, 2354, 2356, 2357, 2360, 2363, 2364, 2366, 2368, 2369, 2371, 2372, 2375, 2378, 2382, 2384, 2385, 2386, 2387, 2389, 2391, 2394, 2396, 2412, 2414, 2415, 2419, 2420, 2421, 2422, 2423, 2424, 2425, 2426, 2429, 2430, 2431, 2433, 2434, 2435, 2436, 2437, 2439, 2440, 2441, 2444, 2447, 2448, 2451, 2459, 2460, 2461, 2463, 2464, 2465, 2468, 2469, 2471, 2475, 2477, 2478, 2479, 2480, 2483, 2484, 2486, 2487, 2488, 2490, 2491, 2492, 2493, 2495, 2499, 2501, 2505, 2506, 2507, 2510, 2512, 2513, 2514, 2516, 2519, 2520, 2523, 2524, 2528, 2531, 2532, 2533, 2534, 2535, 2536, 2539, 2543, 2546, 2549, 2553, 2558, 2559, 2560, 2561, 2566, 2567, 2570, 2571, 2575, 2579, 2582, 2583, 2585, 2588, 2589, 2594, 2598, 2607, 2609, 2610, 2611, 2612, 2618, 2623, 2627, 2630, 2631, 2633, 2634, 2635, 2636, 2639, 2642, 2643, 2645, 2647, 2648, 2650, 2651, 2657, 2660, 2661, 2663, 2668, 2669, 2673, 2674, 2676, 2677, 2678, 2679, 2690, 2693, 2694, 2695, 2697, 2699, 2706, 2711, 2717, 2720, 2726, 2729, 2730, 2732, 2738, 2741, 2742, 2744, 2747, 2752, 2753, 2755, 2756, 2762, 2765, 2768, 2769, 2771, 2774, 2777, 2780, 2785, 2786, 2788, 2789, 2790, 2793, 2794, 2795, 2798, 2801, 2804, 2805, 2806, 2807, 2808, 2809, 2810, 2811, 2813, 2815, 2816, 2818, 2819, 2820, 2821, 2822, 2824, 2826, 2827, 2832, 2836, 2837, 2841, 2843, 2847, 2849, 2852, 2853, 2855, 2858, 2859, 2860, 2864, 2869, 2871, 2879, 2881, 2882, 2886, 2890, 2897, 2900, 2901, 2903, 2905, 2906, 2909, 2912, 2915, 2921, 2925, 2928, 2933, 2934, 2936, 2939, 2940, 2942, 2943, 2945, 2954, 2957, 2960, 2970, 2972, 2978, 2981, 2984, 2985, 2987, 2990, 2993, 2996, 3002, 3003, 3004, 3009, 3014, 3016, 3017, 3023, 3025, 3026, 3031, 3035, 3040, 3041, 3044, 3045, 3047, 3053, 3057, 3058, 3062, 3065, 3066, 3067, 3068, 3071, 3074, 3075, 3079, 3080, 3092, 3095, 3097, 3099, 3104, 3107, 3110, 3112, 3113, 3117, 3119, 3122, 3125, 3128, 3131, 3132, 3133, 3134, 3135, 3136, 3137, 3140, 3144, 3146, 3149, 3152, 3155, 3156, 3158, 3161, 3162, 3163, 3164, 3171, 3172, 3173, 3177, 3179, 3180, 3181, 3182, 3185, 3186, 3188, 3191, 3192, 3193, 3194, 3196, 3197, 3200, 3201, 3203, 3204, 3206, 3207, 3208, 3211, 3212, 3213, 3214, 3217, 3218, 3219, 3221, 3223, 3224, 3226, 3229, 3230, 3231, 3232, 3233, 3234, 3236, 3239, 3240, 3241, 3246, 3248, 3249, 3251, 3252, 3253, 3254, 3255, 3257, 3258, 3259, 3266, 3267, 3269, 3270, 3271, 3272, 3274, 3276, 3279, 3280, 3281, 3282, 3284, 3289, 3293, 3294, 3295, 3296, 3297, 3298, 3299, 3300, 3302, 3306, 3309, 3311, 3314, 3320, 3323, 3324, 3326, 3329, 3330, 3331, 3333, 3334, 3335, 3340, 3341, 3342, 3346, 3347, 3349, 3350, 3351, 3352, 3353, 3356, 3357, 3358, 3359, 3360, 3363, 3365, 3369, 3370, 3374, 3378, 3379, 3380, 3382, 3384, 3385, 3387, 3389, 3391, 3393, 3396, 3397, 3401, 3404, 3406, 3407, 3410, 3412, 3413, 3414, 3416, 3419, 3422, 3424, 3427, 3429, 3430, 3432, 3434, 3435, 3437, 3438, 3439, 3440, 3443, 3445, 3446, 3449, 3453, 3456, 3457, 3458, 3461, 3463, 3464, 3465, 3472, 3473, 3474, 3476, 3479, 3483, 3484, 3485, 3486, 3487, 3489, 3491, 3492, 3493, 3494, 3497, 3498, 3499, 3500, 3501, 3502, 3503, 3504, 3506, 3508, 3509, 3510, 3512, 3518, 3520, 3524, 3525, 3528, 3531, 3533, 3536, 3537, 3541, 3542, 3543, 3545, 3546, 3548, 3549, 3552, 3553, 3554, 3558, 3559, 3560, 3562, 3563, 3564, 3572, 3573, 3574, 3575, 3576, 3581, 3582, 3583, 3584, 3590, 3593, 3594, 3596, 3599, 3600, 3601, 3602, 3603, 3604, 3606, 3608, 3614, 3619, 3620, 3623, 3627, 3628, 3630, 3632, 3638, 3644, 3646, 3647, 3651, 3653, 3654, 3655, 3656, 3657, 3660, 3661, 3662, 3665, 3666, 3668, 3669, 3670, 3671, 3673, 3674, 3678, 3679, 3681, 3683, 3684, 3686, 3687, 3688, 3689, 3690, 3691, 3693, 3697, 3699, 3701, 3702, 3703, 3704, 3705, 3706, 3708, 3709, 3710, 3712, 3713, 3714, 3716, 3717, 3719, 3721, 3723, 3724, 3726, 3727, 3728, 3729, 3730, 3731, 3733, 3734, 3737, 3739, 3741, 3742, 3744, 3745, 3746, 3748, 3749, 3750, 3751, 3752, 3753, 3754, 3755, 3758, 3760, 3761, 3764, 3770, 3773, 3774, 3775, 3776, 3777, 3779, 3781, 3784, 3785, 3787, 3788, 3789, 3791, 3792, 3793, 3796, 3797, 3798, 3803, 3806, 3815, 3818, 3821])\n",
    "FREQ_PROBS = np.array([0.0002578981302385558, 0.0005157962604771116, 0.0005157962604771116, 0.0002578981302385558, 0.00038684719535783365, 0.014442295293359123, 0.0005157962604771116, 0.00038684719535783365, 0.0002578981302385558, 0.00038684719535783365, 0.00038684719535783365, 0.0007736943907156673, 0.0002578981302385558, 0.0005157962604771116, 0.0006447453255963894, 0.0011605415860735009, 0.0006447453255963894, 0.00038684719535783365, 0.00038684719535783365, 0.00038684719535783365, 0.0027079303675048355, 0.0001289490651192779, 0.0023210831721470018, 0.0010315925209542231, 0.0001289490651192779, 0.0002578981302385558, 0.0005157962604771116, 0.00038684719535783365, 0.0007736943907156673, 0.0036105738233397806, 0.0002578981302385558, 0.0002578981302385558, 0.0009026434558349452, 0.0001289490651192779, 0.0001289490651192779, 0.0020631850419084463, 0.0015473887814313346, 0.00245003223726628, 0.0001289490651192779, 0.0007736943907156673, 0.00245003223726628, 0.0005157962604771116, 0.00038684719535783365, 0.0010315925209542231, 0.00038684719535783365, 0.0009026434558349452, 0.0006447453255963894, 0.00038684719535783365, 0.0019342359767891683, 0.0016763378465506126, 0.0014184397163120568, 0.0009026434558349452, 0.00038684719535783365, 0.0005157962604771116, 0.0001289490651192779, 0.0007736943907156673, 0.0002578981302385558, 0.0009026434558349452, 0.0001289490651192779, 0.0002578981302385558, 0.0006447453255963894, 0.0009026434558349452, 0.00245003223726628, 0.0001289490651192779, 0.0002578981302385558, 0.0001289490651192779, 0.0001289490651192779, 0.0001289490651192779, 0.00038684719535783365, 0.0006447453255963894, 0.0001289490651192779, 0.00038684719535783365, 0.0001289490651192779, 0.0007736943907156673, 0.0001289490651192779, 0.0006447453255963894, 0.0006447453255963894, 0.0001289490651192779, 0.0002578981302385558, 0.0012894906511927789, 0.00038684719535783365, 0.0007736943907156673, 0.00038684719535783365, 0.0005157962604771116, 0.0001289490651192779, 0.0001289490651192779, 0.0023210831721470018, 0.0001289490651192779, 0.0011605415860735009, 0.0002578981302385558, 0.0006447453255963894, 0.0005157962604771116, 0.0028368794326241137, 0.0038684719535783366, 0.002192134107027724, 0.0002578981302385558, 0.0020631850419084463, 0.00038684719535783365, 0.0029658284977433914, 0.0001289490651192779, 0.00038684719535783365, 0.0001289490651192779, 0.0002578981302385558, 0.0005157962604771116, 0.0001289490651192779, 0.0010315925209542231, 0.0002578981302385558, 0.0005157962604771116, 0.0001289490651192779, 0.0018052869116698903, 0.00038684719535783365, 0.00038684719535783365, 0.0006447453255963894, 0.0001289490651192779, 0.0007736943907156673, 0.0001289490651192779, 0.00038684719535783365, 0.0006447453255963894, 0.0002578981302385558, 0.002192134107027724, 0.00038684719535783365, 0.0006447453255963894, 0.00038684719535783365, 0.00038684719535783365, 0.0001289490651192779, 0.0002578981302385558, 0.00038684719535783365, 0.00038684719535783365, 0.00038684719535783365, 0.0005157962604771116, 0.0001289490651192779, 0.0019342359767891683, 0.0001289490651192779, 0.0007736943907156673, 0.0002578981302385558, 0.00038684719535783365, 0.0001289490651192779, 0.0009026434558349452, 0.00038684719535783365, 0.0002578981302385558, 0.0002578981302385558, 0.003223726627981947, 0.0002578981302385558, 0.0009026434558349452, 0.00038684719535783365, 0.00038684719535783365, 0.0001289490651192779, 0.0005157962604771116, 0.002192134107027724, 0.0010315925209542231, 0.00038684719535783365, 0.0001289490651192779, 0.0001289490651192779, 0.00038684719535783365, 0.0007736943907156673, 0.0011605415860735009, 0.0006447453255963894, 0.0006447453255963894, 0.0001289490651192779, 0.0001289490651192779, 0.0006447453255963894, 0.00038684719535783365, 0.00038684719535783365, 0.0001289490651192779, 0.0006447453255963894, 0.0002578981302385558, 0.0007736943907156673, 0.003223726627981947, 0.0001289490651192779, 0.0006447453255963894, 0.0009026434558349452, 0.0001289490651192779, 0.0002578981302385558, 0.0009026434558349452, 0.0025789813023855577, 0.0002578981302385558, 0.0019342359767891683, 0.0002578981302385558, 0.0006447453255963894, 0.0005157962604771116, 0.00038684719535783365, 0.0001289490651192779, 0.0002578981302385558, 0.0002578981302385558, 0.0001289490651192779, 0.00038684719535783365, 0.0001289490651192779, 0.0005157962604771116, 0.0006447453255963894, 0.00038684719535783365, 0.0009026434558349452, 0.0002578981302385558, 0.00038684719535783365, 0.0010315925209542231, 0.0006447453255963894, 0.00038684719535783365, 0.0001289490651192779, 0.0006447453255963894, 0.0007736943907156673, 0.0001289490651192779, 0.0001289490651192779, 0.0005157962604771116, 0.0001289490651192779, 0.0002578981302385558, 0.0001289490651192779, 0.0001289490651192779, 0.0002578981302385558, 0.00038684719535783365, 0.0005157962604771116, 0.0015473887814313346, 0.00038684719535783365, 0.0005157962604771116, 0.0002578981302385558, 0.0005157962604771116, 0.0001289490651192779, 0.00038684719535783365, 0.00038684719535783365, 0.0020631850419084463, 0.0002578981302385558, 0.0001289490651192779, 0.0002578981302385558, 0.0007736943907156673, 0.0005157962604771116, 0.0005157962604771116, 0.0011605415860735009, 0.0011605415860735009, 0.0002578981302385558, 0.0001289490651192779, 0.0014184397163120568, 0.00038684719535783365, 0.00038684719535783365, 0.0002578981302385558, 0.0005157962604771116, 0.0002578981302385558, 0.0019342359767891683, 0.00038684719535783365, 0.0001289490651192779, 0.0009026434558349452, 0.0006447453255963894, 0.00038684719535783365, 0.0001289490651192779, 0.0007736943907156673, 0.0006447453255963894, 0.0006447453255963894, 0.0001289490651192779, 0.00038684719535783365, 0.0002578981302385558, 0.0005157962604771116, 0.0005157962604771116, 0.0001289490651192779, 0.00038684719535783365, 0.0023210831721470018, 0.0007736943907156673, 0.00038684719535783365, 0.0014184397163120568, 0.0005157962604771116, 0.0001289490651192779, 0.0001289490651192779, 0.0001289490651192779, 0.00245003223726628, 0.0005157962604771116, 0.0007736943907156673, 0.00038684719535783365, 0.00038684719535783365, 0.0007736943907156673, 0.0005157962604771116, 0.0001289490651192779, 0.0001289490651192779, 0.0006447453255963894, 0.0001289490651192779, 0.00038684719535783365, 0.00038684719535783365, 0.00038684719535783365, 0.0002578981302385558, 0.0001289490651192779, 0.0002578981302385558, 0.0005157962604771116, 0.0002578981302385558, 0.0005157962604771116, 0.00038684719535783365, 0.00038684719535783365, 0.00038684719535783365, 0.00038684719535783365, 0.002192134107027724, 0.0001289490651192779, 0.0001289490651192779, 0.0005157962604771116, 0.0007736943907156673, 0.00038684719535783365, 0.0002578981302385558, 0.0005157962604771116, 0.0001289490651192779, 0.0001289490651192779, 0.0014184397163120568, 0.0015473887814313346, 0.00038684719535783365, 0.0011605415860735009, 0.0001289490651192779, 0.0001289490651192779, 0.0002578981302385558, 0.0006447453255963894, 0.0001289490651192779, 0.00038684719535783365, 0.00038684719535783365, 0.0001289490651192779, 0.0005157962604771116, 0.0001289490651192779, 0.0010315925209542231, 0.0001289490651192779, 0.00038684719535783365, 0.00038684719535783365, 0.00038684719535783365, 0.0005157962604771116, 0.0002578981302385558, 0.0005157962604771116, 0.0002578981302385558, 0.0007736943907156673, 0.00038684719535783365, 0.00038684719535783365, 0.0001289490651192779, 0.0001289490651192779, 0.0001289490651192779, 0.0007736943907156673, 0.0002578981302385558, 0.0005157962604771116, 0.0002578981302385558, 0.0002578981302385558, 0.005802707930367505, 0.00038684719535783365, 0.0001289490651192779, 0.00038684719535783365, 0.0002578981302385558, 0.00038684719535783365, 0.00038684719535783365, 0.0001289490651192779, 0.0001289490651192779, 0.0001289490651192779, 0.0005157962604771116, 0.0005157962604771116, 0.0001289490651192779, 0.00038684719535783365, 0.0005157962604771116, 0.0002578981302385558, 0.0006447453255963894, 0.0002578981302385558, 0.0011605415860735009, 0.0001289490651192779, 0.0010315925209542231, 0.0011605415860735009, 0.0007736943907156673, 0.0001289490651192779, 0.0001289490651192779, 0.0002578981302385558, 0.0002578981302385558, 0.0002578981302385558, 0.0001289490651192779, 0.0002578981302385558, 0.0015473887814313346, 0.003481624758220503, 0.0009026434558349452, 0.003997421018697615, 0.0001289490651192779, 0.0002578981302385558, 0.0002578981302385558, 0.0002578981302385558, 0.00038684719535783365, 0.0001289490651192779, 0.0005157962604771116, 0.0001289490651192779, 0.0001289490651192779, 0.0001289490651192779, 0.0002578981302385558, 0.0007736943907156673, 0.00038684719535783365, 0.0001289490651192779, 0.0028368794326241137, 0.0001289490651192779, 0.0001289490651192779, 0.0009026434558349452, 0.0001289490651192779, 0.00038684719535783365, 0.0014184397163120568, 0.0006447453255963894, 0.0005157962604771116, 0.0001289490651192779, 0.0001289490651192779, 0.0002578981302385558, 0.00038684719535783365, 0.0002578981302385558, 0.0012894906511927789, 0.00038684719535783365, 0.0005157962604771116, 0.00038684719535783365, 0.00038684719535783365, 0.0006447453255963894, 0.0006447453255963894, 0.0006447453255963894, 0.0001289490651192779, 0.0001289490651192779, 0.00038684719535783365, 0.0001289490651192779, 0.0002578981302385558, 0.0007736943907156673, 0.00038684719535783365, 0.00038684719535783365, 0.0001289490651192779, 0.0005157962604771116, 0.0006447453255963894, 0.00038684719535783365, 0.0005157962604771116, 0.0023210831721470018, 0.0028368794326241137, 0.0002578981302385558, 0.0010315925209542231, 0.0002578981302385558, 0.0005157962604771116, 0.0009026434558349452, 0.0002578981302385558, 0.0009026434558349452, 0.00038684719535783365, 0.00038684719535783365, 0.0015473887814313346, 0.0005157962604771116, 0.0007736943907156673, 0.0010315925209542231, 0.00038684719535783365, 0.0007736943907156673, 0.0010315925209542231, 0.0010315925209542231, 0.0010315925209542231, 0.0001289490651192779, 0.0007736943907156673, 0.00038684719535783365, 0.0005157962604771116, 0.0006447453255963894, 0.0001289490651192779, 0.00038684719535783365, 0.0005157962604771116, 0.00038684719535783365, 0.0002578981302385558, 0.0001289490651192779, 0.00038684719535783365, 0.00038684719535783365, 0.0001289490651192779, 0.00038684719535783365, 0.00038684719535783365, 0.0006447453255963894, 0.00038684719535783365, 0.0001289490651192779, 0.0001289490651192779, 0.0002578981302385558, 0.00245003223726628, 0.0006447453255963894, 0.00038684719535783365, 0.0002578981302385558, 0.0001289490651192779, 0.0007736943907156673, 0.0005157962604771116, 0.00038684719535783365, 0.0001289490651192779, 0.0009026434558349452, 0.00038684719535783365, 0.0005157962604771116, 0.0001289490651192779, 0.0002578981302385558, 0.0006447453255963894, 0.00038684719535783365, 0.0001289490651192779, 0.00038684719535783365, 0.00038684719535783365, 0.0001289490651192779, 0.0001289490651192779, 0.00038684719535783365, 0.0002578981302385558, 0.0046421663442940036, 0.00038684719535783365, 0.0019342359767891683, 0.0002578981302385558, 0.0001289490651192779, 0.00038684719535783365, 0.0001289490651192779, 0.0001289490651192779, 0.0009026434558349452, 0.00038684719535783365, 0.0001289490651192779, 0.0002578981302385558, 0.0019342359767891683, 0.00038684719535783365, 0.00038684719535783365, 0.00038684719535783365, 0.0006447453255963894, 0.0002578981302385558, 0.0005157962604771116, 0.00038684719535783365, 0.0023210831721470018, 0.0018052869116698903, 0.0005157962604771116, 0.0012894906511927789, 0.00038684719535783365, 0.0005157962604771116, 0.00038684719535783365, 0.00038684719535783365, 0.0002578981302385558, 0.0001289490651192779, 0.0006447453255963894, 0.00038684719535783365, 0.0001289490651192779, 0.00038684719535783365, 0.0001289490651192779, 0.0001289490651192779, 0.0005157962604771116, 0.0002578981302385558, 0.0001289490651192779, 0.0006447453255963894, 0.0001289490651192779, 0.0006447453255963894, 0.0001289490651192779, 0.0009026434558349452, 0.0005157962604771116, 0.0001289490651192779, 0.0001289490651192779, 0.0002578981302385558, 0.00038684719535783365, 0.00038684719535783365, 0.0006447453255963894, 0.0011605415860735009, 0.0005157962604771116, 0.0001289490651192779, 0.0005157962604771116, 0.0002578981302385558, 0.00038684719535783365, 0.0002578981302385558, 0.00038684719535783365, 0.00038684719535783365, 0.00038684719535783365, 0.0002578981302385558, 0.0012894906511927789, 0.00038684719535783365, 0.0002578981302385558, 0.0011605415860735009, 0.0001289490651192779, 0.00038684719535783365, 0.0005157962604771116, 0.00038684719535783365, 0.0006447453255963894, 0.0005157962604771116, 0.00038684719535783365, 0.0002578981302385558, 0.00038684719535783365, 0.00038684719535783365, 0.0001289490651192779, 0.0006447453255963894, 0.0001289490651192779, 0.0016763378465506126, 0.00038684719535783365, 0.00038684719535783365, 0.0005157962604771116, 0.00038684719535783365, 0.0001289490651192779, 0.0001289490651192779, 0.00038684719535783365, 0.00038684719535783365, 0.0012894906511927789, 0.00038684719535783365, 0.0005157962604771116, 0.00038684719535783365, 0.0001289490651192779, 0.0002578981302385558, 0.0010315925209542231, 0.00038684719535783365, 0.0002578981302385558, 0.0005157962604771116, 0.0002578981302385558, 0.00038684719535783365, 0.0006447453255963894, 0.00038684719535783365, 0.00038684719535783365, 0.0001289490651192779, 0.0001289490651192779, 0.0001289490651192779, 0.00038684719535783365, 0.0001289490651192779, 0.0002578981302385558, 0.0012894906511927789, 0.00038684719535783365, 0.0006447453255963894, 0.0012894906511927789, 0.0002578981302385558, 0.0001289490651192779, 0.0001289490651192779, 0.0005157962604771116, 0.00038684719535783365, 0.0001289490651192779, 0.0006447453255963894, 0.00038684719535783365, 0.0006447453255963894, 0.00038684719535783365, 0.00038684719535783365, 0.00038684719535783365, 0.0015473887814313346, 0.0001289490651192779, 0.0002578981302385558, 0.0001289490651192779, 0.0002578981302385558, 0.0001289490651192779, 0.0001289490651192779, 0.00038684719535783365, 0.00038684719535783365, 0.0001289490651192779, 0.0010315925209542231, 0.0002578981302385558, 0.00038684719535783365, 0.0010315925209542231, 0.0005157962604771116, 0.00038684719535783365, 0.0007736943907156673, 0.0001289490651192779, 0.0007736943907156673, 0.0001289490651192779, 0.0001289490651192779, 0.00038684719535783365, 0.0002578981302385558, 0.0001289490651192779, 0.0007736943907156673, 0.00038684719535783365, 0.0006447453255963894, 0.0002578981302385558, 0.0001289490651192779, 0.0002578981302385558, 0.00038684719535783365, 0.0001289490651192779, 0.0002578981302385558, 0.00038684719535783365, 0.00038684719535783365, 0.0002578981302385558, 0.0007736943907156673, 0.002192134107027724, 0.00038684719535783365, 0.0006447453255963894, 0.0001289490651192779, 0.0006447453255963894, 0.0002578981302385558, 0.0007736943907156673, 0.0002578981302385558, 0.0002578981302385558, 0.0001289490651192779, 0.0002578981302385558, 0.0001289490651192779, 0.0005157962604771116, 0.0001289490651192779, 0.002192134107027724, 0.0001289490651192779, 0.0007736943907156673, 0.00038684719535783365, 0.0014184397163120568, 0.0010315925209542231, 0.0001289490651192779, 0.00038684719535783365, 0.0002578981302385558, 0.0002578981302385558, 0.00038684719535783365, 0.0002578981302385558, 0.0002578981302385558, 0.0001289490651192779, 0.0005157962604771116, 0.0001289490651192779, 0.0001289490651192779, 0.00038684719535783365, 0.0001289490651192779, 0.0002578981302385558, 0.0001289490651192779, 0.0001289490651192779, 0.0001289490651192779, 0.00038684719535783365, 0.0007736943907156673, 0.0001289490651192779, 0.0002578981302385558, 0.0002578981302385558, 0.0005157962604771116, 0.0002578981302385558, 0.0009026434558349452, 0.0002578981302385558, 0.0001289490651192779, 0.0007736943907156673, 0.0006447453255963894, 0.0041263700838168925, 0.0006447453255963894, 0.00038684719535783365, 0.0014184397163120568, 0.0009026434558349452, 0.0010315925209542231, 0.0006447453255963894, 0.00038684719535783365, 0.00038684719535783365, 0.00038684719535783365, 0.0002578981302385558, 0.0007736943907156673, 0.00038684719535783365, 0.0001289490651192779, 0.003481624758220503, 0.0001289490651192779, 0.0002578981302385558, 0.0001289490651192779, 0.0005157962604771116, 0.0001289490651192779, 0.0019342359767891683, 0.0002578981302385558, 0.0009026434558349452, 0.00038684719535783365, 0.0002578981302385558, 0.0002578981302385558, 0.0002578981302385558, 0.0016763378465506126, 0.0002578981302385558, 0.0001289490651192779, 0.0001289490651192779, 0.0006447453255963894, 0.0002578981302385558, 0.0006447453255963894, 0.0010315925209542231, 0.0001289490651192779, 0.0006447453255963894, 0.0001289490651192779, 0.0002578981302385558, 0.0002578981302385558, 0.0002578981302385558, 0.00038684719535783365, 0.0007736943907156673, 0.002192134107027724, 0.0001289490651192779, 0.0002578981302385558, 0.0001289490651192779, 0.00038684719535783365, 0.00038684719535783365, 0.00038684719535783365, 0.0001289490651192779, 0.0001289490651192779, 0.00038684719535783365, 0.0005157962604771116, 0.00038684719535783365, 0.0015473887814313346, 0.0007736943907156673, 0.002192134107027724, 0.0002578981302385558, 0.0005157962604771116, 0.0001289490651192779, 0.00038684719535783365, 0.0009026434558349452, 0.0020631850419084463, 0.00038684719535783365, 0.00038684719535783365, 0.0001289490651192779, 0.0001289490651192779, 0.0001289490651192779, 0.00038684719535783365, 0.00038684719535783365, 0.0007736943907156673, 0.0001289490651192779, 0.0005157962604771116, 0.00038684719535783365, 0.00038684719535783365, 0.0007736943907156673, 0.0001289490651192779, 0.0001289490651192779, 0.0011605415860735009, 0.00038684719535783365, 0.0020631850419084463, 0.0001289490651192779, 0.0001289490651192779, 0.0015473887814313346, 0.0005157962604771116, 0.00038684719535783365, 0.0002578981302385558, 0.00038684719535783365, 0.0010315925209542231, 0.0007736943907156673, 0.0001289490651192779, 0.0002578981302385558, 0.00038684719535783365, 0.0007736943907156673, 0.0002578981302385558, 0.0002578981302385558, 0.0009026434558349452, 0.00038684719535783365, 0.0001289490651192779, 0.0001289490651192779, 0.0005157962604771116, 0.0016763378465506126, 0.0005157962604771116, 0.0001289490651192779, 0.0001289490651192779, 0.0001289490651192779, 0.0001289490651192779, 0.0005157962604771116, 0.0006447453255963894, 0.0002578981302385558, 0.0007736943907156673, 0.0011605415860735009, 0.0007736943907156673, 0.00038684719535783365, 0.0002578981302385558, 0.0027079303675048355, 0.00038684719535783365, 0.0001289490651192779, 0.00038684719535783365, 0.0015473887814313346, 0.0006447453255963894, 0.0001289490651192779, 0.0005157962604771116, 0.0002578981302385558, 0.0005157962604771116, 0.0005157962604771116, 0.00038684719535783365, 0.0006447453255963894, 0.0001289490651192779, 0.0005157962604771116, 0.0002578981302385558, 0.0001289490651192779, 0.0019342359767891683, 0.0002578981302385558, 0.0001289490651192779, 0.0005157962604771116, 0.00038684719535783365, 0.0002578981302385558, 0.00038684719535783365, 0.0001289490651192779, 0.00038684719535783365, 0.00038684719535783365, 0.0002578981302385558, 0.00038684719535783365, 0.0002578981302385558, 0.00038684719535783365, 0.0001289490651192779, 0.0002578981302385558, 0.00038684719535783365, 0.0002578981302385558, 0.0007736943907156673, 0.0005157962604771116, 0.0002578981302385558, 0.0007736943907156673, 0.00038684719535783365, 0.0002578981302385558, 0.0005157962604771116, 0.0002578981302385558, 0.0002578981302385558, 0.0010315925209542231, 0.0001289490651192779, 0.0001289490651192779, 0.0001289490651192779, 0.00038684719535783365, 0.0018052869116698903, 0.00038684719535783365, 0.003739522888459059, 0.0006447453255963894, 0.0001289490651192779, 0.00038684719535783365, 0.0001289490651192779, 0.00038684719535783365, 0.00038684719535783365, 0.0002578981302385558, 0.0002578981302385558, 0.0006447453255963894, 0.00038684719535783365, 0.00038684719535783365, 0.0012894906511927789, 0.00038684719535783365, 0.0019342359767891683, 0.0001289490651192779, 0.0010315925209542231, 0.0007736943907156673, 0.00038684719535783365, 0.00038684719535783365, 0.00038684719535783365, 0.0002578981302385558, 0.00038684719535783365, 0.0005157962604771116, 0.0006447453255963894, 0.0001289490651192779, 0.0009026434558349452, 0.00038684719535783365, 0.0009026434558349452, 0.00038684719535783365, 0.0010315925209542231, 0.0001289490651192779, 0.00038684719535783365, 0.0001289490651192779, 0.0006447453255963894, 0.0002578981302385558, 0.00038684719535783365, 0.00038684719535783365, 0.00038684719535783365, 0.0005157962604771116, 0.0005157962604771116, 0.00038684719535783365, 0.0010315925209542231, 0.0006447453255963894, 0.0007736943907156673, 0.0007736943907156673, 0.0001289490651192779, 0.0005157962604771116, 0.0002578981302385558, 0.0001289490651192779, 0.0006447453255963894, 0.0006447453255963894, 0.0006447453255963894, 0.0009026434558349452, 0.0001289490651192779, 0.00038684719535783365, 0.00038684719535783365, 0.0001289490651192779, 0.0002578981302385558, 0.0014184397163120568, 0.0001289490651192779, 0.0002578981302385558, 0.0001289490651192779, 0.003094777562862669, 0.0001289490651192779, 0.0005157962604771116, 0.005931656995486783, 0.00038684719535783365, 0.0006447453255963894, 0.0005157962604771116, 0.00038684719535783365, 0.0005157962604771116, 0.0002578981302385558, 0.00038684719535783365, 0.00038684719535783365, 0.0001289490651192779, 0.00038684719535783365, 0.0011605415860735009, 0.0002578981302385558, 0.00038684719535783365, 0.0002578981302385558, 0.00038684719535783365, 0.0001289490651192779, 0.0002578981302385558, 0.0006447453255963894, 0.0009026434558349452, 0.0010315925209542231, 0.0002578981302385558, 0.0001289490651192779, 0.0002578981302385558, 0.00038684719535783365, 0.0001289490651192779, 0.0011605415860735009, 0.0027079303675048355, 0.00038684719535783365, 0.0001289490651192779, 0.0001289490651192779, 0.0006447453255963894, 0.006060606060606061, 0.0011605415860735009, 0.00038684719535783365, 0.0001289490651192779, 0.00038684719535783365, 0.0010315925209542231, 0.00038684719535783365, 0.0002578981302385558, 0.00038684719535783365, 0.0027079303675048355, 0.0002578981302385558, 0.0002578981302385558, 0.0006447453255963894, 0.002192134107027724, 0.0002578981302385558, 0.0006447453255963894, 0.00038684719535783365, 0.0016763378465506126, 0.00038684719535783365, 0.0001289490651192779, 0.0001289490651192779, 0.00038684719535783365, 0.0009026434558349452, 0.00038684719535783365, 0.0002578981302385558, 0.004384268214055448, 0.0001289490651192779, 0.0007736943907156673, 0.0005157962604771116, 0.0005157962604771116, 0.00038684719535783365, 0.0025789813023855577, 0.0002578981302385558, 0.0023210831721470018, 0.0002578981302385558, 0.0001289490651192779, 0.0001289490651192779, 0.00038684719535783365, 0.0005157962604771116, 0.0001289490651192779, 0.00038684719535783365, 0.0011605415860735009, 0.0010315925209542231, 0.00038684719535783365, 0.0002578981302385558, 0.0001289490651192779, 0.00038684719535783365, 0.0018052869116698903, 0.0005157962604771116, 0.0005157962604771116, 0.0007736943907156673, 0.0007736943907156673, 0.0002578981302385558, 0.0016763378465506126, 0.0001289490651192779, 0.0007736943907156673, 0.00038684719535783365, 0.00038684719535783365, 0.00038684719535783365, 0.0001289490651192779, 0.00038684719535783365, 0.00038684719535783365, 0.0014184397163120568, 0.0001289490651192779, 0.0012894906511927789, 0.00038684719535783365, 0.0027079303675048355, 0.0010315925209542231, 0.0009026434558349452, 0.0002578981302385558, 0.0010315925209542231, 0.00038684719535783365, 0.00038684719535783365, 0.0001289490651192779, 0.0001289490651192779, 0.0002578981302385558, 0.0002578981302385558, 0.0002578981302385558, 0.003352675693101225, 0.00038684719535783365, 0.0002578981302385558, 0.00038684719535783365, 0.0001289490651192779, 0.0001289490651192779, 0.00038684719535783365, 0.0005157962604771116, 0.0001289490651192779, 0.0015473887814313346, 0.0015473887814313346, 0.0007736943907156673, 0.0015473887814313346, 0.00038684719535783365, 0.0001289490651192779, 0.0001289490651192779, 0.0001289490651192779, 0.0001289490651192779, 0.0001289490651192779, 0.0001289490651192779, 0.0002578981302385558, 0.0001289490651192779, 0.0002578981302385558, 0.0007736943907156673, 0.0006447453255963894, 0.0001289490651192779, 0.0010315925209542231, 0.0001289490651192779, 0.00038684719535783365, 0.0005157962604771116, 0.0001289490651192779, 0.0007736943907156673, 0.0005157962604771116, 0.0001289490651192779, 0.0005157962604771116, 0.0001289490651192779, 0.0001289490651192779, 0.00038684719535783365, 0.0001289490651192779, 0.00038684719535783365, 0.00038684719535783365, 0.00038684719535783365, 0.0001289490651192779, 0.0007736943907156673, 0.0005157962604771116, 0.0012894906511927789, 0.0005157962604771116, 0.00038684719535783365, 0.00038684719535783365, 0.00038684719535783365, 0.0002578981302385558, 0.0028368794326241137, 0.0007736943907156673, 0.0001289490651192779, 0.0015473887814313346, 0.0002578981302385558, 0.0002578981302385558, 0.0005157962604771116, 0.0002578981302385558, 0.00038684719535783365, 0.00038684719535783365, 0.0002578981302385558, 0.0005157962604771116, 0.0007736943907156673, 0.0002578981302385558, 0.00038684719535783365, 0.0002578981302385558, 0.00038684719535783365, 0.00038684719535783365, 0.00038684719535783365, 0.0011605415860735009, 0.00038684719535783365, 0.0002578981302385558, 0.0002578981302385558, 0.00038684719535783365, 0.00038684719535783365, 0.0002578981302385558, 0.0001289490651192779, 0.0006447453255963894, 0.0025789813023855577, 0.0001289490651192779, 0.0005157962604771116, 0.0011605415860735009, 0.00038684719535783365, 0.0001289490651192779, 0.0002578981302385558, 0.0001289490651192779, 0.0002578981302385558, 0.0010315925209542231, 0.00038684719535783365, 0.00038684719535783365, 0.00038684719535783365, 0.00038684719535783365, 0.0001289490651192779, 0.00038684719535783365, 0.00038684719535783365, 0.00038684719535783365, 0.0001289490651192779, 0.00038684719535783365, 0.0001289490651192779, 0.00038684719535783365, 0.00038684719535783365, 0.00038684719535783365, 0.0011605415860735009, 0.00038684719535783365, 0.0005157962604771116, 0.0002578981302385558, 0.00038684719535783365, 0.0009026434558349452, 0.0011605415860735009, 0.0020631850419084463, 0.0005157962604771116, 0.0005157962604771116, 0.0019342359767891683, 0.0002578981302385558, 0.0005157962604771116, 0.0001289490651192779, 0.0018052869116698903, 0.0014184397163120568, 0.0002578981302385558, 0.0001289490651192779, 0.0001289490651192779, 0.0019342359767891683, 0.0001289490651192779, 0.0007736943907156673, 0.0001289490651192779, 0.0001289490651192779, 0.0002578981302385558, 0.00038684719535783365, 0.0014184397163120568, 0.0010315925209542231, 0.0006447453255963894, 0.00038684719535783365, 0.00038684719535783365, 0.0002578981302385558, 0.0005157962604771116, 0.0001289490651192779, 0.0002578981302385558, 0.0005157962604771116, 0.0001289490651192779, 0.00038684719535783365, 0.0010315925209542231, 0.0001289490651192779, 0.0002578981302385558, 0.0002578981302385558, 0.0002578981302385558, 0.00038684719535783365, 0.0005157962604771116, 0.00038684719535783365, 0.0002578981302385558, 0.0002578981302385558, 0.00038684719535783365, 0.0041263700838168925, 0.0007736943907156673, 0.00038684719535783365, 0.0005157962604771116, 0.0002578981302385558, 0.00038684719535783365, 0.00038684719535783365, 0.0001289490651192779, 0.0001289490651192779, 0.002192134107027724, 0.0007736943907156673, 0.00038684719535783365, 0.0005157962604771116, 0.0007736943907156673, 0.0006447453255963894, 0.00038684719535783365, 0.0007736943907156673, 0.0001289490651192779, 0.00038684719535783365, 0.00038684719535783365, 0.00038684719535783365, 0.00038684719535783365, 0.00038684719535783365, 0.0009026434558349452, 0.00245003223726628, 0.0001289490651192779, 0.0001289490651192779, 0.00245003223726628, 0.00038684719535783365, 0.00038684719535783365, 0.0002578981302385558, 0.00038684719535783365, 0.0001289490651192779, 0.00038684719535783365, 0.0006447453255963894, 0.0002578981302385558, 0.0001289490651192779, 0.0001289490651192779, 0.0002578981302385558, 0.0006447453255963894, 0.0005157962604771116, 0.0010315925209542231, 0.0002578981302385558, 0.00038684719535783365, 0.0015473887814313346, 0.0001289490651192779, 0.0001289490651192779, 0.0016763378465506126, 0.0009026434558349452, 0.00038684719535783365, 0.0001289490651192779, 0.0002578981302385558, 0.0001289490651192779, 0.0006447453255963894, 0.0005157962604771116, 0.0001289490651192779, 0.0006447453255963894, 0.0005157962604771116, 0.00038684719535783365, 0.0018052869116698903, 0.0005157962604771116, 0.0001289490651192779, 0.00038684719535783365, 0.0007736943907156673, 0.0014184397163120568, 0.0005157962604771116, 0.0001289490651192779, 0.0006447453255963894, 0.0006447453255963894, 0.0005157962604771116, 0.0002578981302385558, 0.0002578981302385558, 0.0002578981302385558, 0.0002578981302385558, 0.00038684719535783365, 0.0005157962604771116, 0.0002578981302385558, 0.0002578981302385558, 0.0002578981302385558, 0.0002578981302385558, 0.00038684719535783365, 0.00038684719535783365, 0.00038684719535783365, 0.0007736943907156673, 0.0006447453255963894, 0.0005157962604771116, 0.0006447453255963894, 0.0005157962604771116, 0.0001289490651192779, 0.00038684719535783365, 0.0001289490651192779, 0.0001289490651192779, 0.0001289490651192779, 0.0007736943907156673, 0.0009026434558349452, 0.0001289490651192779, 0.00038684719535783365, 0.0006447453255963894, 0.0010315925209542231, 0.0005157962604771116, 0.0002578981302385558, 0.0011605415860735009, 0.0009026434558349452, 0.0005157962604771116, 0.00038684719535783365, 0.0005157962604771116, 0.00038684719535783365, 0.0001289490651192779, 0.0005157962604771116, 0.0001289490651192779, 0.0006447453255963894, 0.00038684719535783365, 0.003094777562862669, 0.0005157962604771116, 0.0016763378465506126, 0.0001289490651192779, 0.00038684719535783365, 0.0001289490651192779, 0.0015473887814313346, 0.0001289490651192779, 0.0051579626047711154, 0.0001289490651192779, 0.0018052869116698903, 0.003223726627981947, 0.0002578981302385558, 0.0002578981302385558, 0.00038684719535783365, 0.0001289490651192779, 0.00038684719535783365, 0.0002578981302385558, 0.0002578981302385558, 0.0009026434558349452, 0.0005157962604771116, 0.0001289490651192779, 0.0001289490651192779, 0.0007736943907156673, 0.0001289490651192779, 0.0002578981302385558, 0.00038684719535783365, 0.0005157962604771116, 0.00038684719535783365, 0.0002578981302385558, 0.00038684719535783365, 0.0002578981302385558, 0.0007736943907156673, 0.0006447453255963894, 0.0010315925209542231, 0.00038684719535783365, 0.00038684719535783365, 0.0001289490651192779, 0.0002578981302385558, 0.0001289490651192779, 0.0001289490651192779, 0.0002578981302385558, 0.0007736943907156673, 0.00038684719535783365, 0.0005157962604771116, 0.00038684719535783365, 0.0002578981302385558, 0.0002578981302385558, 0.0002578981302385558, 0.0001289490651192779, 0.00038684719535783365, 0.00038684719535783365, 0.0001289490651192779, 0.0011605415860735009, 0.0009026434558349452, 0.0002578981302385558, 0.0001289490651192779, 0.00038684719535783365, 0.00038684719535783365, 0.0002578981302385558, 0.00038684719535783365, 0.0001289490651192779, 0.0001289490651192779, 0.0009026434558349452, 0.0002578981302385558, 0.0002578981302385558, 0.0001289490651192779, 0.0001289490651192779, 0.0001289490651192779, 0.0002578981302385558, 0.0002578981302385558, 0.0005157962604771116, 0.0005157962604771116, 0.0001289490651192779, 0.00038684719535783365, 0.0001289490651192779, 0.0001289490651192779, 0.0006447453255963894, 0.00038684719535783365, 0.00038684719535783365, 0.0006447453255963894, 0.0007736943907156673, 0.0001289490651192779, 0.0001289490651192779, 0.00038684719535783365, 0.0005157962604771116, 0.00038684719535783365, 0.00038684719535783365, 0.00038684719535783365, 0.0014184397163120568, 0.0010315925209542231, 0.0009026434558349452, 0.00038684719535783365, 0.0002578981302385558, 0.0001289490651192779, 0.0005157962604771116, 0.0001289490651192779, 0.0001289490651192779, 0.00038684719535783365, 0.00038684719535783365, 0.0011605415860735009, 0.0001289490651192779, 0.00038684719535783365, 0.00038684719535783365, 0.00038684719535783365, 0.0001289490651192779, 0.0007736943907156673, 0.0001289490651192779, 0.0002578981302385558, 0.0001289490651192779, 0.0001289490651192779, 0.0001289490651192779, 0.0002578981302385558, 0.0002578981302385558, 0.0001289490651192779, 0.0001289490651192779, 0.0005157962604771116, 0.0001289490651192779, 0.0001289490651192779, 0.0006447453255963894, 0.00038684719535783365, 0.00038684719535783365, 0.0001289490651192779, 0.0005157962604771116, 0.0002578981302385558, 0.0001289490651192779, 0.0010315925209542231, 0.0005157962604771116, 0.00038684719535783365, 0.00038684719535783365, 0.0002578981302385558, 0.0007736943907156673, 0.0001289490651192779, 0.0001289490651192779, 0.0006447453255963894, 0.0001289490651192779, 0.0001289490651192779, 0.0007736943907156673, 0.0001289490651192779, 0.0005157962604771116, 0.00038684719535783365, 0.0002578981302385558, 0.0005157962604771116, 0.0007736943907156673, 0.00038684719535783365, 0.0007736943907156673, 0.00038684719535783365, 0.00038684719535783365, 0.00038684719535783365, 0.0010315925209542231, 0.0005157962604771116, 0.0001289490651192779, 0.0001289490651192779, 0.0009026434558349452, 0.0005157962604771116, 0.0002578981302385558, 0.0001289490651192779, 0.0002578981302385558, 0.0005157962604771116, 0.0002578981302385558, 0.00038684719535783365, 0.0005157962604771116, 0.00038684719535783365, 0.0001289490651192779, 0.00038684719535783365, 0.0005157962604771116, 0.0001289490651192779, 0.0002578981302385558, 0.0001289490651192779, 0.0001289490651192779, 0.00038684719535783365, 0.0002578981302385558, 0.003223726627981947, 0.0005157962604771116, 0.0006447453255963894, 0.0005157962604771116, 0.0002578981302385558, 0.0001289490651192779, 0.0001289490651192779, 0.00038684719535783365, 0.0002578981302385558, 0.0005157962604771116, 0.0006447453255963894, 0.00038684719535783365, 0.0007736943907156673, 0.0002578981302385558, 0.0002578981302385558, 0.0002578981302385558, 0.00038684719535783365, 0.0006447453255963894, 0.0011605415860735009, 0.0002578981302385558, 0.0005157962604771116, 0.0001289490651192779, 0.00038684719535783365, 0.0014184397163120568, 0.0001289490651192779, 0.0002578981302385558, 0.0001289490651192779, 0.00038684719535783365, 0.00038684719535783365, 0.0001289490651192779, 0.0001289490651192779, 0.0007736943907156673, 0.0002578981302385558, 0.00038684719535783365, 0.0001289490651192779, 0.0002578981302385558, 0.00038684719535783365, 0.00038684719535783365, 0.0005157962604771116, 0.0002578981302385558, 0.0016763378465506126, 0.0011605415860735009, 0.0002578981302385558, 0.0007736943907156673, 0.0001289490651192779, 0.0002578981302385558, 0.0002578981302385558, 0.0001289490651192779, 0.0005157962604771116, 0.00038684719535783365, 0.00038684719535783365, 0.0001289490651192779, 0.0001289490651192779, 0.0007736943907156673, 0.00038684719535783365, 0.0001289490651192779, 0.0001289490651192779, 0.003481624758220503, 0.0005157962604771116, 0.0001289490651192779, 0.0002578981302385558, 0.0012894906511927789, 0.0009026434558349452, 0.0009026434558349452, 0.00038684719535783365, 0.0002578981302385558, 0.00038684719535783365, 0.0001289490651192779, 0.0010315925209542231, 0.00038684719535783365, 0.0005157962604771116, 0.0016763378465506126, 0.0014184397163120568, 0.00038684719535783365, 0.0041263700838168925, 0.0002578981302385558, 0.0002578981302385558, 0.0001289490651192779, 0.00038684719535783365, 0.0001289490651192779, 0.00038684719535783365, 0.0002578981302385558, 0.0006447453255963894, 0.0002578981302385558, 0.00038684719535783365, 0.0007736943907156673, 0.0007736943907156673, 0.0001289490651192779, 0.00038684719535783365, 0.0001289490651192779, 0.0002578981302385558, 0.0002578981302385558, 0.0002578981302385558, 0.0001289490651192779, 0.00038684719535783365, 0.0009026434558349452, 0.0016763378465506126, 0.0016763378465506126, 0.0002578981302385558, 0.00038684719535783365, 0.0001289490651192779, 0.0007736943907156673, 0.0002578981302385558, 0.0005157962604771116, 0.0005157962604771116, 0.0007736943907156673, 0.0012894906511927789, 0.0005157962604771116, 0.0002578981302385558, 0.00038684719535783365, 0.0014184397163120568, 0.0001289490651192779, 0.0001289490651192779, 0.0001289490651192779, 0.00038684719535783365, 0.00038684719535783365, 0.0007736943907156673, 0.0009026434558349452, 0.00038684719535783365, 0.0001289490651192779, 0.0002578981302385558, 0.0002578981302385558, 0.00038684719535783365, 0.0005157962604771116, 0.0001289490651192779, 0.00038684719535783365, 0.0002578981302385558, 0.0019342359767891683, 0.0007736943907156673, 0.00038684719535783365, 0.0014184397163120568, 0.0006447453255963894, 0.0005157962604771116, 0.00038684719535783365, 0.0001289490651192779, 0.0001289490651192779, 0.00038684719535783365, 0.00038684719535783365, 0.0002578981302385558, 0.0006447453255963894, 0.00038684719535783365, 0.00038684719535783365, 0.0005157962604771116, 0.0002578981302385558, 0.00038684719535783365, 0.0006447453255963894, 0.0001289490651192779, 0.0001289490651192779, 0.0005157962604771116, 0.0001289490651192779, 0.0006447453255963894, 0.00038684719535783365, 0.0002578981302385558, 0.002192134107027724, 0.00038684719535783365, 0.00038684719535783365, 0.0012894906511927789, 0.0002578981302385558, 0.0001289490651192779, 0.00038684719535783365, 0.0001289490651192779, 0.00038684719535783365, 0.0002578981302385558, 0.00038684719535783365, 0.0005157962604771116, 0.0002578981302385558, 0.0002578981302385558, 0.0002578981302385558, 0.0005157962604771116, 0.0002578981302385558, 0.0001289490651192779, 0.0007736943907156673, 0.00038684719535783365, 0.0002578981302385558, 0.00038684719535783365, 0.0016763378465506126, 0.0002578981302385558, 0.0009026434558349452, 0.0006447453255963894, 0.0001289490651192779, 0.0005157962604771116, 0.0002578981302385558, 0.00038684719535783365, 0.0005157962604771116, 0.0001289490651192779, 0.0001289490651192779, 0.0010315925209542231, 0.0001289490651192779, 0.0005157962604771116, 0.0001289490651192779, 0.0001289490651192779, 0.0002578981302385558, 0.0005157962604771116, 0.0002578981302385558, 0.0006447453255963894, 0.0005157962604771116, 0.0009026434558349452, 0.00038684719535783365, 0.0005157962604771116, 0.00038684719535783365, 0.0007736943907156673, 0.0001289490651192779, 0.0007736943907156673, 0.0002578981302385558, 0.00038684719535783365, 0.005029013539651838, 0.00038684719535783365, 0.0002578981302385558, 0.0009026434558349452, 0.0001289490651192779, 0.0016763378465506126, 0.0018052869116698903, 0.0005157962604771116, 0.0007736943907156673, 0.00038684719535783365, 0.00038684719535783365, 0.00038684719535783365, 0.0002578981302385558, 0.00038684719535783365, 0.0006447453255963894, 0.0007736943907156673, 0.0005157962604771116, 0.0005157962604771116, 0.00038684719535783365, 0.0001289490651192779, 0.0001289490651192779, 0.0002578981302385558, 0.00245003223726628, 0.00038684719535783365, 0.0001289490651192779, 0.0019342359767891683, 0.0007736943907156673, 0.0001289490651192779, 0.0005157962604771116, 0.0005157962604771116, 0.0001289490651192779, 0.0007736943907156673, 0.00038684719535783365, 0.0001289490651192779, 0.0001289490651192779, 0.0006447453255963894, 0.0012894906511927789, 0.0009026434558349452, 0.0001289490651192779, 0.0006447453255963894, 0.0005157962604771116, 0.00038684719535783365, 0.0012894906511927789, 0.0011605415860735009, 0.0019342359767891683, 0.0002578981302385558, 0.00038684719535783365, 0.0002578981302385558, 0.00038684719535783365, 0.0002578981302385558, 0.0002578981302385558, 0.00038684719535783365, 0.0001289490651192779, 0.0012894906511927789, 0.0005157962604771116, 0.0002578981302385558, 0.00038684719535783365, 0.00038684719535783365, 0.0002578981302385558, 0.00038684719535783365, 0.0006447453255963894, 0.0006447453255963894, 0.0006447453255963894, 0.0002578981302385558, 0.0001289490651192779, 0.00038684719535783365, 0.00038684719535783365, 0.0007736943907156673, 0.0002578981302385558, 0.0002578981302385558, 0.0007736943907156673, 0.00038684719535783365, 0.00038684719535783365, 0.0006447453255963894, 0.0009026434558349452, 0.0001289490651192779, 0.0005157962604771116, 0.00038684719535783365, 0.00038684719535783365, 0.00038684719535783365, 0.0001289490651192779, 0.0005157962604771116, 0.0001289490651192779, 0.0009026434558349452, 0.0007736943907156673, 0.00038684719535783365, 0.0002578981302385558, 0.00038684719535783365, 0.00038684719535783365, 0.0020631850419084463, 0.0002578981302385558, 0.0029658284977433914, 0.0016763378465506126, 0.00038684719535783365, 0.0001289490651192779, 0.0001289490651192779, 0.00038684719535783365, 0.0001289490651192779, 0.0005157962604771116, 0.0005157962604771116, 0.0002578981302385558, 0.0001289490651192779, 0.00038684719535783365])\n",
    "\n",
    "def generate(a, true_random = False):\n",
    "    \n",
    "    sh = a.shape\n",
    "    \n",
    "    b = np.reshape(a, (sh[0] * sh[1], sh[2])).copy()\n",
    "    \n",
    "    # Random number of muts per sequence\n",
    "    if true_random:\n",
    "        nums = np.random.choice(LEV_VALUES, size=sh[0])\n",
    "    else:\n",
    "        nums = np.random.choice(LEV_VALUES, size=sh[0], p=LEV_PROBS)\n",
    "    \n",
    "    # Seq location bases\n",
    "    locs = np.arange(sh[0]) * sh[1]\n",
    "    bases = np.repeat(locs, repeats=nums, axis=0)\n",
    "    \n",
    "    # Random exact locations\n",
    "    if true_random:\n",
    "        idxs = bases + np.random.choice(range(sh[1]), size=len(bases))\n",
    "    else:\n",
    "        idxs = bases + np.random.choice(FREQ_VALUES, size=len(bases), p=FREQ_PROBS)\n",
    "\n",
    "    # Random values\n",
    "    vals = np.eye(sh[2])[np.random.choice(sh[2], len(bases))]\n",
    "\n",
    "    # Value setup\n",
    "    b[idxs] = vals\n",
    "    b = np.reshape(b, sh)\n",
    "\n",
    "    return b\n"
   ]
  },
  {
   "cell_type": "code",
   "execution_count": 75,
   "id": "e3928292",
   "metadata": {},
   "outputs": [
    {
     "data": {
      "application/vnd.jupyter.widget-view+json": {
       "model_id": "6825c161886a40d09e2270f67441ef33",
       "version_major": 2,
       "version_minor": 0
      },
      "text/plain": [
       "  0%|          | 0/500 [00:00<?, ?it/s]"
      ]
     },
     "metadata": {},
     "output_type": "display_data"
    },
    {
     "ename": "IndexError",
     "evalue": "index 4634563 is out of bounds for axis 0 with size 4633248",
     "output_type": "error",
     "traceback": [
      "\u001b[0;31m---------------------------------------------------------------------------\u001b[0m",
      "\u001b[0;31mIndexError\u001b[0m                                Traceback (most recent call last)",
      "Input \u001b[0;32mIn [75]\u001b[0m, in \u001b[0;36m<cell line: 5>\u001b[0;34m()\u001b[0m\n\u001b[1;32m      3\u001b[0m rand_dists \u001b[38;5;241m=\u001b[39m [ keras\u001b[38;5;241m.\u001b[39mlosses\u001b[38;5;241m.\u001b[39mCategoricalCrossentropy()(X_data, Y_pred_iter)\u001b[38;5;241m.\u001b[39mnumpy() ]\n\u001b[1;32m      5\u001b[0m \u001b[38;5;28;01mfor\u001b[39;00m _ \u001b[38;5;129;01min\u001b[39;00m tqdm(\u001b[38;5;28mrange\u001b[39m(\u001b[38;5;241m500\u001b[39m)):\n\u001b[0;32m----> 6\u001b[0m     Y_pred_iter_next \u001b[38;5;241m=\u001b[39m \u001b[43mgenerate\u001b[49m\u001b[43m(\u001b[49m\u001b[43mY_pred_iter\u001b[49m\u001b[43m,\u001b[49m\u001b[43m \u001b[49m\u001b[43mtrue_random\u001b[49m\u001b[38;5;241;43m=\u001b[39;49m\u001b[38;5;28;43;01mFalse\u001b[39;49;00m\u001b[43m)\u001b[49m\n\u001b[1;32m      8\u001b[0m     mut06_next \u001b[38;5;241m=\u001b[39m np\u001b[38;5;241m.\u001b[39msum(\n\u001b[1;32m      9\u001b[0m         (np\u001b[38;5;241m.\u001b[39msubtract(\n\u001b[1;32m     10\u001b[0m             np\u001b[38;5;241m.\u001b[39margmax(Y_pred_iter_next, axis \u001b[38;5;241m=\u001b[39m \u001b[38;5;241m2\u001b[39m), \n\u001b[1;32m     11\u001b[0m             np\u001b[38;5;241m.\u001b[39margmax(Y_pred_iter, axis \u001b[38;5;241m=\u001b[39m \u001b[38;5;241m2\u001b[39m)\n\u001b[1;32m     12\u001b[0m         ) \u001b[38;5;241m!=\u001b[39m \u001b[38;5;241m0.0\u001b[39m)\u001b[38;5;241m.\u001b[39mastype(\u001b[38;5;28mint\u001b[39m), axis \u001b[38;5;241m=\u001b[39m \u001b[38;5;241m0\u001b[39m)\n\u001b[1;32m     13\u001b[0m     mut06 \u001b[38;5;241m=\u001b[39m mut06_next \u001b[38;5;28;01mif\u001b[39;00m mut06 \u001b[38;5;129;01mis\u001b[39;00m \u001b[38;5;28;01mNone\u001b[39;00m \u001b[38;5;28;01melse\u001b[39;00m mut06_next \u001b[38;5;241m+\u001b[39m mut06\n",
      "Input \u001b[0;32mIn [74]\u001b[0m, in \u001b[0;36mgenerate\u001b[0;34m(a, true_random)\u001b[0m\n\u001b[1;32m     33\u001b[0m vals \u001b[38;5;241m=\u001b[39m np\u001b[38;5;241m.\u001b[39meye(sh[\u001b[38;5;241m2\u001b[39m])[np\u001b[38;5;241m.\u001b[39mrandom\u001b[38;5;241m.\u001b[39mchoice(sh[\u001b[38;5;241m2\u001b[39m], \u001b[38;5;28mlen\u001b[39m(bases))]\n\u001b[1;32m     35\u001b[0m \u001b[38;5;66;03m# Value setup\u001b[39;00m\n\u001b[0;32m---> 36\u001b[0m b[idxs] \u001b[38;5;241m=\u001b[39m vals\n\u001b[1;32m     37\u001b[0m b \u001b[38;5;241m=\u001b[39m np\u001b[38;5;241m.\u001b[39mreshape(b, sh)\n\u001b[1;32m     39\u001b[0m \u001b[38;5;28;01mreturn\u001b[39;00m b\n",
      "\u001b[0;31mIndexError\u001b[0m: index 4634563 is out of bounds for axis 0 with size 4633248"
     ]
    }
   ],
   "source": [
    "Y_pred_iter = X_data\n",
    "mut06 = None\n",
    "rand_dists = [ keras.losses.CategoricalCrossentropy()(X_data, Y_pred_iter).numpy() ]\n",
    "\n",
    "for _ in tqdm(range(500)):\n",
    "    Y_pred_iter_next = generate(Y_pred_iter, true_random=False)\n",
    "    \n",
    "    mut06_next = np.sum(\n",
    "        (np.subtract(\n",
    "            np.argmax(Y_pred_iter_next, axis = 2), \n",
    "            np.argmax(Y_pred_iter, axis = 2)\n",
    "        ) != 0.0).astype(int), axis = 0)\n",
    "    mut06 = mut06_next if mut06 is None else mut06_next + mut06\n",
    "    Y_pred_iter = Y_pred_iter_next\n",
    "    \n",
    "    rand_dists.append(keras.losses.CategoricalCrossentropy()(X_data, Y_pred_iter).numpy())\n"
   ]
  },
  {
   "cell_type": "code",
   "execution_count": null,
   "id": "58020c46",
   "metadata": {},
   "outputs": [],
   "source": [
    "Y_pred_iter = X_data\n",
    "mut07 = None\n",
    "true_rand_dists = [ keras.losses.CategoricalCrossentropy()(X_data, Y_pred_iter).numpy() ]\n",
    "\n",
    "for _ in tqdm(range(500)):\n",
    "    Y_pred_iter_next = generate(Y_pred_iter, true_random=True)\n",
    "    \n",
    "    mut07_next = np.sum(\n",
    "        (np.subtract(\n",
    "            np.argmax(Y_pred_iter_next, axis = 2), \n",
    "            np.argmax(Y_pred_iter, axis = 2)\n",
    "        ) != 0.0).astype(int), axis = 0)\n",
    "    mut07 = mut07_next if mut07 is None else mut07_next + mut07\n",
    "    Y_pred_iter = Y_pred_iter_next\n",
    "    \n",
    "    true_rand_dists.append(keras.losses.CategoricalCrossentropy()(X_data, Y_pred_iter).numpy())\n"
   ]
  },
  {
   "cell_type": "code",
   "execution_count": null,
   "id": "412e15aa",
   "metadata": {},
   "outputs": [],
   "source": [
    "plt.plot(range(len(dists)), dists, label=\"generatorius\")\n",
    "plt.plot(range(len(rand_dists)), rand_dists, label=\"pusiau atsitiktinis generatorius\")\n",
    "plt.plot(range(len(true_rand_dists)), true_rand_dists, label=\"pilnai atsitiktinis generatorius\")\n",
    "plt.xlabel('generacijos')\n",
    "plt.ylabel('kryžminė entropija (atstumas nuo protėvių)')\n",
    "plt.legend()\n",
    "plt.plot()\n"
   ]
  },
  {
   "cell_type": "code",
   "execution_count": null,
   "id": "1118ce4f",
   "metadata": {},
   "outputs": [],
   "source": [
    "from scipy.signal import savgol_filter\n",
    "def moving_average(x, w):\n",
    "    return np.convolve(x, np.ones(w), 'valid') / w\n"
   ]
  },
  {
   "cell_type": "code",
   "execution_count": null,
   "id": "288ea5f0",
   "metadata": {},
   "outputs": [],
   "source": [
    "x_range = list(range(len(mut05)))\n",
    "\n",
    "plt.bar(x_range, mut05 / sum(mut05), label = 'generatorius')\n",
    "plt.plot(x_range, savgol_filter(mut05 / sum(mut05), 50, 2))\n",
    "plt.xlim(0, len(mut05))\n",
    "plt.ylim(0, 0.005)\n",
    "plt.xlabel('aminorūgšties pozicija')\n",
    "plt.ylabel('mutacijų dažnis')\n",
    "plt.show()\n"
   ]
  },
  {
   "cell_type": "code",
   "execution_count": null,
   "id": "fe1ae7ba",
   "metadata": {},
   "outputs": [],
   "source": [
    "plt.bar(x_range, mut06 / sum(mut06), label = 'pusiau atsitiktinis generatorius', color='C1')\n",
    "plt.plot(x_range, savgol_filter(mut06 / sum(mut06), 50, 2), color='C1')\n",
    "plt.xlim(0, len(mut06))\n",
    "plt.ylim(0, 0.005)\n",
    "plt.xlabel('aminorūgšties pozicija')\n",
    "plt.ylabel('mutacijų dažnis')\n",
    "plt.show()\n"
   ]
  },
  {
   "cell_type": "code",
   "execution_count": null,
   "id": "314cd389",
   "metadata": {},
   "outputs": [],
   "source": [
    "plt.bar(x_range, mut07 / sum(mut07), label = 'pilnai atsitiktinis generatorius', color='C2')\n",
    "plt.plot(x_range, savgol_filter(mut07 / sum(mut07), 50, 2), color='C2')\n",
    "plt.xlim(0, len(mut07))\n",
    "plt.ylim(0, 0.005)\n",
    "plt.xlabel('aminorūgšties pozicija')\n",
    "plt.ylabel('mutacijų dažnis')\n",
    "plt.show()\n"
   ]
  },
  {
   "cell_type": "code",
   "execution_count": null,
   "id": "d25fbac6",
   "metadata": {},
   "outputs": [],
   "source": [
    "plt.bar(x_range, mut01 / sum(mut01), label = 'stebimos mutacijos', color='C3')\n",
    "plt.plot(x_range, savgol_filter(mut01 / sum(mut01), 50, 2), color='C3')\n",
    "plt.xlim(0, len(mut01))\n",
    "plt.ylim(0, 0.005)\n",
    "plt.xlabel('aminorūgšties pozicija')\n",
    "plt.ylabel('mutacijų dažnis')\n",
    "plt.show()\n"
   ]
  },
  {
   "cell_type": "code",
   "execution_count": null,
   "id": "f0441886",
   "metadata": {},
   "outputs": [],
   "source": [
    "plt.plot(x_range, savgol_filter(mut05 / sum(mut05), 50, 2), label=\"generatorius\")\n",
    "plt.plot(x_range, savgol_filter(mut06 / sum(mut06), 50, 2), color='C1', label=\"pusiau atsitiktinis generatorius\")\n",
    "plt.plot(x_range, savgol_filter(mut07 / sum(mut07), 50, 2), label = 'pilnai atsitiktinis generatorius', color='C2')\n",
    "plt.plot(x_range, savgol_filter(mut01 / sum(mut01), 50, 2), label = 'stebimos mutacijos', color='C3')\n",
    "\n",
    "plt.xlim(0, len(mut05))\n",
    "plt.ylim(0, 0.0015)\n",
    "plt.xlabel('aminorūgšties pozicija')\n",
    "plt.ylabel('mutacijų dažnis')\n",
    "plt.legend()\n",
    "plt.show()\n"
   ]
  },
  {
   "cell_type": "code",
   "execution_count": null,
   "id": "8cc152a1",
   "metadata": {},
   "outputs": [],
   "source": [
    "decode_seq(X_data[6:8,:,:])"
   ]
  },
  {
   "cell_type": "code",
   "execution_count": null,
   "id": "afeb55f4",
   "metadata": {},
   "outputs": [],
   "source": []
  }
 ],
 "metadata": {
  "kernelspec": {
   "display_name": "hiv",
   "language": "python",
   "name": "hiv"
  },
  "language_info": {
   "codemirror_mode": {
    "name": "ipython",
    "version": 3
   },
   "file_extension": ".py",
   "mimetype": "text/x-python",
   "name": "python",
   "nbconvert_exporter": "python",
   "pygments_lexer": "ipython3",
   "version": "3.8.5"
  },
  "varInspector": {
   "cols": {
    "lenName": 16,
    "lenType": 16,
    "lenVar": 40
   },
   "kernels_config": {
    "python": {
     "delete_cmd_postfix": "",
     "delete_cmd_prefix": "del ",
     "library": "var_list.py",
     "varRefreshCmd": "print(var_dic_list())"
    },
    "r": {
     "delete_cmd_postfix": ") ",
     "delete_cmd_prefix": "rm(",
     "library": "var_list.r",
     "varRefreshCmd": "cat(var_dic_list()) "
    }
   },
   "types_to_exclude": [
    "module",
    "function",
    "builtin_function_or_method",
    "instance",
    "_Feature"
   ],
   "window_display": false
  }
 },
 "nbformat": 4,
 "nbformat_minor": 5
}
