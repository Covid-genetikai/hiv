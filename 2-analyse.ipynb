{
 "cells": [
  {
   "cell_type": "code",
   "execution_count": 1,
   "id": "e0b5c287",
   "metadata": {
    "ExecuteTime": {
     "end_time": "2022-07-15T09:36:40.613206Z",
     "start_time": "2022-07-15T09:36:40.608164Z"
    }
   },
   "outputs": [],
   "source": [
    "# !pip install pandas_profiling"
   ]
  },
  {
   "cell_type": "code",
   "execution_count": 2,
   "id": "pointed-actress",
   "metadata": {
    "ExecuteTime": {
     "end_time": "2022-07-15T09:36:42.055844Z",
     "start_time": "2022-07-15T09:36:40.615246Z"
    }
   },
   "outputs": [],
   "source": [
    "import pandas as pd\n",
    "from pandas_profiling import ProfileReport\n",
    "from pathlib import Path"
   ]
  },
  {
   "cell_type": "code",
   "execution_count": 16,
   "id": "0827dafc",
   "metadata": {
    "ExecuteTime": {
     "end_time": "2022-07-15T10:06:30.320312Z",
     "start_time": "2022-07-15T10:06:30.317399Z"
    }
   },
   "outputs": [],
   "source": [
    "# CHANGE ME\n",
    "gene_name = \"integrase\" # integrase | transcriptase"
   ]
  },
  {
   "cell_type": "code",
   "execution_count": 17,
   "id": "supported-prairie",
   "metadata": {
    "ExecuteTime": {
     "end_time": "2022-07-15T10:06:30.485786Z",
     "start_time": "2022-07-15T10:06:30.482355Z"
    }
   },
   "outputs": [],
   "source": [
    "data_path = Path(\"/data/hiv/data/\").joinpath(gene_name)"
   ]
  },
  {
   "cell_type": "code",
   "execution_count": 18,
   "id": "strange-watch",
   "metadata": {
    "ExecuteTime": {
     "end_time": "2022-07-15T10:06:30.730555Z",
     "start_time": "2022-07-15T10:06:30.667145Z"
    }
   },
   "outputs": [],
   "source": [
    "df_raw = pd.read_csv(data_path.joinpath(f\"1-{gene_name}.csv\"))"
   ]
  },
  {
   "cell_type": "markdown",
   "id": "8a797aaa",
   "metadata": {},
   "source": [
    "### Atrinktos, bet neapdorotos sekos\n",
    "sekos kuriu aprasyme minima \"integrase/transcriptase\""
   ]
  },
  {
   "cell_type": "code",
   "execution_count": 19,
   "id": "australian-history",
   "metadata": {
    "ExecuteTime": {
     "end_time": "2022-07-15T10:06:30.980152Z",
     "start_time": "2022-07-15T10:06:30.972704Z"
    }
   },
   "outputs": [
    {
     "data": {
      "text/html": [
       "<div>\n",
       "<style scoped>\n",
       "    .dataframe tbody tr th:only-of-type {\n",
       "        vertical-align: middle;\n",
       "    }\n",
       "\n",
       "    .dataframe tbody tr th {\n",
       "        vertical-align: top;\n",
       "    }\n",
       "\n",
       "    .dataframe thead th {\n",
       "        text-align: right;\n",
       "    }\n",
       "</style>\n",
       "<table border=\"1\" class=\"dataframe\">\n",
       "  <thead>\n",
       "    <tr style=\"text-align: right;\">\n",
       "      <th></th>\n",
       "      <th>accession</th>\n",
       "      <th>integrase</th>\n",
       "      <th>integrase_length</th>\n",
       "    </tr>\n",
       "  </thead>\n",
       "  <tbody>\n",
       "    <tr>\n",
       "      <th>0</th>\n",
       "      <td>AB716142</td>\n",
       "      <td>FLDGIXKAQEEHERYHSNWRAMASDFNLPPIVAKEIVANCDKCQLK...</td>\n",
       "      <td>288</td>\n",
       "    </tr>\n",
       "    <tr>\n",
       "      <th>1</th>\n",
       "      <td>AB716143</td>\n",
       "      <td>FLDGIDKAQEEHERYHSNWRAMASDFNLPPVVAKQIVANCDKCQLK...</td>\n",
       "      <td>288</td>\n",
       "    </tr>\n",
       "    <tr>\n",
       "      <th>2</th>\n",
       "      <td>AB716144</td>\n",
       "      <td>FLDGIDKAQEDHEKYHSNWRAMASDFNLPPIVAKEIVANCDKCQLK...</td>\n",
       "      <td>288</td>\n",
       "    </tr>\n",
       "    <tr>\n",
       "      <th>3</th>\n",
       "      <td>AB716145</td>\n",
       "      <td>FLDGIDKAQEEHERYHSNWRAMASDFNLPPVIAKEIVASCNKCQJK...</td>\n",
       "      <td>288</td>\n",
       "    </tr>\n",
       "    <tr>\n",
       "      <th>4</th>\n",
       "      <td>AB716146</td>\n",
       "      <td>FLDGIDKAQEEHEKYHNNWRAMASDFNLPPVVAKQIVANCDKCQLK...</td>\n",
       "      <td>288</td>\n",
       "    </tr>\n",
       "    <tr>\n",
       "      <th>...</th>\n",
       "      <td>...</td>\n",
       "      <td>...</td>\n",
       "      <td>...</td>\n",
       "    </tr>\n",
       "    <tr>\n",
       "      <th>19370</th>\n",
       "      <td>EU517892</td>\n",
       "      <td>FLDGIDKAQEEHEKYHSNWRAMASDFNLPPVVAKEIVASCDKCQLK...</td>\n",
       "      <td>288</td>\n",
       "    </tr>\n",
       "    <tr>\n",
       "      <th>19371</th>\n",
       "      <td>EU517894</td>\n",
       "      <td>FLDGIDKAQEEHEKYHSNWRAMASDFNLPPVVAKEIVASCDKCQLK...</td>\n",
       "      <td>288</td>\n",
       "    </tr>\n",
       "    <tr>\n",
       "      <th>19372</th>\n",
       "      <td>EU517895</td>\n",
       "      <td>FLDGIDKAQEEHEKYHSNWRAMASDFNLPPVVAKEIVASCDKCQLK...</td>\n",
       "      <td>288</td>\n",
       "    </tr>\n",
       "    <tr>\n",
       "      <th>19373</th>\n",
       "      <td>EU517896</td>\n",
       "      <td>FLDGIDKAQEEHEKYHSNWRAMASDFNLPPVVAKEIVASCDKCQLK...</td>\n",
       "      <td>288</td>\n",
       "    </tr>\n",
       "    <tr>\n",
       "      <th>19374</th>\n",
       "      <td>EU517897</td>\n",
       "      <td>FLDGIDKAQEEHERYHSNWRAMASDFNLPPVIAKEIVACCDKCQLK...</td>\n",
       "      <td>288</td>\n",
       "    </tr>\n",
       "  </tbody>\n",
       "</table>\n",
       "<p>19375 rows × 3 columns</p>\n",
       "</div>"
      ],
      "text/plain": [
       "      accession                                          integrase  \\\n",
       "0      AB716142  FLDGIXKAQEEHERYHSNWRAMASDFNLPPIVAKEIVANCDKCQLK...   \n",
       "1      AB716143  FLDGIDKAQEEHERYHSNWRAMASDFNLPPVVAKQIVANCDKCQLK...   \n",
       "2      AB716144  FLDGIDKAQEDHEKYHSNWRAMASDFNLPPIVAKEIVANCDKCQLK...   \n",
       "3      AB716145  FLDGIDKAQEEHERYHSNWRAMASDFNLPPVIAKEIVASCNKCQJK...   \n",
       "4      AB716146  FLDGIDKAQEEHEKYHNNWRAMASDFNLPPVVAKQIVANCDKCQLK...   \n",
       "...         ...                                                ...   \n",
       "19370  EU517892  FLDGIDKAQEEHEKYHSNWRAMASDFNLPPVVAKEIVASCDKCQLK...   \n",
       "19371  EU517894  FLDGIDKAQEEHEKYHSNWRAMASDFNLPPVVAKEIVASCDKCQLK...   \n",
       "19372  EU517895  FLDGIDKAQEEHEKYHSNWRAMASDFNLPPVVAKEIVASCDKCQLK...   \n",
       "19373  EU517896  FLDGIDKAQEEHEKYHSNWRAMASDFNLPPVVAKEIVASCDKCQLK...   \n",
       "19374  EU517897  FLDGIDKAQEEHERYHSNWRAMASDFNLPPVIAKEIVACCDKCQLK...   \n",
       "\n",
       "       integrase_length  \n",
       "0                   288  \n",
       "1                   288  \n",
       "2                   288  \n",
       "3                   288  \n",
       "4                   288  \n",
       "...                 ...  \n",
       "19370               288  \n",
       "19371               288  \n",
       "19372               288  \n",
       "19373               288  \n",
       "19374               288  \n",
       "\n",
       "[19375 rows x 3 columns]"
      ]
     },
     "execution_count": 19,
     "metadata": {},
     "output_type": "execute_result"
    }
   ],
   "source": [
    "df_raw"
   ]
  },
  {
   "cell_type": "code",
   "execution_count": 20,
   "id": "indoor-spokesman",
   "metadata": {
    "ExecuteTime": {
     "end_time": "2022-07-15T10:06:33.963573Z",
     "start_time": "2022-07-15T10:06:31.151666Z"
    }
   },
   "outputs": [
    {
     "data": {
      "application/vnd.jupyter.widget-view+json": {
       "model_id": "a886551a2c144cc989aef31116bfd268",
       "version_major": 2,
       "version_minor": 0
      },
      "text/plain": [
       "Summarize dataset:   0%|          | 0/5 [00:00<?, ?it/s]"
      ]
     },
     "metadata": {},
     "output_type": "display_data"
    },
    {
     "data": {
      "application/vnd.jupyter.widget-view+json": {
       "model_id": "9ffbeee217b742aba41faa97246d3b0e",
       "version_major": 2,
       "version_minor": 0
      },
      "text/plain": [
       "Generate report structure:   0%|          | 0/1 [00:00<?, ?it/s]"
      ]
     },
     "metadata": {},
     "output_type": "display_data"
    },
    {
     "data": {
      "application/vnd.jupyter.widget-view+json": {
       "model_id": "047d3c5d51804a94a35ef0bf8f89d019",
       "version_major": 2,
       "version_minor": 0
      },
      "text/plain": [
       "Render HTML:   0%|          | 0/1 [00:00<?, ?it/s]"
      ]
     },
     "metadata": {},
     "output_type": "display_data"
    },
    {
     "data": {
      "application/vnd.jupyter.widget-view+json": {
       "model_id": "e5659a02ba37478fa565b94bffbc7dca",
       "version_major": 2,
       "version_minor": 0
      },
      "text/plain": [
       "Export report to file:   0%|          | 0/1 [00:00<?, ?it/s]"
      ]
     },
     "metadata": {},
     "output_type": "display_data"
    }
   ],
   "source": [
    "profile = ProfileReport(df_raw, title=f\"HIV {gene_name} data report\")\n",
    "profile.to_file(data_path.joinpath(f\"1-{gene_name}-report.html\"))"
   ]
  },
  {
   "cell_type": "code",
   "execution_count": null,
   "id": "a717bffd",
   "metadata": {},
   "outputs": [],
   "source": []
  },
  {
   "cell_type": "markdown",
   "id": "e84b5a86",
   "metadata": {
    "ExecuteTime": {
     "end_time": "2022-07-15T09:39:36.236030Z",
     "start_time": "2022-07-15T09:39:36.232108Z"
    }
   },
   "source": [
    "### Apvalyti duomenys\n",
    "Sublastinta, iskirpta, J raides pakeistos i I ir L, atsidaro duplikatu seku"
   ]
  },
  {
   "cell_type": "code",
   "execution_count": 21,
   "id": "14c52bba",
   "metadata": {
    "ExecuteTime": {
     "end_time": "2022-07-15T10:06:34.298796Z",
     "start_time": "2022-07-15T10:06:34.040972Z"
    }
   },
   "outputs": [
    {
     "data": {
      "text/html": [
       "<div>\n",
       "<style scoped>\n",
       "    .dataframe tbody tr th:only-of-type {\n",
       "        vertical-align: middle;\n",
       "    }\n",
       "\n",
       "    .dataframe tbody tr th {\n",
       "        vertical-align: top;\n",
       "    }\n",
       "\n",
       "    .dataframe thead th {\n",
       "        text-align: right;\n",
       "    }\n",
       "</style>\n",
       "<table border=\"1\" class=\"dataframe\">\n",
       "  <thead>\n",
       "    <tr style=\"text-align: right;\">\n",
       "      <th></th>\n",
       "      <th>accession</th>\n",
       "      <th>integrase</th>\n",
       "      <th>integrase_length</th>\n",
       "      <th>query acc.ver</th>\n",
       "      <th>% identity</th>\n",
       "      <th>alignment length</th>\n",
       "      <th>mismatches</th>\n",
       "      <th>gap opens</th>\n",
       "      <th>q. start</th>\n",
       "      <th>q. end</th>\n",
       "      <th>s. start</th>\n",
       "      <th>s. end</th>\n",
       "      <th>evalue</th>\n",
       "      <th>bit score</th>\n",
       "      <th>integrase_cut</th>\n",
       "      <th>index</th>\n",
       "    </tr>\n",
       "  </thead>\n",
       "  <tbody>\n",
       "    <tr>\n",
       "      <th>0</th>\n",
       "      <td>AB716142</td>\n",
       "      <td>FLDGIXKAQEEHERYHSNWRAMASDFNLPPIVAKEIVANCDKCQLK...</td>\n",
       "      <td>288</td>\n",
       "      <td>Query_1</td>\n",
       "      <td>91.319</td>\n",
       "      <td>288</td>\n",
       "      <td>25</td>\n",
       "      <td>0</td>\n",
       "      <td>1</td>\n",
       "      <td>288</td>\n",
       "      <td>1</td>\n",
       "      <td>288</td>\n",
       "      <td>0.0</td>\n",
       "      <td>540.0</td>\n",
       "      <td>FLDGIXKAQEEHERYHSNWRAMASDFNLPPIVAKEIVANCDKCQLK...</td>\n",
       "      <td>NaN</td>\n",
       "    </tr>\n",
       "    <tr>\n",
       "      <th>1</th>\n",
       "      <td>AB716143</td>\n",
       "      <td>FLDGIDKAQEEHERYHSNWRAMASDFNLPPVVAKQIVANCDKCQLK...</td>\n",
       "      <td>288</td>\n",
       "      <td>Query_1</td>\n",
       "      <td>91.319</td>\n",
       "      <td>288</td>\n",
       "      <td>25</td>\n",
       "      <td>0</td>\n",
       "      <td>1</td>\n",
       "      <td>288</td>\n",
       "      <td>1</td>\n",
       "      <td>288</td>\n",
       "      <td>0.0</td>\n",
       "      <td>559.0</td>\n",
       "      <td>FLDGIDKAQEEHERYHSNWRAMASDFNLPPVVAKQIVANCDKCQLK...</td>\n",
       "      <td>NaN</td>\n",
       "    </tr>\n",
       "    <tr>\n",
       "      <th>2</th>\n",
       "      <td>AB716144</td>\n",
       "      <td>FLDGIDKAQEDHEKYHSNWRAMASDFNLPPIVAKEIVANCDKCQLK...</td>\n",
       "      <td>288</td>\n",
       "      <td>Query_1</td>\n",
       "      <td>92.361</td>\n",
       "      <td>288</td>\n",
       "      <td>22</td>\n",
       "      <td>0</td>\n",
       "      <td>1</td>\n",
       "      <td>288</td>\n",
       "      <td>1</td>\n",
       "      <td>288</td>\n",
       "      <td>0.0</td>\n",
       "      <td>562.0</td>\n",
       "      <td>FLDGIDKAQEDHEKYHSNWRAMASDFNLPPIVAKEIVANCDKCQLK...</td>\n",
       "      <td>NaN</td>\n",
       "    </tr>\n",
       "    <tr>\n",
       "      <th>3</th>\n",
       "      <td>AB716146</td>\n",
       "      <td>FLDGIDKAQEEHEKYHNNWRAMASDFNLPPVVAKQIVANCDKCQLK...</td>\n",
       "      <td>288</td>\n",
       "      <td>Query_1</td>\n",
       "      <td>94.444</td>\n",
       "      <td>288</td>\n",
       "      <td>16</td>\n",
       "      <td>0</td>\n",
       "      <td>1</td>\n",
       "      <td>288</td>\n",
       "      <td>1</td>\n",
       "      <td>288</td>\n",
       "      <td>0.0</td>\n",
       "      <td>569.0</td>\n",
       "      <td>FLDGIDKAQEEHEKYHNNWRAMASDFNLPPVVAKQIVANCDKCQLK...</td>\n",
       "      <td>NaN</td>\n",
       "    </tr>\n",
       "    <tr>\n",
       "      <th>4</th>\n",
       "      <td>AB716147</td>\n",
       "      <td>FLDGIEKAQEEHERYHNNWRAMASDFXLPPVVAKQIVANCDKCQLK...</td>\n",
       "      <td>288</td>\n",
       "      <td>Query_1</td>\n",
       "      <td>93.750</td>\n",
       "      <td>288</td>\n",
       "      <td>18</td>\n",
       "      <td>0</td>\n",
       "      <td>1</td>\n",
       "      <td>288</td>\n",
       "      <td>1</td>\n",
       "      <td>288</td>\n",
       "      <td>0.0</td>\n",
       "      <td>570.0</td>\n",
       "      <td>FLDGIEKAQEEHERYHNNWRAMASDFXLPPVVAKQIVANCDKCQLK...</td>\n",
       "      <td>NaN</td>\n",
       "    </tr>\n",
       "    <tr>\n",
       "      <th>...</th>\n",
       "      <td>...</td>\n",
       "      <td>...</td>\n",
       "      <td>...</td>\n",
       "      <td>...</td>\n",
       "      <td>...</td>\n",
       "      <td>...</td>\n",
       "      <td>...</td>\n",
       "      <td>...</td>\n",
       "      <td>...</td>\n",
       "      <td>...</td>\n",
       "      <td>...</td>\n",
       "      <td>...</td>\n",
       "      <td>...</td>\n",
       "      <td>...</td>\n",
       "      <td>...</td>\n",
       "      <td>...</td>\n",
       "    </tr>\n",
       "    <tr>\n",
       "      <th>16028</th>\n",
       "      <td>EF472742__L</td>\n",
       "      <td>FLDGIDKAQEDHEKYHSNWRAMANDYNLPPVVAKEIVASCDKCQLK...</td>\n",
       "      <td>288</td>\n",
       "      <td>Query_1</td>\n",
       "      <td>94.097</td>\n",
       "      <td>288</td>\n",
       "      <td>17</td>\n",
       "      <td>0</td>\n",
       "      <td>1</td>\n",
       "      <td>288</td>\n",
       "      <td>1</td>\n",
       "      <td>288</td>\n",
       "      <td>0.0</td>\n",
       "      <td>569.0</td>\n",
       "      <td>FLDGIDKAQEDHEKYHSNWRAMANDYNLPPVVAKEIVASCDKCQLK...</td>\n",
       "      <td>14935.0</td>\n",
       "    </tr>\n",
       "    <tr>\n",
       "      <th>16029</th>\n",
       "      <td>EF472744__L</td>\n",
       "      <td>XEKAQEDHEKYHCNWRAMASDFNLPPVVAKEIVASCDKCQLKGEAM...</td>\n",
       "      <td>284</td>\n",
       "      <td>Query_1</td>\n",
       "      <td>93.640</td>\n",
       "      <td>283</td>\n",
       "      <td>18</td>\n",
       "      <td>0</td>\n",
       "      <td>6</td>\n",
       "      <td>288</td>\n",
       "      <td>2</td>\n",
       "      <td>284</td>\n",
       "      <td>0.0</td>\n",
       "      <td>556.0</td>\n",
       "      <td>EKAQEDHEKYHCNWRAMASDFNLPPVVAKEIVASCDKCQLKGEAMH...</td>\n",
       "      <td>14937.0</td>\n",
       "    </tr>\n",
       "    <tr>\n",
       "      <th>16030</th>\n",
       "      <td>EF472757__L</td>\n",
       "      <td>FLDGIDKAQEEHEKYHXNWRAMASDFNLPPVVAKEIVASCDKCQLK...</td>\n",
       "      <td>285</td>\n",
       "      <td>Query_1</td>\n",
       "      <td>96.491</td>\n",
       "      <td>285</td>\n",
       "      <td>10</td>\n",
       "      <td>0</td>\n",
       "      <td>1</td>\n",
       "      <td>285</td>\n",
       "      <td>1</td>\n",
       "      <td>285</td>\n",
       "      <td>0.0</td>\n",
       "      <td>577.0</td>\n",
       "      <td>FLDGIDKAQEEHEKYHXNWRAMASDFNLPPVVAKEIVASCDKCQLK...</td>\n",
       "      <td>14950.0</td>\n",
       "    </tr>\n",
       "    <tr>\n",
       "      <th>16031</th>\n",
       "      <td>EF472768__L</td>\n",
       "      <td>IDKAQEDXEKYHSNWRAMASDFNLPPVVAREIVASCDKCQLKGEAM...</td>\n",
       "      <td>284</td>\n",
       "      <td>Query_1</td>\n",
       "      <td>93.310</td>\n",
       "      <td>284</td>\n",
       "      <td>19</td>\n",
       "      <td>0</td>\n",
       "      <td>5</td>\n",
       "      <td>288</td>\n",
       "      <td>1</td>\n",
       "      <td>284</td>\n",
       "      <td>0.0</td>\n",
       "      <td>557.0</td>\n",
       "      <td>IDKAQEDXEKYHSNWRAMASDFNLPPVVAREIVASCDKCQLKGEAM...</td>\n",
       "      <td>14961.0</td>\n",
       "    </tr>\n",
       "    <tr>\n",
       "      <th>16032</th>\n",
       "      <td>EF472769__L</td>\n",
       "      <td>IDKAQEEHEKYHSNWRAMASDFNLPPXXXXXIVASCDKCQLKGEAM...</td>\n",
       "      <td>281</td>\n",
       "      <td>Query_1</td>\n",
       "      <td>95.018</td>\n",
       "      <td>281</td>\n",
       "      <td>14</td>\n",
       "      <td>0</td>\n",
       "      <td>5</td>\n",
       "      <td>285</td>\n",
       "      <td>1</td>\n",
       "      <td>281</td>\n",
       "      <td>0.0</td>\n",
       "      <td>559.0</td>\n",
       "      <td>IDKAQEEHEKYHSNWRAMASDFNLPPXXXXXIVASCDKCQLKGEAM...</td>\n",
       "      <td>14962.0</td>\n",
       "    </tr>\n",
       "  </tbody>\n",
       "</table>\n",
       "<p>16033 rows × 16 columns</p>\n",
       "</div>"
      ],
      "text/plain": [
       "         accession                                          integrase  \\\n",
       "0         AB716142  FLDGIXKAQEEHERYHSNWRAMASDFNLPPIVAKEIVANCDKCQLK...   \n",
       "1         AB716143  FLDGIDKAQEEHERYHSNWRAMASDFNLPPVVAKQIVANCDKCQLK...   \n",
       "2         AB716144  FLDGIDKAQEDHEKYHSNWRAMASDFNLPPIVAKEIVANCDKCQLK...   \n",
       "3         AB716146  FLDGIDKAQEEHEKYHNNWRAMASDFNLPPVVAKQIVANCDKCQLK...   \n",
       "4         AB716147  FLDGIEKAQEEHERYHNNWRAMASDFXLPPVVAKQIVANCDKCQLK...   \n",
       "...            ...                                                ...   \n",
       "16028  EF472742__L  FLDGIDKAQEDHEKYHSNWRAMANDYNLPPVVAKEIVASCDKCQLK...   \n",
       "16029  EF472744__L  XEKAQEDHEKYHCNWRAMASDFNLPPVVAKEIVASCDKCQLKGEAM...   \n",
       "16030  EF472757__L  FLDGIDKAQEEHEKYHXNWRAMASDFNLPPVVAKEIVASCDKCQLK...   \n",
       "16031  EF472768__L  IDKAQEDXEKYHSNWRAMASDFNLPPVVAREIVASCDKCQLKGEAM...   \n",
       "16032  EF472769__L  IDKAQEEHEKYHSNWRAMASDFNLPPXXXXXIVASCDKCQLKGEAM...   \n",
       "\n",
       "       integrase_length query acc.ver  % identity  alignment length  \\\n",
       "0                   288       Query_1      91.319               288   \n",
       "1                   288       Query_1      91.319               288   \n",
       "2                   288       Query_1      92.361               288   \n",
       "3                   288       Query_1      94.444               288   \n",
       "4                   288       Query_1      93.750               288   \n",
       "...                 ...           ...         ...               ...   \n",
       "16028               288       Query_1      94.097               288   \n",
       "16029               284       Query_1      93.640               283   \n",
       "16030               285       Query_1      96.491               285   \n",
       "16031               284       Query_1      93.310               284   \n",
       "16032               281       Query_1      95.018               281   \n",
       "\n",
       "       mismatches  gap opens  q. start  q. end  s. start  s. end  evalue  \\\n",
       "0              25          0         1     288         1     288     0.0   \n",
       "1              25          0         1     288         1     288     0.0   \n",
       "2              22          0         1     288         1     288     0.0   \n",
       "3              16          0         1     288         1     288     0.0   \n",
       "4              18          0         1     288         1     288     0.0   \n",
       "...           ...        ...       ...     ...       ...     ...     ...   \n",
       "16028          17          0         1     288         1     288     0.0   \n",
       "16029          18          0         6     288         2     284     0.0   \n",
       "16030          10          0         1     285         1     285     0.0   \n",
       "16031          19          0         5     288         1     284     0.0   \n",
       "16032          14          0         5     285         1     281     0.0   \n",
       "\n",
       "       bit score                                      integrase_cut    index  \n",
       "0          540.0  FLDGIXKAQEEHERYHSNWRAMASDFNLPPIVAKEIVANCDKCQLK...      NaN  \n",
       "1          559.0  FLDGIDKAQEEHERYHSNWRAMASDFNLPPVVAKQIVANCDKCQLK...      NaN  \n",
       "2          562.0  FLDGIDKAQEDHEKYHSNWRAMASDFNLPPIVAKEIVANCDKCQLK...      NaN  \n",
       "3          569.0  FLDGIDKAQEEHEKYHNNWRAMASDFNLPPVVAKQIVANCDKCQLK...      NaN  \n",
       "4          570.0  FLDGIEKAQEEHERYHNNWRAMASDFXLPPVVAKQIVANCDKCQLK...      NaN  \n",
       "...          ...                                                ...      ...  \n",
       "16028      569.0  FLDGIDKAQEDHEKYHSNWRAMANDYNLPPVVAKEIVASCDKCQLK...  14935.0  \n",
       "16029      556.0  EKAQEDHEKYHCNWRAMASDFNLPPVVAKEIVASCDKCQLKGEAMH...  14937.0  \n",
       "16030      577.0  FLDGIDKAQEEHEKYHXNWRAMASDFNLPPVVAKEIVASCDKCQLK...  14950.0  \n",
       "16031      557.0  IDKAQEDXEKYHSNWRAMASDFNLPPVVAREIVASCDKCQLKGEAM...  14961.0  \n",
       "16032      559.0  IDKAQEEHEKYHSNWRAMASDFNLPPXXXXXIVASCDKCQLKGEAM...  14962.0  \n",
       "\n",
       "[16033 rows x 16 columns]"
      ]
     },
     "execution_count": 21,
     "metadata": {},
     "output_type": "execute_result"
    }
   ],
   "source": [
    "df = pd.read_csv(data_path.joinpath(f\"2-{gene_name}.csv\"))\n",
    "df"
   ]
  },
  {
   "cell_type": "code",
   "execution_count": 22,
   "id": "fa55fbc4",
   "metadata": {
    "ExecuteTime": {
     "end_time": "2022-07-15T10:06:37.343507Z",
     "start_time": "2022-07-15T10:06:34.425008Z"
    }
   },
   "outputs": [
    {
     "name": "stderr",
     "output_type": "stream",
     "text": [
      "/home/mantydze/.local/lib/python3.10/site-packages/multimethod/__init__.py:312: SettingWithCopyWarning: \n",
      "A value is trying to be set on a copy of a slice from a DataFrame\n",
      "\n",
      "See the caveats in the documentation: https://pandas.pydata.org/pandas-docs/stable/user_guide/indexing.html#returning-a-view-versus-a-copy\n",
      "  return func(*args, **kwargs)\n"
     ]
    },
    {
     "data": {
      "application/vnd.jupyter.widget-view+json": {
       "model_id": "ce1c54ff86ee4d1a81befce2c1d5039a",
       "version_major": 2,
       "version_minor": 0
      },
      "text/plain": [
       "Summarize dataset:   0%|          | 0/5 [00:00<?, ?it/s]"
      ]
     },
     "metadata": {},
     "output_type": "display_data"
    },
    {
     "data": {
      "application/vnd.jupyter.widget-view+json": {
       "model_id": "cd7e31c3dd574034b07723b90176487e",
       "version_major": 2,
       "version_minor": 0
      },
      "text/plain": [
       "Generate report structure:   0%|          | 0/1 [00:00<?, ?it/s]"
      ]
     },
     "metadata": {},
     "output_type": "display_data"
    },
    {
     "data": {
      "application/vnd.jupyter.widget-view+json": {
       "model_id": "7bd0e149ed1d4303aa739a43c1eda2bf",
       "version_major": 2,
       "version_minor": 0
      },
      "text/plain": [
       "Render HTML:   0%|          | 0/1 [00:00<?, ?it/s]"
      ]
     },
     "metadata": {},
     "output_type": "display_data"
    },
    {
     "data": {
      "application/vnd.jupyter.widget-view+json": {
       "model_id": "b00645afb7e847b28b561f15abc4a2db",
       "version_major": 2,
       "version_minor": 0
      },
      "text/plain": [
       "Export report to file:   0%|          | 0/1 [00:00<?, ?it/s]"
      ]
     },
     "metadata": {},
     "output_type": "display_data"
    }
   ],
   "source": [
    "_df = df[['accession', f\"{gene_name}\", f\"{gene_name}_cut\"]]\n",
    "profile = ProfileReport(_df, title=f\"HIV {gene_name} data report\")\n",
    "profile.to_file(data_path.joinpath(f\"2-{gene_name}-report.html\"))"
   ]
  },
  {
   "cell_type": "code",
   "execution_count": null,
   "id": "88b2a109",
   "metadata": {},
   "outputs": [],
   "source": []
  },
  {
   "cell_type": "code",
   "execution_count": null,
   "id": "a911be0b",
   "metadata": {},
   "outputs": [],
   "source": []
  },
  {
   "cell_type": "code",
   "execution_count": null,
   "id": "5d25152a",
   "metadata": {},
   "outputs": [],
   "source": []
  }
 ],
 "metadata": {
  "kernelspec": {
   "display_name": "Python 3 (ipykernel)",
   "language": "python",
   "name": "python3"
  },
  "language_info": {
   "codemirror_mode": {
    "name": "ipython",
    "version": 3
   },
   "file_extension": ".py",
   "mimetype": "text/x-python",
   "name": "python",
   "nbconvert_exporter": "python",
   "pygments_lexer": "ipython3",
   "version": "3.10.4"
  },
  "varInspector": {
   "cols": {
    "lenName": 16,
    "lenType": 16,
    "lenVar": 40
   },
   "kernels_config": {
    "python": {
     "delete_cmd_postfix": "",
     "delete_cmd_prefix": "del ",
     "library": "var_list.py",
     "varRefreshCmd": "print(var_dic_list())"
    },
    "r": {
     "delete_cmd_postfix": ") ",
     "delete_cmd_prefix": "rm(",
     "library": "var_list.r",
     "varRefreshCmd": "cat(var_dic_list()) "
    }
   },
   "types_to_exclude": [
    "module",
    "function",
    "builtin_function_or_method",
    "instance",
    "_Feature"
   ],
   "window_display": false
  }
 },
 "nbformat": 4,
 "nbformat_minor": 5
}
