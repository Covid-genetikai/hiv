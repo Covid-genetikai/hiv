{
 "cells": [
  {
   "cell_type": "code",
   "execution_count": 1,
   "id": "e0b5c287",
   "metadata": {
    "ExecuteTime": {
     "end_time": "2022-07-01T13:06:17.209282Z",
     "start_time": "2022-07-01T13:06:17.205237Z"
    }
   },
   "outputs": [],
   "source": [
    "# !pip install pandas_profiling"
   ]
  },
  {
   "cell_type": "code",
   "execution_count": 2,
   "id": "pointed-actress",
   "metadata": {
    "ExecuteTime": {
     "end_time": "2022-07-01T13:06:18.564058Z",
     "start_time": "2022-07-01T13:06:17.211345Z"
    }
   },
   "outputs": [],
   "source": [
    "import pandas as pd\n",
    "from pandas_profiling import ProfileReport\n",
    "from pathlib import Path"
   ]
  },
  {
   "cell_type": "code",
   "execution_count": 3,
   "id": "0827dafc",
   "metadata": {
    "ExecuteTime": {
     "end_time": "2022-07-01T13:06:18.567598Z",
     "start_time": "2022-07-01T13:06:18.565255Z"
    }
   },
   "outputs": [],
   "source": [
    "# CHANGE ME\n",
    "gene_name = \"transcriptase\" # integrase | transcriptase"
   ]
  },
  {
   "cell_type": "code",
   "execution_count": 4,
   "id": "supported-prairie",
   "metadata": {
    "ExecuteTime": {
     "end_time": "2022-07-01T13:06:18.582147Z",
     "start_time": "2022-07-01T13:06:18.569625Z"
    }
   },
   "outputs": [],
   "source": [
    "data_path = Path(\"/data/hiv/data/\").joinpath(gene_name)"
   ]
  },
  {
   "cell_type": "code",
   "execution_count": 5,
   "id": "strange-watch",
   "metadata": {
    "ExecuteTime": {
     "end_time": "2022-07-01T13:06:18.606513Z",
     "start_time": "2022-07-01T13:06:18.584723Z"
    }
   },
   "outputs": [],
   "source": [
    "df = pd.read_csv(data_path.joinpath(f\"1-{gene_name}.csv\"))"
   ]
  },
  {
   "cell_type": "code",
   "execution_count": 6,
   "id": "australian-history",
   "metadata": {
    "ExecuteTime": {
     "end_time": "2022-07-01T13:06:18.635264Z",
     "start_time": "2022-07-01T13:06:18.608819Z"
    }
   },
   "outputs": [
    {
     "data": {
      "text/html": [
       "<div>\n",
       "<style scoped>\n",
       "    .dataframe tbody tr th:only-of-type {\n",
       "        vertical-align: middle;\n",
       "    }\n",
       "\n",
       "    .dataframe tbody tr th {\n",
       "        vertical-align: top;\n",
       "    }\n",
       "\n",
       "    .dataframe thead th {\n",
       "        text-align: right;\n",
       "    }\n",
       "</style>\n",
       "<table border=\"1\" class=\"dataframe\">\n",
       "  <thead>\n",
       "    <tr style=\"text-align: right;\">\n",
       "      <th></th>\n",
       "      <th>accession</th>\n",
       "      <th>transcriptase</th>\n",
       "      <th>transcriptase_length</th>\n",
       "    </tr>\n",
       "  </thead>\n",
       "  <tbody>\n",
       "    <tr>\n",
       "      <th>0</th>\n",
       "      <td>AB001169</td>\n",
       "      <td>MEKEGKISKIGPENPYNTPVFGIKKKDRTKWRKLV</td>\n",
       "      <td>35</td>\n",
       "    </tr>\n",
       "    <tr>\n",
       "      <th>1</th>\n",
       "      <td>AB001170</td>\n",
       "      <td>MEKEGKISQIGSENPYNTPVFGIKKKDSTKSRKLV</td>\n",
       "      <td>35</td>\n",
       "    </tr>\n",
       "    <tr>\n",
       "      <th>2</th>\n",
       "      <td>AB001171</td>\n",
       "      <td>MEKEGKISQIGPENPHNTPVLGIKKKDRTKWRKLG</td>\n",
       "      <td>35</td>\n",
       "    </tr>\n",
       "    <tr>\n",
       "      <th>3</th>\n",
       "      <td>AB001172</td>\n",
       "      <td>MEKEGKIAHLGPDNPYNTPALGIKKKDRTKWRKLG</td>\n",
       "      <td>35</td>\n",
       "    </tr>\n",
       "    <tr>\n",
       "      <th>4</th>\n",
       "      <td>AB001173</td>\n",
       "      <td>MEKEGKISQIGPDNPYNTLVFGIKKMDRTKWRKLV</td>\n",
       "      <td>35</td>\n",
       "    </tr>\n",
       "    <tr>\n",
       "      <th>...</th>\n",
       "      <td>...</td>\n",
       "      <td>...</td>\n",
       "      <td>...</td>\n",
       "    </tr>\n",
       "    <tr>\n",
       "      <th>2176</th>\n",
       "      <td>AF301370</td>\n",
       "      <td>PISPIETVPVKLKPGMDGPKVKQWPLTEEKIRALIEICTEMEKEGK...</td>\n",
       "      <td>305</td>\n",
       "    </tr>\n",
       "    <tr>\n",
       "      <th>2177</th>\n",
       "      <td>AF301371</td>\n",
       "      <td>EEKIKALVEICTEMEKEGKISKIGPENPYNTPVFAIKKKDSTKWRK...</td>\n",
       "      <td>209</td>\n",
       "    </tr>\n",
       "    <tr>\n",
       "      <th>2178</th>\n",
       "      <td>AF301372</td>\n",
       "      <td>EEKIKALVEICTEMEKEGKISKIGPENPYNTPVFAIKKKDSTKWRK...</td>\n",
       "      <td>199</td>\n",
       "    </tr>\n",
       "    <tr>\n",
       "      <th>2179</th>\n",
       "      <td>AF301373</td>\n",
       "      <td>VEICTEMEKDGKISKIGPENPYNTPVFAIKKKDSTKWRKLVDFREL...</td>\n",
       "      <td>204</td>\n",
       "    </tr>\n",
       "    <tr>\n",
       "      <th>2180</th>\n",
       "      <td>AF301374</td>\n",
       "      <td>EICTEMEKEGKISKIGPENPYNTPVFAIKKKDSTKWRKLVDFRELN...</td>\n",
       "      <td>211</td>\n",
       "    </tr>\n",
       "  </tbody>\n",
       "</table>\n",
       "<p>2181 rows × 3 columns</p>\n",
       "</div>"
      ],
      "text/plain": [
       "     accession                                      transcriptase  \\\n",
       "0     AB001169                MEKEGKISKIGPENPYNTPVFGIKKKDRTKWRKLV   \n",
       "1     AB001170                MEKEGKISQIGSENPYNTPVFGIKKKDSTKSRKLV   \n",
       "2     AB001171                MEKEGKISQIGPENPHNTPVLGIKKKDRTKWRKLG   \n",
       "3     AB001172                MEKEGKIAHLGPDNPYNTPALGIKKKDRTKWRKLG   \n",
       "4     AB001173                MEKEGKISQIGPDNPYNTLVFGIKKMDRTKWRKLV   \n",
       "...        ...                                                ...   \n",
       "2176  AF301370  PISPIETVPVKLKPGMDGPKVKQWPLTEEKIRALIEICTEMEKEGK...   \n",
       "2177  AF301371  EEKIKALVEICTEMEKEGKISKIGPENPYNTPVFAIKKKDSTKWRK...   \n",
       "2178  AF301372  EEKIKALVEICTEMEKEGKISKIGPENPYNTPVFAIKKKDSTKWRK...   \n",
       "2179  AF301373  VEICTEMEKDGKISKIGPENPYNTPVFAIKKKDSTKWRKLVDFREL...   \n",
       "2180  AF301374  EICTEMEKEGKISKIGPENPYNTPVFAIKKKDSTKWRKLVDFRELN...   \n",
       "\n",
       "      transcriptase_length  \n",
       "0                       35  \n",
       "1                       35  \n",
       "2                       35  \n",
       "3                       35  \n",
       "4                       35  \n",
       "...                    ...  \n",
       "2176                   305  \n",
       "2177                   209  \n",
       "2178                   199  \n",
       "2179                   204  \n",
       "2180                   211  \n",
       "\n",
       "[2181 rows x 3 columns]"
      ]
     },
     "execution_count": 6,
     "metadata": {},
     "output_type": "execute_result"
    }
   ],
   "source": [
    "df"
   ]
  },
  {
   "cell_type": "code",
   "execution_count": 7,
   "id": "indoor-spokesman",
   "metadata": {
    "ExecuteTime": {
     "end_time": "2022-07-01T13:06:21.263092Z",
     "start_time": "2022-07-01T13:06:18.638629Z"
    }
   },
   "outputs": [
    {
     "data": {
      "application/vnd.jupyter.widget-view+json": {
       "model_id": "354b727a7c8246449aec7e3f0b844f6c",
       "version_major": 2,
       "version_minor": 0
      },
      "text/plain": [
       "Summarize dataset:   0%|          | 0/5 [00:00<?, ?it/s]"
      ]
     },
     "metadata": {},
     "output_type": "display_data"
    },
    {
     "data": {
      "application/vnd.jupyter.widget-view+json": {
       "model_id": "94bb3512036942449853e1b8accfa174",
       "version_major": 2,
       "version_minor": 0
      },
      "text/plain": [
       "Generate report structure:   0%|          | 0/1 [00:00<?, ?it/s]"
      ]
     },
     "metadata": {},
     "output_type": "display_data"
    },
    {
     "data": {
      "application/vnd.jupyter.widget-view+json": {
       "model_id": "432f4a98cd704a2c935de9b2096bb9e5",
       "version_major": 2,
       "version_minor": 0
      },
      "text/plain": [
       "Render HTML:   0%|          | 0/1 [00:00<?, ?it/s]"
      ]
     },
     "metadata": {},
     "output_type": "display_data"
    },
    {
     "data": {
      "application/vnd.jupyter.widget-view+json": {
       "model_id": "bf9bc2abb6bc4630a5b5ae145f27a608",
       "version_major": 2,
       "version_minor": 0
      },
      "text/plain": [
       "Export report to file:   0%|          | 0/1 [00:00<?, ?it/s]"
      ]
     },
     "metadata": {},
     "output_type": "display_data"
    }
   ],
   "source": [
    "profile = ProfileReport(df, title=f\"HIV {gene_name} data report\")\n",
    "profile.to_file(data_path.joinpath(f\"1-{gene_name}-report.html\"))"
   ]
  }
 ],
 "metadata": {
  "kernelspec": {
   "display_name": "Python 3 (ipykernel)",
   "language": "python",
   "name": "python3"
  },
  "language_info": {
   "codemirror_mode": {
    "name": "ipython",
    "version": 3
   },
   "file_extension": ".py",
   "mimetype": "text/x-python",
   "name": "python",
   "nbconvert_exporter": "python",
   "pygments_lexer": "ipython3",
   "version": "3.10.4"
  },
  "varInspector": {
   "cols": {
    "lenName": 16,
    "lenType": 16,
    "lenVar": 40
   },
   "kernels_config": {
    "python": {
     "delete_cmd_postfix": "",
     "delete_cmd_prefix": "del ",
     "library": "var_list.py",
     "varRefreshCmd": "print(var_dic_list())"
    },
    "r": {
     "delete_cmd_postfix": ") ",
     "delete_cmd_prefix": "rm(",
     "library": "var_list.r",
     "varRefreshCmd": "cat(var_dic_list()) "
    }
   },
   "types_to_exclude": [
    "module",
    "function",
    "builtin_function_or_method",
    "instance",
    "_Feature"
   ],
   "window_display": false
  }
 },
 "nbformat": 4,
 "nbformat_minor": 5
}
