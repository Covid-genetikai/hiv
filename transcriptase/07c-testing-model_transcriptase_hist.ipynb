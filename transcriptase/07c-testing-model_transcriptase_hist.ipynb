{
 "cells": [
  {
   "cell_type": "code",
   "execution_count": 1,
   "id": "e523de0a",
   "metadata": {},
   "outputs": [],
   "source": [
    "import scipy\n",
    "import numpy as np\n",
    "import pandas as pd\n",
    "from tqdm.notebook import tqdm\n",
    "import tensorflow as tf\n",
    "from tensorflow import keras\n",
    "from Levenshtein import *\n",
    "from seq_diff import diff_html"
   ]
  },
  {
   "cell_type": "code",
   "execution_count": 2,
   "id": "0f6867de",
   "metadata": {},
   "outputs": [],
   "source": [
    "import matplotlib.pyplot as plt\n",
    "\n",
    "%matplotlib inline\n",
    "plt.rcParams['figure.figsize'] = (16, 8)"
   ]
  },
  {
   "cell_type": "code",
   "execution_count": 3,
   "id": "a5f36a42",
   "metadata": {},
   "outputs": [],
   "source": [
    "with np.load('data/transcriptase/train_cut.npz', allow_pickle = True) as data:\n",
    "    X = data['parents']\n",
    "    Y = data['children']\n",
    "    V = data['vocab_index'].tolist()"
   ]
  },
  {
   "cell_type": "code",
   "execution_count": 4,
   "id": "f88c5572",
   "metadata": {},
   "outputs": [
    {
     "data": {
      "text/plain": [
       "{'A': 0,\n",
       " 'B': 1,\n",
       " 'C': 2,\n",
       " 'D': 3,\n",
       " 'E': 4,\n",
       " 'F': 5,\n",
       " 'G': 6,\n",
       " 'H': 7,\n",
       " 'I': 8,\n",
       " 'K': 9,\n",
       " 'L': 10,\n",
       " 'M': 11,\n",
       " 'N': 12,\n",
       " 'P': 13,\n",
       " 'Q': 14,\n",
       " 'R': 15,\n",
       " 'S': 16,\n",
       " 'T': 17,\n",
       " 'V': 18,\n",
       " 'W': 19,\n",
       " 'X': 20,\n",
       " 'Y': 21,\n",
       " 'Z': 22}"
      ]
     },
     "execution_count": 4,
     "metadata": {},
     "output_type": "execute_result"
    }
   ],
   "source": [
    "V"
   ]
  },
  {
   "cell_type": "code",
   "execution_count": 5,
   "id": "f07e51f1",
   "metadata": {},
   "outputs": [
    {
     "name": "stderr",
     "output_type": "stream",
     "text": [
      "2022-09-13 10:43:11.151260: I tensorflow/stream_executor/cuda/cuda_gpu_executor.cc:975] successful NUMA node read from SysFS had negative value (-1), but there must be at least one NUMA node, so returning NUMA node zero\n"
     ]
    },
    {
     "name": "stdout",
     "output_type": "stream",
     "text": [
      "WARNING:tensorflow:Layer gru will not use cuDNN kernels since it doesn't meet the criteria. It will use a generic GPU kernel as fallback when running on GPU.\n",
      "WARNING:tensorflow:Layer gru_1 will not use cuDNN kernels since it doesn't meet the criteria. It will use a generic GPU kernel as fallback when running on GPU.\n"
     ]
    },
    {
     "name": "stderr",
     "output_type": "stream",
     "text": [
      "2022-09-13 10:43:11.163566: I tensorflow/stream_executor/cuda/cuda_gpu_executor.cc:975] successful NUMA node read from SysFS had negative value (-1), but there must be at least one NUMA node, so returning NUMA node zero\n",
      "2022-09-13 10:43:11.163718: I tensorflow/stream_executor/cuda/cuda_gpu_executor.cc:975] successful NUMA node read from SysFS had negative value (-1), but there must be at least one NUMA node, so returning NUMA node zero\n",
      "2022-09-13 10:43:11.164369: I tensorflow/core/platform/cpu_feature_guard.cc:193] This TensorFlow binary is optimized with oneAPI Deep Neural Network Library (oneDNN) to use the following CPU instructions in performance-critical operations:  AVX2 FMA\n",
      "To enable them in other operations, rebuild TensorFlow with the appropriate compiler flags.\n",
      "2022-09-13 10:43:11.165134: I tensorflow/stream_executor/cuda/cuda_gpu_executor.cc:975] successful NUMA node read from SysFS had negative value (-1), but there must be at least one NUMA node, so returning NUMA node zero\n",
      "2022-09-13 10:43:11.165294: I tensorflow/stream_executor/cuda/cuda_gpu_executor.cc:975] successful NUMA node read from SysFS had negative value (-1), but there must be at least one NUMA node, so returning NUMA node zero\n",
      "2022-09-13 10:43:11.165415: I tensorflow/stream_executor/cuda/cuda_gpu_executor.cc:975] successful NUMA node read from SysFS had negative value (-1), but there must be at least one NUMA node, so returning NUMA node zero\n",
      "2022-09-13 10:43:11.631362: I tensorflow/stream_executor/cuda/cuda_gpu_executor.cc:975] successful NUMA node read from SysFS had negative value (-1), but there must be at least one NUMA node, so returning NUMA node zero\n",
      "2022-09-13 10:43:11.631612: I tensorflow/stream_executor/cuda/cuda_gpu_executor.cc:975] successful NUMA node read from SysFS had negative value (-1), but there must be at least one NUMA node, so returning NUMA node zero\n",
      "2022-09-13 10:43:11.631799: I tensorflow/stream_executor/cuda/cuda_gpu_executor.cc:975] successful NUMA node read from SysFS had negative value (-1), but there must be at least one NUMA node, so returning NUMA node zero\n",
      "2022-09-13 10:43:11.632145: I tensorflow/core/common_runtime/gpu/gpu_device.cc:1532] Created device /job:localhost/replica:0/task:0/device:GPU:0 with 9751 MB memory:  -> device: 0, name: NVIDIA GeForce GTX 1080 Ti, pci bus id: 0000:01:00.0, compute capability: 6.1\n"
     ]
    },
    {
     "data": {
      "text/plain": [
       "<keras.engine.functional.Functional at 0x7fb96d910070>"
      ]
     },
     "execution_count": 5,
     "metadata": {},
     "output_type": "execute_result"
    }
   ],
   "source": [
    "model = keras.models.load_model(\"./models/transcriptase_6_atmesta\")\n",
    "model"
   ]
  },
  {
   "cell_type": "code",
   "execution_count": 6,
   "id": "4c6bb686",
   "metadata": {
    "scrolled": true
   },
   "outputs": [],
   "source": [
    "token_index = V\n",
    "reverse_char_index = dict((i, char) for char, i in token_index.items())\n",
    "decode_seq = lambda seq: [ ''.join([ reverse_char_index[i] for i in s ]) for s in np.argmax(seq, axis = 2)]\n",
    "legit_values = [decoded_x.startswith('PISP') and decoded_y.startswith('PISP')   for decoded_x, decoded_y  in zip(decode_seq(X), decode_seq(Y))]"
   ]
  },
  {
   "cell_type": "markdown",
   "id": "5969df5f",
   "metadata": {},
   "source": [
    "# New heading"
   ]
  },
  {
   "cell_type": "code",
   "execution_count": 7,
   "id": "0504bef4",
   "metadata": {},
   "outputs": [
    {
     "data": {
      "text/html": [
       "<div style=\"width:100%; word-wrap: break-word; font-family: monospace\"><span style=\"background: #FF929B;\"></span>PVKLKPGMDGP<span style=\"background: #FF929B;\">K</span>VKQWPLTEEKIKALVEICTEMEKEGKISKIGPENPYNTPVFAIKKKDSTKWRKLVDFRELNKRTQDFWEVQLGIPHPAGLKKKKSVTVLDVGDAYFSVPLDEDFRKYTAFTIPSINNETPGIRYQYNVLPQGWKGSPAIFQSSMTKILEPFRKQNPDIVIYQYMDDLYVGSDLEIGQHR<span style=\"background: #FF929B;\">T</span>KIEELRQHLLRWGLTTPDKKHQKEPPFLWMGYELHP<span style=\"background: #FF929B;\">DKWTVQPI</span></div>"
      ],
      "text/plain": [
       "<IPython.core.display.HTML object>"
      ]
     },
     "metadata": {},
     "output_type": "display_data"
    },
    {
     "data": {
      "text/html": [
       "<div style=\"width:100%; word-wrap: break-word; font-family: monospace\"><span style=\"background: #FF929B;\">PISPIETV</span>PVKLKPGMDGP<span style=\"background: #FF929B;\">X</span>VKQWPLTEEKIKALVEICTEMEKEGKISKIGPENPYNTPVFAIKKKDSTKWRKLVDFRELNKRTQDFWEVQLGIPHPAGLKKKKSVTVLDVGDAYFSVPLDEDFRKYTAFTIPSINNETPGIRYQYNVLPQGWKGSPAIFQSSMTKILEPFRKQNPDIVIYQYMDDLYVGSDLEIGQHR<span style=\"background: #FF929B;\">X</span>KIEELRQHLLRWGLTTPDKKHQKEPPFLWMGYELHP<span style=\"background: #FF929B;\"></span></div>"
      ],
      "text/plain": [
       "<IPython.core.display.HTML object>"
      ]
     },
     "metadata": {},
     "output_type": "display_data"
    }
   ],
   "source": [
    "i = 2\n",
    "x1 = decode_seq(X[i:i+1,:,:])[0]\n",
    "y1 = decode_seq(Y[i:i+1,:,:])[0]\n",
    "_ = diff_html(x1, y1, display_a=True, display_b=True)"
   ]
  },
  {
   "cell_type": "code",
   "execution_count": 8,
   "id": "a973459d",
   "metadata": {},
   "outputs": [
    {
     "data": {
      "text/plain": [
       "(array([    0,     1,     2, ..., 17197, 17198, 17207]),)"
      ]
     },
     "execution_count": 8,
     "metadata": {},
     "output_type": "execute_result"
    }
   ],
   "source": [
    "np.where(np.array(legit_values)==False)"
   ]
  },
  {
   "cell_type": "code",
   "execution_count": 9,
   "id": "0bc56fde",
   "metadata": {},
   "outputs": [
    {
     "name": "stdout",
     "output_type": "stream",
     "text": [
      "1/1 [==============================] - 1s 630ms/step\n"
     ]
    },
    {
     "data": {
      "text/html": [
       "<div style=\"width:100%; word-wrap: break-word; font-family: monospace\">PVKLKPGMDGPKVKQWPLTEEKIKALVEICTEMEKEGKISKIGPENPYNTPVFAIKKKDSTKWRKLVDFRELNKRTQDFWEVQLGIPHPAGLKKKKSVTVLDVGDAYFSVPLDEDFRKYTAFTIPSINNETPGIRYQYNVLPQGWKGSPAIFQSSMTKILEPFRKQNPDIVIYQYMDDLYVGSDLEIGQHRTKIEELRQHLLRWGLTTPDKKHQKEPPFLWMGYELHPDKW<span style=\"background: #FF929B;\">TVQP</span>I<span style=\"background: #FF929B;\"></span></div>"
      ],
      "text/plain": [
       "<IPython.core.display.HTML object>"
      ]
     },
     "metadata": {},
     "output_type": "display_data"
    },
    {
     "data": {
      "text/html": [
       "<div style=\"width:100%; word-wrap: break-word; font-family: monospace\">PVKLKPGMDGPKVKQWPLTEEKIKALVEICTEMEKEGKISKIGPENPYNTPVFAIKKKDSTKWRKLVDFRELNKRTQDFWEVQLGIPHPAGLKKKKSVTVLDVGDAYFSVPLDEDFRKYTAFTIPSINNETPGIRYQYNVLPQGWKGSPAIFQSSMTKILEPFRKQNPDIVIYQYMDDLYVGSDLEIGQHRTKIEELRQHLLRWGLTTPDKKHQKEPPFLWMGYELHPDKW<span style=\"background: #FF929B;\">SK</span>I<span style=\"background: #FF929B;\">II</span></div>"
      ],
      "text/plain": [
       "<IPython.core.display.HTML object>"
      ]
     },
     "metadata": {},
     "output_type": "display_data"
    }
   ],
   "source": [
    "yp1 = decode_seq(model.predict([ X[i:i+1,:,:], np.array([0.01])]))[0]\n",
    "\n",
    "_ = diff_html(x1, yp1, display_a=True, display_b=True)"
   ]
  },
  {
   "cell_type": "code",
   "execution_count": 10,
   "id": "cc9782fe",
   "metadata": {},
   "outputs": [],
   "source": [
    "cce = tf.keras.losses.CategoricalCrossentropy()\n"
   ]
  },
  {
   "cell_type": "code",
   "execution_count": 11,
   "id": "f09bfc7d",
   "metadata": {},
   "outputs": [
    {
     "name": "stderr",
     "output_type": "stream",
     "text": [
      "2022-09-13 10:43:16.140127: W tensorflow/core/framework/cpu_allocator_impl.cc:82] Allocation of 293003440 exceeds 10% of free system memory.\n",
      "2022-09-13 10:43:16.288357: W tensorflow/core/framework/cpu_allocator_impl.cc:82] Allocation of 293003440 exceeds 10% of free system memory.\n"
     ]
    },
    {
     "data": {
      "text/plain": [
       "<tf.Tensor: shape=(), dtype=float32, numpy=0.52692205>"
      ]
     },
     "execution_count": 11,
     "metadata": {},
     "output_type": "execute_result"
    }
   ],
   "source": [
    "cce(np.array(X[legit_values], dtype=np.float32),np.array(Y[legit_values], dtype=np.float32))"
   ]
  },
  {
   "cell_type": "code",
   "execution_count": 12,
   "id": "09322394",
   "metadata": {},
   "outputs": [],
   "source": [
    "ce_0 = 0.52692205"
   ]
  },
  {
   "cell_type": "code",
   "execution_count": 13,
   "id": "3251fdd8",
   "metadata": {},
   "outputs": [],
   "source": [
    "X = X[legit_values]\n",
    "Y = Y[legit_values]"
   ]
  },
  {
   "cell_type": "code",
   "execution_count": 14,
   "id": "37e6bf9d",
   "metadata": {
    "scrolled": true
   },
   "outputs": [
    {
     "data": {
      "application/vnd.jupyter.widget-view+json": {
       "model_id": "504dc8ce80df42458078e0e1e666cfc9",
       "version_major": 2,
       "version_minor": 0
      },
      "text/plain": [
       "  0%|          | 0/20 [00:00<?, ?it/s]"
      ]
     },
     "metadata": {},
     "output_type": "display_data"
    },
    {
     "name": "stderr",
     "output_type": "stream",
     "text": [
      "2022-09-13 10:43:16.530161: W tensorflow/core/framework/cpu_allocator_impl.cc:82] Allocation of 146501720 exceeds 10% of free system memory.\n",
      "2022-09-13 10:43:16.617507: W tensorflow/core/framework/cpu_allocator_impl.cc:82] Allocation of 146501720 exceeds 10% of free system memory.\n"
     ]
    },
    {
     "name": "stdout",
     "output_type": "stream",
     "text": [
      "422/422 [==============================] - 2s 3ms/step\n"
     ]
    },
    {
     "name": "stderr",
     "output_type": "stream",
     "text": [
      "2022-09-13 10:43:18.373722: W tensorflow/core/framework/cpu_allocator_impl.cc:82] Allocation of 293003440 exceeds 10% of free system memory.\n"
     ]
    },
    {
     "name": "stdout",
     "output_type": "stream",
     "text": [
      "422/422 [==============================] - 2s 4ms/step\n",
      "422/422 [==============================] - 2s 3ms/step\n",
      "422/422 [==============================] - 2s 3ms/step\n",
      "422/422 [==============================] - 1s 3ms/step\n",
      "422/422 [==============================] - 1s 3ms/step\n",
      "422/422 [==============================] - 1s 3ms/step\n",
      "422/422 [==============================] - 1s 3ms/step\n",
      "422/422 [==============================] - 1s 3ms/step\n",
      "422/422 [==============================] - 1s 3ms/step\n",
      "422/422 [==============================] - 1s 3ms/step\n",
      "422/422 [==============================] - 2s 4ms/step\n",
      "422/422 [==============================] - 1s 3ms/step\n",
      "422/422 [==============================] - 2s 3ms/step\n",
      "422/422 [==============================] - 1s 3ms/step\n",
      "422/422 [==============================] - 1s 3ms/step\n",
      "422/422 [==============================] - 1s 3ms/step\n",
      "422/422 [==============================] - 1s 3ms/step\n",
      "422/422 [==============================] - 1s 3ms/step\n",
      "422/422 [==============================] - 1s 3ms/step\n"
     ]
    }
   ],
   "source": [
    "rand_rates = []\n",
    "for r in tqdm(np.arange(0.00, 1, 0.05)):\n",
    "    tf.keras.backend.clear_session()\n",
    "    Y_pred = model.predict([X, np.full((len(X)), r)])\n",
    "    cc = keras.losses.CategoricalCrossentropy()(X, Y_pred).numpy()\n",
    "    rand_rates.append([r, cc])\n",
    "rand_rates = np.array(rand_rates)"
   ]
  },
  {
   "cell_type": "code",
   "execution_count": 15,
   "id": "51790089",
   "metadata": {},
   "outputs": [],
   "source": [
    "from scipy.optimize import curve_fit\n",
    "func = lambda t, a, b, c, d: a * t**3 + b * t**2 + c * t + d\n",
    "p, _ = curve_fit(func, rand_rates[:,0],  rand_rates[:,1])"
   ]
  },
  {
   "cell_type": "code",
   "execution_count": 16,
   "id": "b2422957",
   "metadata": {},
   "outputs": [
    {
     "data": {
      "image/png": "[encoded data removed]",
      "text/plain": [
       "<Figure size 1152x576 with 1 Axes>"
      ]
     },
     "metadata": {
      "needs_background": "light"
     },
     "output_type": "display_data"
    }
   ],
   "source": [
    "plt.plot(rand_rates[:,0], np.full_like(rand_rates[:,1], ce_0), label=\"stebimas, $CE$\")\n",
    "plt.plot(rand_rates[:,0], func(rand_rates[:,0], p[0], p[1], p[2], p[3]), '--', label=\"funkcija, $CE$\")\n",
    "plt.scatter(rand_rates[:,0], rand_rates[:,1], marker='x', label=\"matavimas, $CE$\")\n",
    "plt.ylabel('kryžminė entropija, $CE$')\n",
    "plt.xlabel('atsitiktinio atmetimo dažnis, $ε$')\n",
    "\n",
    "plt.legend()\n",
    "plt.show()"
   ]
  },
  {
   "cell_type": "code",
   "execution_count": 17,
   "id": "7a4cff0e",
   "metadata": {},
   "outputs": [
    {
     "name": "stdout",
     "output_type": "stream",
     "text": [
      "['0.03924', '-0.34501', '0.91401', '0.14728']\n"
     ]
    },
    {
     "data": {
      "text/plain": [
       "0.5388441350856432"
      ]
     },
     "execution_count": 17,
     "metadata": {},
     "output_type": "execute_result"
    }
   ],
   "source": [
    "p, _ = curve_fit(func, rand_rates[:,1],  rand_rates[:,0])\n",
    "epsilon = func(ce_0, p[0], p[1], p[2], p[3])\n",
    "print([f'{j:0.5f}' for i,j in enumerate(p)])\n",
    "epsilon"
   ]
  },
  {
   "cell_type": "code",
   "execution_count": 18,
   "id": "dcbb3e5a",
   "metadata": {},
   "outputs": [],
   "source": [
    "Y_pred = model.predict([ X, np.full(X.shape[0],0)], verbose=0)"
   ]
  },
  {
   "cell_type": "code",
   "execution_count": 19,
   "id": "fdaf9de2",
   "metadata": {},
   "outputs": [],
   "source": [
    "X_data = X.astype(np.float32)"
   ]
  },
  {
   "cell_type": "code",
   "execution_count": 20,
   "id": "f5ec5350",
   "metadata": {},
   "outputs": [],
   "source": [
    "Y_data = Y.astype(np.float32)"
   ]
  },
  {
   "cell_type": "code",
   "execution_count": 21,
   "id": "ddd5d1db",
   "metadata": {},
   "outputs": [
    {
     "data": {
      "text/plain": [
       "0.52692205"
      ]
     },
     "execution_count": 21,
     "metadata": {},
     "output_type": "execute_result"
    }
   ],
   "source": [
    "keras.losses.CategoricalCrossentropy()(X_data, Y_data).numpy()"
   ]
  },
  {
   "cell_type": "code",
   "execution_count": 22,
   "id": "d40a6d8f",
   "metadata": {},
   "outputs": [
    {
     "data": {
      "text/plain": [
       "0.039280012"
      ]
     },
     "execution_count": 22,
     "metadata": {},
     "output_type": "execute_result"
    }
   ],
   "source": [
    "keras.losses.CategoricalCrossentropy()(X_data, Y_pred).numpy()"
   ]
  },
  {
   "cell_type": "code",
   "execution_count": 23,
   "id": "64591db6",
   "metadata": {},
   "outputs": [
    {
     "data": {
      "text/plain": [
       "0.15774417"
      ]
     },
     "execution_count": 23,
     "metadata": {},
     "output_type": "execute_result"
    }
   ],
   "source": [
    "keras.losses.CategoricalCrossentropy()(Y_data, Y_pred).numpy()"
   ]
  },
  {
   "cell_type": "code",
   "execution_count": 24,
   "id": "48610ad2",
   "metadata": {},
   "outputs": [
    {
     "data": {
      "application/vnd.jupyter.widget-view+json": {
       "model_id": "211e9261cdc2465abb54ab3e10110e07",
       "version_major": 2,
       "version_minor": 0
      },
      "text/plain": [
       "  0%|          | 0/13495 [00:00<?, ?it/s]"
      ]
     },
     "metadata": {},
     "output_type": "display_data"
    }
   ],
   "source": [
    "cce = []\n",
    "for i in tqdm(range(len(X_data))):\n",
    "    cce.append([\n",
    "        keras.losses.CategoricalCrossentropy()(X_data[i:i + 1], Y_data[i:i + 1]).numpy(),\n",
    "        keras.losses.CategoricalCrossentropy()(X_data[i:i + 1], Y_pred[i:i + 1]).numpy(),\n",
    "        keras.losses.CategoricalCrossentropy()(Y_data[i:i + 1], Y_pred[i:i + 1]).numpy()\n",
    "    ])\n",
    "cce = np.array(cce)\n"
   ]
  },
  {
   "cell_type": "code",
   "execution_count": 25,
   "id": "c79810b8",
   "metadata": {},
   "outputs": [],
   "source": [
    "\n",
    "\n",
    "plot_names = [\n",
    "    \"X seka - Y stebima seka\",\n",
    "    \"X seka - Y sugeneruota seka\",\n",
    "    \"Y stebima seka - Y sugeneruota seka\"\n",
    "]\n",
    "\n"
   ]
  },
  {
   "cell_type": "code",
   "execution_count": 26,
   "id": "5410a874",
   "metadata": {},
   "outputs": [
    {
     "data": {
      "image/png": "[encoded data removed]",
      "text/plain": [
       "<Figure size 1152x576 with 1 Axes>"
      ]
     },
     "metadata": {
      "needs_background": "light"
     },
     "output_type": "display_data"
    }
   ],
   "source": [
    "for i, n in enumerate(plot_names):\n",
    "    plt.hist(cce[:,i], fill=False, bins = 10, histtype='step', label=n)\n",
    "plt.xlabel('kryžminės entropijos reikšmės')\n",
    "plt.ylabel('atvejų skaičius')\n",
    "plt.legend()\n",
    "plt.show()"
   ]
  },
  {
   "cell_type": "code",
   "execution_count": 27,
   "id": "84a57270",
   "metadata": {},
   "outputs": [],
   "source": [
    "X_secs = decode_seq(X_data)\n",
    "Y_secs = decode_seq(Y_data)\n",
    "Y_pred_secs = decode_seq(Y_pred)"
   ]
  },
  {
   "cell_type": "code",
   "execution_count": 28,
   "id": "7b3f9d60",
   "metadata": {},
   "outputs": [
    {
     "data": {
      "application/vnd.jupyter.widget-view+json": {
       "model_id": "97f6270bc1e3452fb5d244dc9532cd29",
       "version_major": 2,
       "version_minor": 0
      },
      "text/plain": [
       "  0%|          | 0/13495 [00:00<?, ?it/s]"
      ]
     },
     "metadata": {},
     "output_type": "display_data"
    }
   ],
   "source": [
    "lev_distances = []\n",
    "for x,y,p in tqdm(list(zip(X_secs, Y_secs, Y_pred_secs))):\n",
    "    lev_distances.append([ \n",
    "        distance(x,y), distance(x,p), distance(y,p)\n",
    "    ])\n",
    "lev_distances = np.array(lev_distances)"
   ]
  },
  {
   "cell_type": "code",
   "execution_count": 29,
   "id": "5edc58a8",
   "metadata": {},
   "outputs": [
    {
     "data": {
      "image/png": "[encoded data removed]",
      "text/plain": [
       "<Figure size 1152x576 with 1 Axes>"
      ]
     },
     "metadata": {
      "needs_background": "light"
     },
     "output_type": "display_data"
    }
   ],
   "source": [
    "for i, n in enumerate(plot_names):\n",
    "    plt.hist(lev_distances[:,i], fill=False, bins = 20, density=False, histtype='step', label=n)\n",
    "plt.xlabel('Levenšteino atstumas')\n",
    "plt.ylabel('atvejų skaičius')\n",
    "plt.legend()\n",
    "plt.show()"
   ]
  },
  {
   "cell_type": "code",
   "execution_count": 30,
   "id": "40d1d31c",
   "metadata": {},
   "outputs": [
    {
     "data": {
      "application/vnd.jupyter.widget-view+json": {
       "model_id": "2d89de80c64048b2bd990411889c4ce1",
       "version_major": 2,
       "version_minor": 0
      },
      "text/plain": [
       "  0%|          | 0/13495 [00:00<?, ?it/s]"
      ]
     },
     "metadata": {},
     "output_type": "display_data"
    }
   ],
   "source": [
    "\n",
    "\n",
    "lev_ratio = []\n",
    "for x,y,p in tqdm(list(zip(X_secs, Y_secs, Y_pred_secs))):\n",
    "    lev_ratio.append([ \n",
    "        ratio(x,y), ratio(x,p), ratio(y,p)\n",
    "    ])\n",
    "lev_ratio = np.array(lev_ratio)\n",
    "\n"
   ]
  },
  {
   "cell_type": "code",
   "execution_count": 31,
   "id": "059b161c",
   "metadata": {},
   "outputs": [
    {
     "data": {
      "image/png": "[encoded data removed]",
      "text/plain": [
       "<Figure size 1152x576 with 1 Axes>"
      ]
     },
     "metadata": {
      "needs_background": "light"
     },
     "output_type": "display_data"
    }
   ],
   "source": [
    "plt.hist(lev_ratio[:,1], fill=False, bins = 25, histtype='step', label=\"X seka - Y stebima seka\")\n",
    "plt.hist(lev_ratio[:,2], fill=False, bins = 25, histtype='step', label=\"X seka - Y sugeneruota seka\")\n",
    "plt.hist(lev_ratio[:,0], fill=False, bins = 25, histtype='step', label=\"Y stebima seka - Y sugeneruota seka\")\n",
    "plt.xlabel('Levenšteino panašumo dažnis')\n",
    "plt.ylabel('atvejų skaičius')\n",
    "plt.legend()\n",
    "plt.show()"
   ]
  },
  {
   "cell_type": "code",
   "execution_count": 32,
   "id": "24066fa8",
   "metadata": {},
   "outputs": [
    {
     "data": {
      "application/vnd.jupyter.widget-view+json": {
       "model_id": "9df8a734e622415e9e9b97daeaa8055c",
       "version_major": 2,
       "version_minor": 0
      },
      "text/plain": [
       "  0%|          | 0/13495 [00:00<?, ?it/s]"
      ]
     },
     "metadata": {},
     "output_type": "display_data"
    }
   ],
   "source": [
    "ham_distances = []\n",
    "for x,y,p in tqdm(list(zip(X_secs, Y_secs, Y_pred_secs))):\n",
    "    ham_distances.append([ \n",
    "        hamming(x,y), hamming(x,p), hamming(y,p)\n",
    "    ])\n",
    "ham_distances = np.array(ham_distances)"
   ]
  },
  {
   "cell_type": "code",
   "execution_count": 33,
   "id": "76f83028",
   "metadata": {},
   "outputs": [
    {
     "data": {
      "image/png": "[encoded data removed]",
      "text/plain": [
       "<Figure size 1152x576 with 1 Axes>"
      ]
     },
     "metadata": {
      "needs_background": "light"
     },
     "output_type": "display_data"
    }
   ],
   "source": [
    "\n",
    "\n",
    "plt.hist(ham_distances[:,1], fill=False, bins = 15, histtype='step', label=\"X seka - Y stebima seka\")\n",
    "plt.hist(ham_distances[:,2], fill=False, bins = 15, histtype='step', label=\"X seka - Y sugeneruota seka\")\n",
    "plt.hist(ham_distances[:,0], fill=False, bins = 15, histtype='step', label=\"Y stebima seka - Y sugeneruota seka\")\n",
    "plt.xlabel('Hammingo atstumas')\n",
    "plt.ylabel('atvejų skaičius')\n",
    "plt.legend()\n",
    "plt.show()\n",
    "\n"
   ]
  },
  {
   "cell_type": "markdown",
   "id": "9b64ac67",
   "metadata": {},
   "source": [
    "# Mutations"
   ]
  },
  {
   "cell_type": "code",
   "execution_count": 34,
   "id": "e5e6e251",
   "metadata": {},
   "outputs": [],
   "source": [
    "mut01 = np.sum(\n",
    "    (np.subtract(\n",
    "        np.argmax(X_data, axis = 2), \n",
    "        np.argmax(Y_data, axis = 2)\n",
    "    ) != 0.0).astype(int), axis = 0)"
   ]
  },
  {
   "cell_type": "code",
   "execution_count": 35,
   "id": "e16b5953",
   "metadata": {},
   "outputs": [],
   "source": [
    "mut02 = np.sum(\n",
    "    (np.subtract(\n",
    "        np.argmax(X_data, axis = 2), \n",
    "        np.argmax(Y_pred, axis = 2)\n",
    "    ) != 0.0).astype(int), axis = 0)"
   ]
  },
  {
   "cell_type": "code",
   "execution_count": 36,
   "id": "73b67a6e",
   "metadata": {},
   "outputs": [
    {
     "data": {
      "image/png": "[encoded data removed]",
      "text/plain": [
       "<Figure size 1152x576 with 1 Axes>"
      ]
     },
     "metadata": {
      "needs_background": "light"
     },
     "output_type": "display_data"
    }
   ],
   "source": [
    "x_range = list(range(len(mut01)))\n",
    "plt.bar(x_range, mut02, bottom = mut01, label = 'generuotos mutacijos')\n",
    "plt.bar(x_range, mut01, label = 'stebimos mutacijos')\n",
    "#plt.ylim(0, 200.0)\n",
    "plt.xlim(0, len(mut01))\n",
    "plt.xlabel('aminorūgšties pozicija')\n",
    "plt.ylabel('atvejų skaičius')\n",
    "plt.legend()\n",
    "plt.show()"
   ]
  },
  {
   "cell_type": "code",
   "execution_count": 37,
   "id": "99e59221",
   "metadata": {},
   "outputs": [
    {
     "data": {
      "image/png": "[encoded data removed]",
      "text/plain": [
       "<Figure size 1152x576 with 1 Axes>"
      ]
     },
     "metadata": {
      "needs_background": "light"
     },
     "output_type": "display_data"
    }
   ],
   "source": [
    "plt.hist(mut02, bins = 30, label = 'generuotos mutacijos', fill = False, histtype='step')\n",
    "plt.hist(mut01, bins = 30, label = 'stebimos mutacijos', fill = False, histtype='step')\n",
    "\n",
    "plt.legend()\n",
    "plt.show()"
   ]
  },
  {
   "cell_type": "code",
   "execution_count": 38,
   "id": "ac4ecf13",
   "metadata": {},
   "outputs": [
    {
     "data": {
      "image/png": "[encoded data removed]",
      "text/plain": [
       "<Figure size 1152x576 with 1 Axes>"
      ]
     },
     "metadata": {
      "needs_background": "light"
     },
     "output_type": "display_data"
    }
   ],
   "source": [
    "plt.hist(abs(mut02 - mut01), bins = 30, label = 'stebimos mutacijos', fill = False, histtype='step')\n",
    "plt.legend()\n",
    "plt.show()"
   ]
  },
  {
   "cell_type": "markdown",
   "id": "76f3b835",
   "metadata": {},
   "source": [
    "# Siblings"
   ]
  },
  {
   "cell_type": "code",
   "execution_count": 39,
   "id": "883fb4a6",
   "metadata": {},
   "outputs": [
    {
     "data": {
      "application/vnd.jupyter.widget-view+json": {
       "model_id": "ec7b34dcd363481f95b6d3965ea6c453",
       "version_major": 2,
       "version_minor": 0
      },
      "text/plain": [
       "  0%|          | 0/10 [00:00<?, ?it/s]"
      ]
     },
     "metadata": {},
     "output_type": "display_data"
    },
    {
     "name": "stdout",
     "output_type": "stream",
     "text": [
      "422/422 [==============================] - 2s 3ms/step\n",
      "422/422 [==============================] - 1s 3ms/step\n",
      "422/422 [==============================] - 1s 3ms/step\n",
      "422/422 [==============================] - 1s 3ms/step\n",
      "422/422 [==============================] - 1s 3ms/step\n",
      "422/422 [==============================] - 1s 3ms/step\n",
      "422/422 [==============================] - 1s 3ms/step\n",
      "422/422 [==============================] - 1s 3ms/step\n",
      "422/422 [==============================] - 1s 3ms/step\n",
      "422/422 [==============================] - 1s 3ms/step\n"
     ]
    }
   ],
   "source": [
    "Y_pred_sibs = []\n",
    "for i in tqdm(range(10)):\n",
    "    y_ = model.predict([ X_data, np.full((len(X_data)), epsilon)])\n",
    "    Y_pred_sibs.append([])\n",
    "    for j in range(len(y_)):\n",
    "        Y_pred_sibs[i].append(\n",
    "            keras.losses.CategoricalCrossentropy()(X_data[j:j + 1], y_[j:j + 1]).numpy()\n",
    "        )\n",
    "Y_pred_sibs = np.array(Y_pred_sibs)"
   ]
  },
  {
   "cell_type": "code",
   "execution_count": 40,
   "id": "74d297a5",
   "metadata": {},
   "outputs": [
    {
     "data": {
      "image/png": "[encoded data removed]",
      "text/plain": [
       "<Figure size 1152x576 with 1 Axes>"
      ]
     },
     "metadata": {
      "needs_background": "light"
     },
     "output_type": "display_data"
    }
   ],
   "source": [
    "for i in range(len(Y_pred_sibs)):\n",
    "    plt.hist(Y_pred_sibs[i], fill=False, bins = 35, histtype='step')\n",
    "plt.xlabel('kryžminės entropijos reikšmės')\n",
    "plt.ylabel('atvejų skaičius')\n",
    "plt.show()"
   ]
  },
  {
   "cell_type": "code",
   "execution_count": 41,
   "id": "b890d8be",
   "metadata": {},
   "outputs": [],
   "source": [
    "i = 2\n",
    "n = 100\n"
   ]
  },
  {
   "cell_type": "code",
   "execution_count": 42,
   "id": "5055413e",
   "metadata": {},
   "outputs": [
    {
     "data": {
      "application/vnd.jupyter.widget-view+json": {
       "model_id": "4667597a90bb457a94c3203557a42050",
       "version_major": 2,
       "version_minor": 0
      },
      "text/plain": [
       "  0%|          | 0/100 [00:00<?, ?it/s]"
      ]
     },
     "metadata": {},
     "output_type": "display_data"
    },
    {
     "name": "stdout",
     "output_type": "stream",
     "text": [
      "1/1 [==============================] - 0s 15ms/step\n",
      "1/1 [==============================] - 0s 13ms/step\n",
      "1/1 [==============================] - 0s 22ms/step\n",
      "1/1 [==============================] - 0s 16ms/step\n",
      "1/1 [==============================] - 0s 14ms/step\n",
      "1/1 [==============================] - 0s 15ms/step\n",
      "1/1 [==============================] - 0s 14ms/step\n",
      "1/1 [==============================] - 0s 15ms/step\n",
      "1/1 [==============================] - 0s 15ms/step\n",
      "1/1 [==============================] - 0s 13ms/step\n",
      "1/1 [==============================] - 0s 14ms/step\n",
      "1/1 [==============================] - 0s 15ms/step\n",
      "1/1 [==============================] - 0s 14ms/step\n",
      "1/1 [==============================] - 0s 15ms/step\n",
      "1/1 [==============================] - 0s 14ms/step\n",
      "1/1 [==============================] - 0s 14ms/step\n",
      "1/1 [==============================] - 0s 13ms/step\n",
      "1/1 [==============================] - 0s 13ms/step\n",
      "1/1 [==============================] - 0s 16ms/step\n",
      "1/1 [==============================] - 0s 15ms/step\n",
      "1/1 [==============================] - 0s 14ms/step\n",
      "1/1 [==============================] - 0s 14ms/step\n",
      "1/1 [==============================] - 0s 13ms/step\n",
      "1/1 [==============================] - 0s 16ms/step\n",
      "1/1 [==============================] - 0s 16ms/step\n",
      "1/1 [==============================] - 0s 15ms/step\n",
      "1/1 [==============================] - 0s 14ms/step\n",
      "1/1 [==============================] - 0s 13ms/step\n",
      "1/1 [==============================] - 0s 15ms/step\n",
      "1/1 [==============================] - 0s 14ms/step\n",
      "1/1 [==============================] - 0s 14ms/step\n",
      "1/1 [==============================] - 0s 15ms/step\n",
      "1/1 [==============================] - 0s 13ms/step\n",
      "1/1 [==============================] - 0s 12ms/step\n",
      "1/1 [==============================] - 0s 14ms/step\n",
      "1/1 [==============================] - 0s 16ms/step\n",
      "1/1 [==============================] - 0s 12ms/step\n",
      "1/1 [==============================] - 0s 13ms/step\n",
      "1/1 [==============================] - 0s 15ms/step\n",
      "1/1 [==============================] - 0s 14ms/step\n",
      "1/1 [==============================] - 0s 16ms/step\n",
      "1/1 [==============================] - 0s 13ms/step\n",
      "1/1 [==============================] - 0s 14ms/step\n",
      "1/1 [==============================] - 0s 13ms/step\n",
      "1/1 [==============================] - 0s 13ms/step\n",
      "1/1 [==============================] - 0s 20ms/step\n",
      "1/1 [==============================] - 0s 14ms/step\n",
      "1/1 [==============================] - 0s 15ms/step\n",
      "1/1 [==============================] - 0s 15ms/step\n",
      "1/1 [==============================] - 0s 16ms/step\n",
      "1/1 [==============================] - 0s 16ms/step\n",
      "1/1 [==============================] - 0s 20ms/step\n",
      "1/1 [==============================] - 0s 23ms/step\n",
      "1/1 [==============================] - 0s 15ms/step\n",
      "1/1 [==============================] - 0s 14ms/step\n",
      "1/1 [==============================] - 0s 14ms/step\n",
      "1/1 [==============================] - 0s 14ms/step\n",
      "1/1 [==============================] - 0s 20ms/step\n",
      "1/1 [==============================] - 0s 14ms/step\n",
      "1/1 [==============================] - 0s 16ms/step\n",
      "1/1 [==============================] - 0s 16ms/step\n",
      "1/1 [==============================] - 0s 19ms/step\n",
      "1/1 [==============================] - 0s 17ms/step\n",
      "1/1 [==============================] - 0s 16ms/step\n",
      "1/1 [==============================] - 0s 16ms/step\n",
      "1/1 [==============================] - 0s 13ms/step\n",
      "1/1 [==============================] - 0s 14ms/step\n",
      "1/1 [==============================] - 0s 14ms/step\n",
      "1/1 [==============================] - 0s 17ms/step\n",
      "1/1 [==============================] - 0s 17ms/step\n",
      "1/1 [==============================] - 0s 14ms/step\n",
      "1/1 [==============================] - 0s 15ms/step\n",
      "1/1 [==============================] - 0s 14ms/step\n",
      "1/1 [==============================] - 0s 14ms/step\n",
      "1/1 [==============================] - 0s 15ms/step\n",
      "1/1 [==============================] - 0s 17ms/step\n",
      "1/1 [==============================] - 0s 15ms/step\n",
      "1/1 [==============================] - 0s 15ms/step\n",
      "1/1 [==============================] - 0s 13ms/step\n",
      "1/1 [==============================] - 0s 14ms/step\n",
      "1/1 [==============================] - 0s 13ms/step\n",
      "1/1 [==============================] - 0s 14ms/step\n",
      "1/1 [==============================] - 0s 13ms/step\n",
      "1/1 [==============================] - 0s 13ms/step\n",
      "1/1 [==============================] - 0s 16ms/step\n",
      "1/1 [==============================] - 0s 15ms/step\n",
      "1/1 [==============================] - 0s 14ms/step\n",
      "1/1 [==============================] - 0s 15ms/step\n",
      "1/1 [==============================] - 0s 15ms/step\n",
      "1/1 [==============================] - 0s 14ms/step\n",
      "1/1 [==============================] - 0s 13ms/step\n",
      "1/1 [==============================] - 0s 16ms/step\n",
      "1/1 [==============================] - 0s 16ms/step\n",
      "1/1 [==============================] - 0s 13ms/step\n",
      "1/1 [==============================] - 0s 17ms/step\n",
      "1/1 [==============================] - 0s 14ms/step\n",
      "1/1 [==============================] - 0s 16ms/step\n",
      "1/1 [==============================] - 0s 15ms/step\n",
      "1/1 [==============================] - 0s 16ms/step\n",
      "1/1 [==============================] - 0s 16ms/step\n"
     ]
    }
   ],
   "source": [
    "Y_pred_sibs = []\n",
    "for i in tqdm(range(n)):\n",
    "    y_ = model.predict([ X_data[i:i+1], np.full((1), epsilon)])\n",
    "    Y_pred_sibs.append(y_[0])\n",
    "Y_pred_sibs = np.array(Y_pred_sibs)\n"
   ]
  },
  {
   "cell_type": "code",
   "execution_count": 43,
   "id": "8aa1ddbd",
   "metadata": {},
   "outputs": [],
   "source": [
    "mut03 = np.sum(\n",
    "    (np.subtract(\n",
    "        np.repeat(np.argmax(X_data[i:i+1], axis = 2), n, axis=0), \n",
    "        np.argmax(Y_pred_sibs, axis = 2)\n",
    "    ) != 0.0).astype(int), axis = 0)\n"
   ]
  },
  {
   "cell_type": "code",
   "execution_count": 44,
   "id": "7ba6feba",
   "metadata": {},
   "outputs": [],
   "source": [
    "mut04 = np.sum(\n",
    "    (np.subtract(\n",
    "        np.argmax(X_data[i:i+1], axis = 2), \n",
    "        np.argmax(Y_data[i:i+1], axis = 2)\n",
    "    ) != 0.0).astype(int), axis = 0)\n"
   ]
  },
  {
   "cell_type": "code",
   "execution_count": 45,
   "id": "31a54e9a",
   "metadata": {},
   "outputs": [
    {
     "data": {
      "image/png": "[encoded data removed]",
      "text/plain": [
       "<Figure size 1152x576 with 1 Axes>"
      ]
     },
     "metadata": {
      "needs_background": "light"
     },
     "output_type": "display_data"
    }
   ],
   "source": [
    "x_range = list(range(len(mut03)))\n",
    "plt.bar(x_range, mut03, bottom=mut04, label = 'generuotos mutacijos')\n",
    "plt.bar(x_range, mut04, label = 'stebimos mutacijos')\n",
    "#plt.ylim(0, 200.0)\n",
    "plt.xlim(0, len(mut03))\n",
    "plt.legend()\n",
    "plt.show()\n"
   ]
  },
  {
   "cell_type": "code",
   "execution_count": 46,
   "id": "a75238c9",
   "metadata": {},
   "outputs": [
    {
     "data": {
      "image/png": "[encoded data removed]",
      "text/plain": [
       "<Figure size 1152x576 with 1 Axes>"
      ]
     },
     "metadata": {
      "needs_background": "light"
     },
     "output_type": "display_data"
    }
   ],
   "source": [
    "plt.hist(mut03, bins = 30, label = 'generuotos mutacijos', fill = False, histtype='step')\n",
    "_ = plt.hist(mut04, bins = 30, label = 'stebimos mutacijos', fill = False, histtype='step')\n",
    "plt.legend()\n",
    "plt.show()\n"
   ]
  },
  {
   "cell_type": "code",
   "execution_count": 47,
   "id": "8dfd8f33",
   "metadata": {},
   "outputs": [
    {
     "data": {
      "text/html": [
       "<div style=\"width:100%; word-wrap: break-word; font-family: monospace\">PISPIETVPVKLKPGMDGPKVKQWPLTE<span style=\"background: #FF929B;\">X</span>KIKALVEICTEMEKEGKISKIGPENPYNTPVFAIKK<span style=\"background: #FF929B;\">KB</span>ST<span style=\"background: #FF929B;\">X</span>WRKLVDFRELNKRTQDFWEVQLGIPHPAGLKKXKSVTVLDVGDAYFSVPLDEDFRKYTAFTIPSLNNETPGIRYQYNVLPQGWKGSPAIFQSSMTKILEPFRKQ<span style=\"background: #FF929B;\">N</span>PDIVIYQYMDDLYVGSDLEIEQHR<span style=\"background: #FF929B;\">T</span>KIEELRQHLL<span style=\"background: #FF929B;\">R</span>WGLTTPD<span style=\"background: #FF929B;\">X</span>KHQKEPPFLWMGYELHP</div>"
      ],
      "text/plain": [
       "<IPython.core.display.HTML object>"
      ]
     },
     "metadata": {},
     "output_type": "display_data"
    },
    {
     "data": {
      "text/html": [
       "<div style=\"width:100%; word-wrap: break-word; font-family: monospace\">PISPIETVPVKLKPGMDGPKVKQWPLTE<span style=\"background: #FF929B;\">D</span>KIKALVEICTEMEKEGKISKIGPENPYNTPVFAIKK<span style=\"background: #FF929B;\">XD</span>ST<span style=\"background: #FF929B;\">K</span>WRKLVDFRELNKRTQDFWEVQLGIPHPAGLKKXKSVTVLDVGDAYFSVPLDEDFRKYTAFTIPSLNNETPGIRYQYNVLPQGWKGSPAIFQSSMTKILEPFRKQ<span style=\"background: #FF929B;\">X</span>PDIVIYQYMDDLYVGSDLEIEQHR<span style=\"background: #FF929B;\">X</span>KIEELRQHLL<span style=\"background: #FF929B;\">K</span>WGLTTPD<span style=\"background: #FF929B;\">K</span>KHQKEPPFLWMGYELHP</div>"
      ],
      "text/plain": [
       "<IPython.core.display.HTML object>"
      ]
     },
     "metadata": {},
     "output_type": "display_data"
    }
   ],
   "source": [
    "i = 5\n",
    "x1 = decode_seq(X_data[i:i+1,:,:])[0]\n",
    "y1 = decode_seq(Y_data[i:i+1,:,:])[0]\n",
    "\n",
    "_ = diff_html(x1, y1, display_a=True, display_b=True)\n"
   ]
  }
 ],
 "metadata": {
  "kernelspec": {
   "display_name": "hiv",
   "language": "python",
   "name": "hiv"
  },
  "language_info": {
   "codemirror_mode": {
    "name": "ipython",
    "version": 3
   },
   "file_extension": ".py",
   "mimetype": "text/x-python",
   "name": "python",
   "nbconvert_exporter": "python",
   "pygments_lexer": "ipython3",
   "version": "3.8.5"
  },
  "varInspector": {
   "cols": {
    "lenName": 16,
    "lenType": 16,
    "lenVar": 40
   },
   "kernels_config": {
    "python": {
     "delete_cmd_postfix": "",
     "delete_cmd_prefix": "del ",
     "library": "var_list.py",
     "varRefreshCmd": "print(var_dic_list())"
    },
    "r": {
     "delete_cmd_postfix": ") ",
     "delete_cmd_prefix": "rm(",
     "library": "var_list.r",
     "varRefreshCmd": "cat(var_dic_list()) "
    }
   },
   "types_to_exclude": [
    "module",
    "function",
    "builtin_function_or_method",
    "instance",
    "_Feature"
   ],
   "window_display": false
  }
 },
 "nbformat": 4,
 "nbformat_minor": 5
}
